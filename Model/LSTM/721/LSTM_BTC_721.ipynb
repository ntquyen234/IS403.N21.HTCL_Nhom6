{
 "cells": [
  {
   "cell_type": "code",
   "execution_count": 1,
   "metadata": {
    "colab": {
     "base_uri": "https://localhost:8080/"
    },
    "id": "FMDKda-XIUAK",
    "outputId": "be988c00-2f6c-43b6-a7bf-69a486a7845c"
   },
   "outputs": [],
   "source": [
    "# 1. Import thư viện cần thiết\n",
    "import numpy as np\n",
    "import pandas as pd\n",
    "import matplotlib.pyplot as plt\n",
    "from sklearn.preprocessing import MinMaxScaler\n",
    "from keras.models import Sequential\n",
    "from keras.layers import Dense, LSTM\n",
    "\n",
    "# import RMSE,MSE,MAPE lib\n",
    "from sklearn.metrics import mean_squared_error\n",
    "from sklearn.metrics import mean_absolute_error\n",
    "from sklearn.metrics import mean_absolute_percentage_error\n",
    "from sklearn.metrics import explained_variance_score"
   ]
  },
  {
   "cell_type": "code",
   "execution_count": 2,
   "metadata": {
    "id": "aRm9GQ8KJJ5N"
   },
   "outputs": [],
   "source": [
    "# 2. Đọc file csv và gắng index với giá Close\n",
    "df = pd.read_csv('../BTC-USD.csv')\n",
    "df1=df.reset_index()['Close']"
   ]
  },
  {
   "cell_type": "code",
   "execution_count": 3,
   "metadata": {
    "id": "RdVpDho2JgL5"
   },
   "outputs": [],
   "source": [
    "# 3. Scaler data\n",
    "scaler=MinMaxScaler(feature_range=(0,1))\n",
    "df1=scaler.fit_transform(np.array(df1).reshape(-1,1))"
   ]
  },
  {
   "cell_type": "code",
   "execution_count": 4,
   "metadata": {
    "id": "B5JXpenzJoR3"
   },
   "outputs": [],
   "source": [
    "# 4. Chia train test\n",
    "train_size = int(0.7 * len(df1))\n",
    "test_size = int(0.2 * len(df1))\n",
    "val_size = len(df1) - train_size - test_size\n",
    "\n",
    "train_data = df1[:train_size]\n",
    "test_data = df1[train_size:train_size+test_size]\n",
    "val_data = df1[train_size+test_size:]"
   ]
  },
  {
   "cell_type": "code",
   "execution_count": 5,
   "metadata": {
    "id": "yJfmuBORLSfC"
   },
   "outputs": [],
   "source": [
    "# 5. Hàm Create Dataset\n",
    "import numpy\n",
    "# convert an array of values into a dataset matrix\n",
    "def create_dataset(dataset, time_step=1):\n",
    "\tdataX, dataY = [], []\n",
    "\tfor i in range(len(dataset)-time_step-1):\n",
    "\t\ta = dataset[i:(i+time_step), 0]   ###i=0, X=0,1,2,3-----99   Y=100 \n",
    "\t\tdataX.append(a)\n",
    "\t\tdataY.append(dataset[i + time_step, 0])\n",
    "\treturn numpy.array(dataX), numpy.array(dataY)"
   ]
  },
  {
   "cell_type": "code",
   "execution_count": 6,
   "metadata": {
    "id": "e81cKq03LXFB"
   },
   "outputs": [],
   "source": [
    "#6. Reshape into X=t,t+1,t+2..t+99 and Y=t+100\n",
    "\n",
    "time_step = 100\n",
    "X_train, y_train = create_dataset(train_data, time_step)\n",
    "X_val, yval = create_dataset(val_data, time_step)\n",
    "X_test, ytest = create_dataset(test_data, time_step)"
   ]
  },
  {
   "cell_type": "code",
   "execution_count": 7,
   "metadata": {
    "id": "RdBVfku7O2qb"
   },
   "outputs": [],
   "source": [
    "# 7. Reshape input to be [samples, time steps, features] which is required for LSTM\n",
    "X_train =X_train.reshape(X_train.shape[0],X_train.shape[1] , 1)\n",
    "X_test = X_test.reshape(X_test.shape[0],X_test.shape[1] , 1)\n",
    "X_val = X_val.reshape(X_val.shape[0],X_val.shape[1] , 1)"
   ]
  },
  {
   "cell_type": "code",
   "execution_count": 8,
   "metadata": {
    "id": "sSfxrE7BO9vX"
   },
   "outputs": [],
   "source": [
    "# 8. Define LSTM Model\n",
    "\n",
    "model=Sequential()\n",
    "model.add(LSTM(50,return_sequences=True,input_shape=(100,1)))\n",
    "model.add(LSTM(50,return_sequences=True))\n",
    "model.add(LSTM(50))\n",
    "model.add(Dense(1))\n",
    "model.compile(loss='mean_squared_error',optimizer='adam')"
   ]
  },
  {
   "cell_type": "code",
   "execution_count": null,
   "metadata": {
    "colab": {
     "base_uri": "https://localhost:8080/"
    },
    "id": "zgfeujZSPEKr",
    "outputId": "87151598-3792-46b5-857d-e7626c6a63de"
   },
   "outputs": [
    {
     "name": "stdout",
     "output_type": "stream",
     "text": [
      "Epoch 1/100\n",
      "34/34 [==============================] - 16s 254ms/step - loss: 0.0013 - val_loss: 0.0197\n",
      "Epoch 2/100\n",
      "34/34 [==============================] - 7s 193ms/step - loss: 1.8628e-04 - val_loss: 0.0123\n",
      "Epoch 3/100\n",
      "34/34 [==============================] - 6s 186ms/step - loss: 1.4977e-04 - val_loss: 0.0134\n",
      "Epoch 4/100\n",
      "34/34 [==============================] - 6s 185ms/step - loss: 1.3485e-04 - val_loss: 0.0184\n",
      "Epoch 5/100\n",
      "34/34 [==============================] - 6s 181ms/step - loss: 1.2123e-04 - val_loss: 0.0249\n",
      "Epoch 6/100\n",
      "34/34 [==============================] - 6s 185ms/step - loss: 1.1081e-04 - val_loss: 0.0329\n",
      "Epoch 7/100\n",
      "34/34 [==============================] - 6s 186ms/step - loss: 1.0191e-04 - val_loss: 0.0390\n",
      "Epoch 8/100\n",
      "34/34 [==============================] - 6s 185ms/step - loss: 1.0949e-04 - val_loss: 0.0530\n",
      "Epoch 9/100\n",
      "34/34 [==============================] - 6s 186ms/step - loss: 9.6292e-05 - val_loss: 0.0410\n",
      "Epoch 10/100\n",
      "34/34 [==============================] - 7s 196ms/step - loss: 9.1053e-05 - val_loss: 0.0467\n",
      "Epoch 11/100\n",
      "34/34 [==============================] - 8s 239ms/step - loss: 8.7695e-05 - val_loss: 0.0530\n",
      "Epoch 12/100\n",
      "34/34 [==============================] - 8s 225ms/step - loss: 9.4604e-05 - val_loss: 0.0271\n",
      "Epoch 13/100\n",
      "34/34 [==============================] - 7s 195ms/step - loss: 9.7439e-05 - val_loss: 0.0365\n",
      "Epoch 14/100\n",
      "34/34 [==============================] - 6s 190ms/step - loss: 8.3473e-05 - val_loss: 0.0238\n",
      "Epoch 15/100\n",
      "34/34 [==============================] - 6s 190ms/step - loss: 8.5865e-05 - val_loss: 0.0282\n",
      "Epoch 16/100\n",
      "34/34 [==============================] - 7s 207ms/step - loss: 7.9241e-05 - val_loss: 0.0317\n",
      "Epoch 17/100\n",
      "34/34 [==============================] - 7s 199ms/step - loss: 7.3223e-05 - val_loss: 0.0232\n",
      "Epoch 18/100\n",
      "34/34 [==============================] - 8s 229ms/step - loss: 7.3790e-05 - val_loss: 0.0250\n",
      "Epoch 19/100\n",
      "34/34 [==============================] - 8s 235ms/step - loss: 7.2796e-05 - val_loss: 0.0255\n",
      "Epoch 20/100\n",
      "34/34 [==============================] - 8s 228ms/step - loss: 6.7179e-05 - val_loss: 0.0195\n",
      "Epoch 21/100\n",
      "34/34 [==============================] - 7s 212ms/step - loss: 8.0279e-05 - val_loss: 0.0219\n",
      "Epoch 22/100\n",
      "34/34 [==============================] - 7s 220ms/step - loss: 7.5447e-05 - val_loss: 0.0283\n",
      "Epoch 23/100\n",
      "34/34 [==============================] - 7s 208ms/step - loss: 7.0498e-05 - val_loss: 0.0247\n",
      "Epoch 24/100\n",
      "34/34 [==============================] - 7s 197ms/step - loss: 5.9507e-05 - val_loss: 0.0220\n",
      "Epoch 25/100\n",
      "34/34 [==============================] - 7s 200ms/step - loss: 6.0830e-05 - val_loss: 0.0182\n",
      "Epoch 26/100\n",
      "34/34 [==============================] - 7s 208ms/step - loss: 5.7016e-05 - val_loss: 0.0125\n",
      "Epoch 27/100\n",
      "26/34 [=====================>........] - ETA: 1s - loss: 5.9890e-05"
     ]
    }
   ],
   "source": [
    "# 9. Fit mô hình với dữ liệu train\n",
    "model.fit(X_train,y_train,validation_data=(X_test,ytest),epochs=100,batch_size=64,verbose=1)"
   ]
  },
  {
   "cell_type": "code",
   "execution_count": null,
   "metadata": {
    "colab": {
     "base_uri": "https://localhost:8080/"
    },
    "id": "Rxx_KQSkQpBG",
    "outputId": "838b0243-c20c-4627-f6a3-a1d23b99fffc"
   },
   "outputs": [],
   "source": [
    "# 10. Dự báo dữ liệu test, val\n",
    "train_predict=model.predict(X_train)\n",
    "y_pred=model.predict(X_test)\n",
    "y_pred_val=model.predict(X_val)"
   ]
  },
  {
   "cell_type": "code",
   "execution_count": null,
   "metadata": {
    "id": "5rwTN10LQ7rj"
   },
   "outputs": [],
   "source": [
    "# 11. Chuẩn hóa dữ liệu y_pred, y_pred_val\n",
    "train_predict=scaler.inverse_transform(train_predict)\n",
    "y_pred=scaler.inverse_transform(y_pred)\n",
    "y_pred_val=scaler.inverse_transform(y_pred_val)"
   ]
  },
  {
   "cell_type": "code",
   "execution_count": null,
   "metadata": {
    "colab": {
     "base_uri": "https://localhost:8080/"
    },
    "id": "wu_9j94kRonD",
    "outputId": "5eaf0ce1-4445-4f88-f264-ad1df25df699"
   },
   "outputs": [],
   "source": [
    "rmse = mean_squared_error(ytest, y_pred, squared=False)\n",
    "print(\"RMSE on test set: {:.3f}\".format(rmse))\n",
    "rmse = mean_squared_error(yval, y_pred_val, squared=False)\n",
    "print(\"RMSE on validation set: {:.3f}\".format(rmse))\n",
    "mape = mean_absolute_percentage_error(ytest, y_pred)\n",
    "print(\"MAPE on test set: \",mape)\n",
    "mape = mean_absolute_percentage_error(yval, y_pred_val)\n",
    "print(\"MAPE on validation set: {:.3f}\".format(mape))\n",
    "evs = explained_variance_score(ytest, y_pred)\n",
    "print(\"The explained variance score (EVS) on test set: {:.3f}\".format(evs))\n",
    "evs = explained_variance_score(yval, y_pred_val)\n",
    "print(\"The explained variance score (EVS) on validate set: {:.3f}\".format(evs))"
   ]
  },
  {
   "cell_type": "code",
   "execution_count": null,
   "metadata": {
    "colab": {
     "base_uri": "https://localhost:8080/"
    },
    "id": "izQZ1iQyYl6N",
    "outputId": "0873396e-ffed-4413-e6e9-84e9cb303174"
   },
   "outputs": [],
   "source": [
    "# 13. Dự báo 30 ngày tiếp theo\n",
    "x_input = val_data[60:].reshape(1, -1)\n",
    "x_input.shape\n",
    "\n",
    "temp_input = list(x_input)\n",
    "temp_input = temp_input[0].tolist()\n",
    "\n",
    "from numpy import array\n",
    "\n",
    "lst_output = []\n",
    "n_steps = 100\n",
    "i = 0\n",
    "while i < 30 and len(temp_input) >= n_steps:\n",
    "    if len(temp_input) > n_steps:\n",
    "        x_input = np.array(temp_input[-n_steps:])\n",
    "        print(\"{} day input {}\".format(i, x_input))\n",
    "        x_input = x_input.reshape(1, n_steps, 1)\n",
    "        yhat = model.predict(x_input, verbose=0)\n",
    "        print(\"{} day output {}\".format(i, yhat))\n",
    "        temp_input.extend(yhat[0].tolist())\n",
    "        lst_output.extend(yhat.tolist())\n",
    "        i += 1\n",
    "    else:\n",
    "        x_input = np.array(temp_input[-n_steps:])\n",
    "        x_input = x_input.reshape(1, n_steps, 1)\n",
    "        yhat = model.predict(x_input, verbose=0)\n",
    "        print(yhat[0])\n",
    "        temp_input.extend(yhat[0].tolist())\n",
    "        lst_output.extend(yhat.tolist())\n",
    "        i += 1\n"
   ]
  },
  {
   "cell_type": "code",
   "execution_count": null,
   "metadata": {
    "colab": {
     "base_uri": "https://localhost:8080/",
     "height": 430
    },
    "id": "KSa_mX51a654",
    "outputId": "a46b0393-ed53-41d8-b391-c22820d72e83"
   },
   "outputs": [],
   "source": [
    "# 14.Vẽ hình\n",
    "plt.subplots(figsize=(16, 8))\n",
    "train_data_index = pd.RangeIndex(start=0, stop=train_size, step=1)\n",
    "plt.plot(scaler.inverse_transform(train_data))\n",
    "test_data_index = pd.RangeIndex(start=train_size, stop=train_size+test_size, step=1)\n",
    "plt.plot(test_data_index,scaler.inverse_transform(test_data))\n",
    "test_data_index = pd.RangeIndex(start=train_size+101, stop=train_size+test_size, step=1)\n",
    "plt.plot(test_data_index,(y_pred))\n",
    "val_data_index = pd.RangeIndex(start=train_size+test_size, stop=train_size+test_size+val_size, step=1)\n",
    "plt.plot(val_data_index,scaler.inverse_transform(val_data))\n",
    "val_data_index = pd.RangeIndex(start=train_size+test_size+101, stop=train_size+test_size+val_size, step=1)\n",
    "plt.plot(val_data_index,y_pred_val)\n",
    "prediect_data_index = pd.RangeIndex(start=len(df1)-1, stop=len(df1)+29, step=1)\n",
    "plt.plot(prediect_data_index,scaler.inverse_transform(lst_output))\n",
    "plt.legend(['Train','Test','Predict','Validate','ValidatePred','Predict30days'])\n",
    "plt.show()"
   ]
  },
  {
   "cell_type": "code",
   "execution_count": null,
   "metadata": {},
   "outputs": [],
   "source": []
  }
 ],
 "metadata": {
  "colab": {
   "provenance": []
  },
  "kernelspec": {
   "display_name": "Python 3 (ipykernel)",
   "language": "python",
   "name": "python3"
  },
  "language_info": {
   "codemirror_mode": {
    "name": "ipython",
    "version": 3
   },
   "file_extension": ".py",
   "mimetype": "text/x-python",
   "name": "python",
   "nbconvert_exporter": "python",
   "pygments_lexer": "ipython3",
   "version": "3.9.12"
  }
 },
 "nbformat": 4,
 "nbformat_minor": 1
}

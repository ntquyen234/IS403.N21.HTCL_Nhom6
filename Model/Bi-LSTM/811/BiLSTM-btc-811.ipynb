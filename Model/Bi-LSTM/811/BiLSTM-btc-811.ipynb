{
 "cells": [
  {
   "cell_type": "code",
   "execution_count": 1,
   "metadata": {
    "colab": {
     "base_uri": "https://localhost:8080/"
    },
    "id": "FMDKda-XIUAK",
    "outputId": "105c17ca-6662-458e-af85-1e676f17ea00"
   },
   "outputs": [],
   "source": [
    "# 1. Import thư viện cần thiết\n",
    "import numpy as np\n",
    "import pandas as pd\n",
    "import matplotlib.pyplot as plt\n",
    "from sklearn.preprocessing import MinMaxScaler\n",
    "from sklearn.metrics import explained_variance_score, mean_absolute_percentage_error\n",
    "from keras.models import Sequential\n",
    "from keras.layers import Dense, LSTM, Bidirectional"
   ]
  },
  {
   "cell_type": "code",
   "execution_count": 2,
   "metadata": {
    "colab": {
     "base_uri": "https://localhost:8080/"
    },
    "id": "aRm9GQ8KJJ5N",
    "outputId": "45092e4f-29fe-4c59-d244-556df4509d41"
   },
   "outputs": [],
   "source": [
    "# 2. Đọc file csv và gắng index với giá Close\n",
    "df = pd.read_csv('../../../Data/BTC-USD.csv')\n",
    "# print(df)\n",
    "df1=df.reset_index()['Close']\n"
   ]
  },
  {
   "cell_type": "code",
   "execution_count": 3,
   "metadata": {
    "id": "RdVpDho2JgL5"
   },
   "outputs": [],
   "source": [
    "# 3. Scaler data\n",
    "scaler=MinMaxScaler(feature_range=(0,1))\n",
    "df1=scaler.fit_transform(np.array(df1).reshape(-1,1))"
   ]
  },
  {
   "cell_type": "code",
   "execution_count": 4,
   "metadata": {
    "id": "B5JXpenzJoR3"
   },
   "outputs": [],
   "source": [
    "# 4. Chia train test\n",
    "train_size = int(0.8 * len(df))\n",
    "test_size = int(0.1 * len(df))\n",
    "val_size = len(df1) - train_size - test_size\n",
    "\n",
    "train_data = df1[:train_size]\n",
    "test_data = df1[train_size:train_size+test_size]\n",
    "val_data = df1[train_size+test_size:]"
   ]
  },
  {
   "cell_type": "code",
   "execution_count": 5,
   "metadata": {
    "id": "yJfmuBORLSfC"
   },
   "outputs": [],
   "source": [
    "# 5. Hàm Create Dataset\n",
    "import numpy\n",
    "# convert an array of values into a dataset matrix\n",
    "def create_dataset(dataset, time_step=1):\n",
    "\tdataX, dataY = [], []\n",
    "\tfor i in range(len(dataset)-time_step-1):\n",
    "\t\ta = dataset[i:(i+time_step), 0]   ###i=0, X=0,1,2,3-----99   Y=100 \n",
    "\t\tdataX.append(a)\n",
    "\t\tdataY.append(dataset[i + time_step, 0])\n",
    "\treturn numpy.array(dataX), numpy.array(dataY)"
   ]
  },
  {
   "cell_type": "code",
   "execution_count": 6,
   "metadata": {
    "id": "e81cKq03LXFB"
   },
   "outputs": [],
   "source": [
    "\n",
    "\n",
    "time_step = 1\n",
    "X_train, y_train = create_dataset(train_data, time_step)\n",
    "X_val, yval = create_dataset(val_data, time_step)\n",
    "X_test, ytest = create_dataset(test_data, time_step)"
   ]
  },
  {
   "cell_type": "code",
   "execution_count": 7,
   "metadata": {
    "id": "RdBVfku7O2qb"
   },
   "outputs": [],
   "source": [
    "# 7. Reshape input to be [samples, time steps, features] which is required for LSTM\n",
    "X_train =X_train.reshape(X_train.shape[0],X_train.shape[1] , 1)\n",
    "X_test = X_test.reshape(X_test.shape[0],X_test.shape[1] , 1)\n",
    "X_val = X_val.reshape(X_val.shape[0],X_val.shape[1] , 1)"
   ]
  },
  {
   "cell_type": "code",
   "execution_count": 8,
   "metadata": {
    "id": "sSfxrE7BO9vX"
   },
   "outputs": [],
   "source": [
    "# 8. Define LSTM Model\n",
    "\n",
    "model=Sequential()\n",
    "model.add(Bidirectional(LSTM(50,return_sequences=True,input_shape=(100,1))))\n",
    "model.add(Bidirectional(LSTM(50,return_sequences=True)))\n",
    "model.add(Bidirectional(LSTM(50)))\n",
    "model.add(Dense(1))\n",
    "model.compile(loss='mean_squared_error',optimizer='adam')"
   ]
  },
  {
   "cell_type": "code",
   "execution_count": 9,
   "metadata": {
    "colab": {
     "base_uri": "https://localhost:8080/"
    },
    "id": "zgfeujZSPEKr",
    "outputId": "284a93ef-5092-4bfa-a89b-d94d882b0be6"
   },
   "outputs": [
    {
     "name": "stdout",
     "output_type": "stream",
     "text": [
      "Epoch 1/100\n",
      "40/40 [==============================] - 27s 198ms/step - loss: 0.0329 - val_loss: 0.0890\n",
      "Epoch 2/100\n",
      "40/40 [==============================] - 1s 14ms/step - loss: 0.0026 - val_loss: 0.0017\n",
      "Epoch 3/100\n",
      "40/40 [==============================] - 1s 14ms/step - loss: 2.3995e-04 - val_loss: 6.7841e-04\n",
      "Epoch 4/100\n",
      "40/40 [==============================] - 1s 18ms/step - loss: 1.6468e-04 - val_loss: 7.0697e-04\n",
      "Epoch 5/100\n",
      "40/40 [==============================] - 1s 16ms/step - loss: 1.4429e-04 - val_loss: 5.9587e-04\n",
      "Epoch 6/100\n",
      "40/40 [==============================] - 1s 17ms/step - loss: 1.2780e-04 - val_loss: 5.8842e-04\n",
      "Epoch 7/100\n",
      "40/40 [==============================] - 1s 19ms/step - loss: 1.2213e-04 - val_loss: 4.9292e-04\n",
      "Epoch 8/100\n",
      "40/40 [==============================] - 1s 19ms/step - loss: 1.1275e-04 - val_loss: 5.0244e-04\n",
      "Epoch 9/100\n",
      "40/40 [==============================] - 1s 16ms/step - loss: 1.1141e-04 - val_loss: 8.1442e-04\n",
      "Epoch 10/100\n",
      "40/40 [==============================] - 1s 19ms/step - loss: 1.1600e-04 - val_loss: 4.7938e-04\n",
      "Epoch 11/100\n",
      "40/40 [==============================] - 1s 30ms/step - loss: 1.0359e-04 - val_loss: 4.9157e-04\n",
      "Epoch 12/100\n",
      "40/40 [==============================] - 1s 22ms/step - loss: 1.1209e-04 - val_loss: 4.9332e-04\n",
      "Epoch 13/100\n",
      "40/40 [==============================] - 1s 25ms/step - loss: 1.0456e-04 - val_loss: 5.0145e-04\n",
      "Epoch 14/100\n",
      "40/40 [==============================] - 1s 18ms/step - loss: 1.0744e-04 - val_loss: 5.0938e-04\n",
      "Epoch 15/100\n",
      "40/40 [==============================] - 1s 15ms/step - loss: 1.0999e-04 - val_loss: 5.7356e-04\n",
      "Epoch 16/100\n",
      "40/40 [==============================] - 1s 16ms/step - loss: 1.0972e-04 - val_loss: 5.8824e-04\n",
      "Epoch 17/100\n",
      "40/40 [==============================] - 1s 15ms/step - loss: 1.0458e-04 - val_loss: 4.8075e-04\n",
      "Epoch 18/100\n",
      "40/40 [==============================] - 1s 16ms/step - loss: 1.1000e-04 - val_loss: 5.0183e-04\n",
      "Epoch 19/100\n",
      "40/40 [==============================] - 1s 18ms/step - loss: 1.0732e-04 - val_loss: 4.7806e-04\n",
      "Epoch 20/100\n",
      "40/40 [==============================] - 1s 15ms/step - loss: 1.0919e-04 - val_loss: 4.8713e-04\n",
      "Epoch 21/100\n",
      "40/40 [==============================] - 1s 27ms/step - loss: 1.0532e-04 - val_loss: 4.8297e-04\n",
      "Epoch 22/100\n",
      "40/40 [==============================] - 1s 18ms/step - loss: 1.0760e-04 - val_loss: 4.9347e-04\n",
      "Epoch 23/100\n",
      "40/40 [==============================] - 1s 17ms/step - loss: 1.0514e-04 - val_loss: 6.0369e-04\n",
      "Epoch 24/100\n",
      "40/40 [==============================] - 1s 14ms/step - loss: 1.3481e-04 - val_loss: 4.8304e-04\n",
      "Epoch 25/100\n",
      "40/40 [==============================] - 1s 24ms/step - loss: 1.1591e-04 - val_loss: 4.9286e-04\n",
      "Epoch 26/100\n",
      "40/40 [==============================] - 1s 18ms/step - loss: 1.1888e-04 - val_loss: 4.9866e-04\n",
      "Epoch 27/100\n",
      "40/40 [==============================] - 1s 19ms/step - loss: 1.1666e-04 - val_loss: 5.1271e-04\n",
      "Epoch 28/100\n",
      "40/40 [==============================] - 1s 15ms/step - loss: 1.1488e-04 - val_loss: 4.9324e-04\n",
      "Epoch 29/100\n",
      "40/40 [==============================] - 1s 18ms/step - loss: 1.1362e-04 - val_loss: 5.9052e-04\n",
      "Epoch 30/100\n",
      "40/40 [==============================] - 1s 15ms/step - loss: 1.1388e-04 - val_loss: 5.0167e-04\n",
      "Epoch 31/100\n",
      "40/40 [==============================] - 1s 17ms/step - loss: 1.1500e-04 - val_loss: 4.9702e-04\n",
      "Epoch 32/100\n",
      "40/40 [==============================] - 1s 16ms/step - loss: 1.0965e-04 - val_loss: 4.9875e-04\n",
      "Epoch 33/100\n",
      "40/40 [==============================] - 1s 14ms/step - loss: 1.0623e-04 - val_loss: 4.8545e-04\n",
      "Epoch 34/100\n",
      "40/40 [==============================] - 1s 29ms/step - loss: 1.0688e-04 - val_loss: 5.0420e-04\n",
      "Epoch 35/100\n",
      "40/40 [==============================] - 1s 20ms/step - loss: 1.0958e-04 - val_loss: 4.8877e-04\n",
      "Epoch 36/100\n",
      "40/40 [==============================] - 1s 16ms/step - loss: 1.0483e-04 - val_loss: 4.9444e-04\n",
      "Epoch 37/100\n",
      "40/40 [==============================] - 1s 15ms/step - loss: 1.0747e-04 - val_loss: 5.6504e-04\n",
      "Epoch 38/100\n",
      "40/40 [==============================] - 1s 17ms/step - loss: 1.2334e-04 - val_loss: 6.1018e-04\n",
      "Epoch 39/100\n",
      "40/40 [==============================] - 1s 15ms/step - loss: 1.1269e-04 - val_loss: 5.5614e-04\n",
      "Epoch 40/100\n",
      "40/40 [==============================] - 1s 17ms/step - loss: 1.1114e-04 - val_loss: 4.9334e-04\n",
      "Epoch 41/100\n",
      "40/40 [==============================] - 1s 16ms/step - loss: 1.1016e-04 - val_loss: 4.9464e-04\n",
      "Epoch 42/100\n",
      "40/40 [==============================] - 1s 20ms/step - loss: 1.1031e-04 - val_loss: 4.7921e-04\n",
      "Epoch 43/100\n",
      "40/40 [==============================] - 1s 19ms/step - loss: 1.1007e-04 - val_loss: 6.7891e-04\n",
      "Epoch 44/100\n",
      "40/40 [==============================] - 1s 13ms/step - loss: 1.1778e-04 - val_loss: 4.8999e-04\n",
      "Epoch 45/100\n",
      "40/40 [==============================] - 1s 14ms/step - loss: 1.0722e-04 - val_loss: 5.6707e-04\n",
      "Epoch 46/100\n",
      "40/40 [==============================] - 1s 16ms/step - loss: 1.0960e-04 - val_loss: 4.8229e-04\n",
      "Epoch 47/100\n",
      "40/40 [==============================] - 1s 15ms/step - loss: 1.1253e-04 - val_loss: 5.1599e-04\n",
      "Epoch 48/100\n",
      "40/40 [==============================] - 1s 17ms/step - loss: 1.1033e-04 - val_loss: 4.8325e-04\n",
      "Epoch 49/100\n",
      "40/40 [==============================] - 1s 22ms/step - loss: 1.2582e-04 - val_loss: 4.9167e-04\n",
      "Epoch 50/100\n",
      "40/40 [==============================] - 1s 20ms/step - loss: 1.1882e-04 - val_loss: 5.1075e-04\n",
      "Epoch 51/100\n",
      "40/40 [==============================] - 1s 16ms/step - loss: 1.2702e-04 - val_loss: 5.0637e-04\n",
      "Epoch 52/100\n",
      "40/40 [==============================] - 1s 14ms/step - loss: 1.2256e-04 - val_loss: 5.2307e-04\n",
      "Epoch 53/100\n",
      "40/40 [==============================] - 1s 17ms/step - loss: 1.2366e-04 - val_loss: 6.3994e-04\n",
      "Epoch 54/100\n",
      "40/40 [==============================] - 1s 15ms/step - loss: 1.2584e-04 - val_loss: 4.8038e-04\n",
      "Epoch 55/100\n",
      "40/40 [==============================] - 1s 13ms/step - loss: 1.2451e-04 - val_loss: 4.9942e-04\n",
      "Epoch 56/100\n",
      "40/40 [==============================] - 1s 14ms/step - loss: 1.1400e-04 - val_loss: 5.5883e-04\n",
      "Epoch 57/100\n",
      "40/40 [==============================] - 1s 19ms/step - loss: 1.1156e-04 - val_loss: 7.0541e-04\n",
      "Epoch 58/100\n",
      "40/40 [==============================] - 1s 15ms/step - loss: 1.3590e-04 - val_loss: 6.1671e-04\n",
      "Epoch 59/100\n",
      "40/40 [==============================] - 1s 13ms/step - loss: 1.4064e-04 - val_loss: 5.3246e-04\n",
      "Epoch 60/100\n",
      "40/40 [==============================] - 1s 22ms/step - loss: 1.1484e-04 - val_loss: 5.3011e-04\n",
      "Epoch 61/100\n",
      "40/40 [==============================] - 1s 16ms/step - loss: 1.2112e-04 - val_loss: 5.0240e-04\n",
      "Epoch 62/100\n",
      "40/40 [==============================] - 1s 19ms/step - loss: 1.0994e-04 - val_loss: 4.8385e-04\n",
      "Epoch 63/100\n",
      "40/40 [==============================] - 1s 16ms/step - loss: 1.1369e-04 - val_loss: 4.9332e-04\n",
      "Epoch 64/100\n",
      "40/40 [==============================] - 1s 14ms/step - loss: 1.1943e-04 - val_loss: 8.8982e-04\n",
      "Epoch 65/100\n",
      "40/40 [==============================] - 1s 13ms/step - loss: 1.3228e-04 - val_loss: 8.6166e-04\n",
      "Epoch 66/100\n",
      "40/40 [==============================] - 0s 11ms/step - loss: 1.2674e-04 - val_loss: 4.9620e-04\n",
      "Epoch 67/100\n",
      "40/40 [==============================] - 1s 19ms/step - loss: 1.2113e-04 - val_loss: 4.8438e-04\n",
      "Epoch 68/100\n",
      "40/40 [==============================] - 1s 16ms/step - loss: 1.2872e-04 - val_loss: 7.5896e-04\n",
      "Epoch 69/100\n",
      "40/40 [==============================] - 1s 14ms/step - loss: 1.1229e-04 - val_loss: 4.8822e-04\n",
      "Epoch 70/100\n",
      "40/40 [==============================] - 1s 14ms/step - loss: 1.1995e-04 - val_loss: 5.2268e-04\n",
      "Epoch 71/100\n",
      "40/40 [==============================] - 1s 14ms/step - loss: 1.2218e-04 - val_loss: 5.7291e-04\n",
      "Epoch 72/100\n",
      "40/40 [==============================] - 1s 14ms/step - loss: 1.0602e-04 - val_loss: 4.8525e-04\n",
      "Epoch 73/100\n",
      "40/40 [==============================] - 1s 14ms/step - loss: 1.1961e-04 - val_loss: 4.9304e-04\n",
      "Epoch 74/100\n",
      "40/40 [==============================] - 1s 14ms/step - loss: 1.2311e-04 - val_loss: 5.5374e-04\n",
      "Epoch 75/100\n",
      "40/40 [==============================] - 1s 14ms/step - loss: 1.3396e-04 - val_loss: 4.8412e-04\n",
      "Epoch 76/100\n",
      "40/40 [==============================] - 1s 15ms/step - loss: 1.2057e-04 - val_loss: 5.3244e-04\n",
      "Epoch 77/100\n",
      "40/40 [==============================] - 1s 23ms/step - loss: 1.1520e-04 - val_loss: 4.9678e-04\n",
      "Epoch 78/100\n",
      "40/40 [==============================] - 1s 15ms/step - loss: 1.0690e-04 - val_loss: 6.1620e-04\n",
      "Epoch 79/100\n",
      "40/40 [==============================] - 1s 14ms/step - loss: 1.1692e-04 - val_loss: 6.1716e-04\n",
      "Epoch 80/100\n",
      "40/40 [==============================] - 1s 17ms/step - loss: 1.2287e-04 - val_loss: 4.9910e-04\n",
      "Epoch 81/100\n",
      "40/40 [==============================] - 1s 17ms/step - loss: 1.2390e-04 - val_loss: 4.8750e-04\n",
      "Epoch 82/100\n",
      "40/40 [==============================] - 1s 18ms/step - loss: 1.1297e-04 - val_loss: 5.3253e-04\n",
      "Epoch 83/100\n",
      "40/40 [==============================] - 1s 17ms/step - loss: 1.0553e-04 - val_loss: 5.2077e-04\n",
      "Epoch 84/100\n",
      "40/40 [==============================] - 1s 13ms/step - loss: 1.0746e-04 - val_loss: 5.5072e-04\n",
      "Epoch 85/100\n",
      "40/40 [==============================] - 1s 13ms/step - loss: 1.1788e-04 - val_loss: 5.0866e-04\n",
      "Epoch 86/100\n",
      "40/40 [==============================] - 1s 14ms/step - loss: 1.0855e-04 - val_loss: 5.1467e-04\n",
      "Epoch 87/100\n",
      "40/40 [==============================] - 1s 14ms/step - loss: 1.2216e-04 - val_loss: 6.8939e-04\n",
      "Epoch 88/100\n",
      "40/40 [==============================] - 1s 15ms/step - loss: 1.1583e-04 - val_loss: 4.9943e-04\n",
      "Epoch 89/100\n",
      "40/40 [==============================] - 1s 14ms/step - loss: 1.1068e-04 - val_loss: 5.4225e-04\n",
      "Epoch 90/100\n",
      "40/40 [==============================] - 1s 14ms/step - loss: 1.3458e-04 - val_loss: 5.7018e-04\n",
      "Epoch 91/100\n",
      "40/40 [==============================] - 1s 13ms/step - loss: 1.0736e-04 - val_loss: 4.8771e-04\n",
      "Epoch 92/100\n",
      "40/40 [==============================] - 1s 24ms/step - loss: 1.1884e-04 - val_loss: 5.4405e-04\n",
      "Epoch 93/100\n",
      "40/40 [==============================] - 1s 18ms/step - loss: 1.0816e-04 - val_loss: 7.4338e-04\n",
      "Epoch 94/100\n",
      "40/40 [==============================] - 1s 13ms/step - loss: 1.3502e-04 - val_loss: 6.2228e-04\n",
      "Epoch 95/100\n",
      "40/40 [==============================] - 1s 13ms/step - loss: 1.1649e-04 - val_loss: 4.9144e-04\n",
      "Epoch 96/100\n",
      "40/40 [==============================] - 1s 15ms/step - loss: 1.1152e-04 - val_loss: 4.8976e-04\n",
      "Epoch 97/100\n",
      "40/40 [==============================] - 1s 14ms/step - loss: 1.2321e-04 - val_loss: 4.8186e-04\n",
      "Epoch 98/100\n",
      "40/40 [==============================] - 1s 15ms/step - loss: 1.1855e-04 - val_loss: 6.0232e-04\n",
      "Epoch 99/100\n",
      "40/40 [==============================] - 1s 16ms/step - loss: 1.5278e-04 - val_loss: 5.0617e-04\n",
      "Epoch 100/100\n",
      "40/40 [==============================] - 1s 15ms/step - loss: 1.1217e-04 - val_loss: 4.9958e-04\n"
     ]
    },
    {
     "data": {
      "text/plain": [
       "<keras.callbacks.History at 0x228b0c16390>"
      ]
     },
     "execution_count": 9,
     "metadata": {},
     "output_type": "execute_result"
    }
   ],
   "source": [
    "# 9. Fit mô hình với dữ liệu train\n",
    "model.fit(X_train,y_train,validation_data=(X_test,ytest),epochs=100,batch_size=64,verbose=1)"
   ]
  },
  {
   "cell_type": "code",
   "execution_count": 10,
   "metadata": {
    "id": "Rxx_KQSkQpBG"
   },
   "outputs": [
    {
     "name": "stdout",
     "output_type": "stream",
     "text": [
      "80/80 [==============================] - 6s 4ms/step\n",
      "10/10 [==============================] - 0s 5ms/step\n",
      "10/10 [==============================] - 0s 6ms/step\n"
     ]
    }
   ],
   "source": [
    "# 10. Dự báo dữ liệu test, val\n",
    "train_predict=model.predict(X_train)\n",
    "y_pred=model.predict(X_test)\n",
    "y_pred_val=model.predict(X_val)"
   ]
  },
  {
   "cell_type": "code",
   "execution_count": 11,
   "metadata": {
    "id": "wu_9j94kRonD"
   },
   "outputs": [
    {
     "name": "stdout",
     "output_type": "stream",
     "text": [
      "Testing RMSE: 0.2555303108312016\n",
      "The mean absolute percentage error (MAPE) on test set: 0.028\n",
      "The explained variance score (EVS) on test set: 0.985\n"
     ]
    }
   ],
   "source": [
    "# 12. Đánh giá độ chính xác thuật toán bằng RMSE\n",
    "valid_rmse = np.sqrt(np.mean((y_pred_val - yval)**2))\n",
    "test_rmse = np.sqrt(np.mean((y_pred - ytest)**2))\n",
    "print('Testing RMSE:', test_rmse)\n",
    "#MAPE\n",
    "mape = mean_absolute_percentage_error(ytest, y_pred)\n",
    "print(\"The mean absolute percentage error (MAPE) on test set: {:.3f}\".format(mape))\n",
    "# EVS\n",
    "evs = explained_variance_score(ytest, y_pred)\n",
    "print(\"The explained variance score (EVS) on test set: {:.3f}\".format(evs))\n"
   ]
  },
  {
   "cell_type": "code",
   "execution_count": 12,
   "metadata": {
    "id": "5rwTN10LQ7rj"
   },
   "outputs": [],
   "source": [
    "# 11. Chuẩn hóa dữ liệu y_pred, y_pred_val\n",
    "train_predict=scaler.inverse_transform(train_predict)\n",
    "y_pred=scaler.inverse_transform(y_pred)\n",
    "y_pred_val=scaler.inverse_transform(y_pred_val)\n",
    "train_data=scaler.inverse_transform(train_data)\n",
    "test_data=scaler.inverse_transform(test_data)\n",
    "val_data=scaler.inverse_transform(val_data)"
   ]
  },
  {
   "cell_type": "code",
   "execution_count": 13,
   "metadata": {
    "id": "izQZ1iQyYl6N"
   },
   "outputs": [],
   "source": [
    "# 13. Dự báo 30 ngày tiếp theo\n",
    "x_input=val_data[1:].reshape(1,-1)\n",
    "x_input.shape\n",
    "\n",
    "temp_input=list(x_input)\n",
    "temp_input=temp_input[0].tolist()\n",
    "\n",
    "from numpy import array\n",
    "\n",
    "lst_output=[]\n",
    "n_steps=x_input.shape[1]\n",
    "i=0\n",
    "while(i<30):\n",
    "    \n",
    "    if(len(temp_input)>100):\n",
    "        #print(temp_input)\n",
    "        x_input=np.array(temp_input[1:])\n",
    "        # print(\"{} day input {}\".format(i,x_input))\n",
    "        x_input=x_input.reshape(1,-1)\n",
    "        x_input = x_input.reshape((1, x_input.shape[1], 1))\n",
    "        #print(x_input)\n",
    "        yhat = model.predict(x_input, verbose=0)\n",
    "        # print(\"{} day output {}\".format(i,yhat))\n",
    "        temp_input.extend(yhat[0].tolist())\n",
    "        temp_input=temp_input[1:]\n",
    "        #print(temp_input)\n",
    "        lst_output.extend(yhat.tolist())\n",
    "        i=i+1\n",
    "    else:\n",
    "        x_input = x_input.reshape((1, x_input.shape[1],1))\n",
    "        yhat = model.predict(x_input, verbose=0)\n",
    "        # print(yhat[0])\n",
    "        temp_input.extend(yhat[0].tolist())\n",
    "        # print(len(temp_input))\n",
    "        lst_output.extend(yhat.tolist())\n",
    "        i=i+1\n"
   ]
  },
  {
   "cell_type": "code",
   "execution_count": 14,
   "metadata": {},
   "outputs": [],
   "source": [
    "df_train = pd.DataFrame(train_data)\n",
    "df_test = pd.DataFrame(test_data)\n",
    "df_test.index += df_train.index.stop\n",
    "df_val = pd.DataFrame(val_data)\n",
    "df_val.index += df_test.index.stop"
   ]
  },
  {
   "cell_type": "code",
   "execution_count": 15,
   "metadata": {},
   "outputs": [
    {
     "data": {
      "image/png": "[encoded data removed]",
      "text/plain": [
       "<Figure size 640x480 with 1 Axes>"
      ]
     },
     "metadata": {},
     "output_type": "display_data"
    }
   ],
   "source": [
    "df_train = pd.DataFrame(train_data)\n",
    "df_test = pd.DataFrame(test_data)\n",
    "df_test.index += df_train.index.stop\n",
    "df_val = pd.DataFrame(val_data)\n",
    "df_val.index += df_test.index.stop\n",
    "lst_output = scaler.inverse_transform(lst_output)\n",
    "plt.plot(df_train.index, df_train)\n",
    "plt.plot(df_test.index, df_test)\n",
    "plt.plot(pd.RangeIndex(start=df_test.index.start, stop=df_test.index.stop-2), y_pred)\n",
    "plt.plot(df_val.index, df_val)\n",
    "plt.plot(pd.RangeIndex(start=df_val.index.start, stop=df_val.index.stop-2), y_pred_val)\n",
    "\n",
    "plt.legend(['Train','Test','Predict','Validate','ValidatePred','Predict30days'])\n",
    "plt.show()"
   ]
  }
 ],
 "metadata": {
  "colab": {
   "provenance": []
  },
  "kernelspec": {
   "display_name": "Python 3 (ipykernel)",
   "language": "python",
   "name": "python3"
  },
  "language_info": {
   "codemirror_mode": {
    "name": "ipython",
    "version": 3
   },
   "file_extension": ".py",
   "mimetype": "text/x-python",
   "name": "python",
   "nbconvert_exporter": "python",
   "pygments_lexer": "ipython3",
   "version": "3.11.2"
  }
 },
 "nbformat": 4,
 "nbformat_minor": 1
}

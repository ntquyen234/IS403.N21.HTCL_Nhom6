{
 "cells": [
  {
   "cell_type": "code",
   "execution_count": 1,
   "metadata": {
    "colab": {
     "base_uri": "https://localhost:8080/"
    },
    "id": "FMDKda-XIUAK",
    "outputId": "105c17ca-6662-458e-af85-1e676f17ea00"
   },
   "outputs": [],
   "source": [
    "# 1. Import thư viện cần thiết\n",
    "import numpy as np\n",
    "import pandas as pd\n",
    "import matplotlib.pyplot as plt\n",
    "from sklearn.preprocessing import MinMaxScaler\n",
    "from sklearn.metrics import explained_variance_score, mean_absolute_percentage_error\n",
    "from keras.models import Sequential\n",
    "from keras.layers import Dense, LSTM, Bidirectional"
   ]
  },
  {
   "cell_type": "code",
   "execution_count": 2,
   "metadata": {
    "colab": {
     "base_uri": "https://localhost:8080/"
    },
    "id": "aRm9GQ8KJJ5N",
    "outputId": "45092e4f-29fe-4c59-d244-556df4509d41"
   },
   "outputs": [],
   "source": [
    "# 2. Đọc file csv và gắng index với giá Close\n",
    "df = pd.read_csv('../../../Data/BNB-USD.csv')\n",
    "# print(df)\n",
    "df1=df.reset_index()['Close']\n"
   ]
  },
  {
   "cell_type": "code",
   "execution_count": 3,
   "metadata": {
    "id": "RdVpDho2JgL5"
   },
   "outputs": [],
   "source": [
    "# 3. Scaler data\n",
    "scaler=MinMaxScaler(feature_range=(0,1))\n",
    "df1=scaler.fit_transform(np.array(df1).reshape(-1,1))"
   ]
  },
  {
   "cell_type": "code",
   "execution_count": 4,
   "metadata": {
    "id": "B5JXpenzJoR3"
   },
   "outputs": [],
   "source": [
    "# 4. Chia train test\n",
    "train_size = int(0.8 * len(df))\n",
    "test_size = int(0.1 * len(df))\n",
    "val_size = len(df1) - train_size - test_size\n",
    "\n",
    "train_data = df1[:train_size]\n",
    "test_data = df1[train_size:train_size+test_size]\n",
    "val_data = df1[train_size+test_size:]"
   ]
  },
  {
   "cell_type": "code",
   "execution_count": 5,
   "metadata": {
    "id": "yJfmuBORLSfC"
   },
   "outputs": [],
   "source": [
    "# 5. Hàm Create Dataset\n",
    "import numpy\n",
    "# convert an array of values into a dataset matrix\n",
    "def create_dataset(dataset, time_step=1):\n",
    "\tdataX, dataY = [], []\n",
    "\tfor i in range(len(dataset)-time_step-1):\n",
    "\t\ta = dataset[i:(i+time_step), 0]   ###i=0, X=0,1,2,3-----99   Y=100 \n",
    "\t\tdataX.append(a)\n",
    "\t\tdataY.append(dataset[i + time_step, 0])\n",
    "\treturn numpy.array(dataX), numpy.array(dataY)"
   ]
  },
  {
   "cell_type": "code",
   "execution_count": 6,
   "metadata": {
    "id": "e81cKq03LXFB"
   },
   "outputs": [],
   "source": [
    "\n",
    "\n",
    "time_step = 1\n",
    "X_train, y_train = create_dataset(train_data, time_step)\n",
    "X_val, yval = create_dataset(val_data, time_step)\n",
    "X_test, ytest = create_dataset(test_data, time_step)"
   ]
  },
  {
   "cell_type": "code",
   "execution_count": 7,
   "metadata": {
    "id": "RdBVfku7O2qb"
   },
   "outputs": [],
   "source": [
    "# 7. Reshape input to be [samples, time steps, features] which is required for LSTM\n",
    "X_train =X_train.reshape(X_train.shape[0],X_train.shape[1] , 1)\n",
    "X_test = X_test.reshape(X_test.shape[0],X_test.shape[1] , 1)\n",
    "X_val = X_val.reshape(X_val.shape[0],X_val.shape[1] , 1)"
   ]
  },
  {
   "cell_type": "code",
   "execution_count": 8,
   "metadata": {
    "id": "sSfxrE7BO9vX"
   },
   "outputs": [],
   "source": [
    "# 8. Define LSTM Model\n",
    "\n",
    "model=Sequential()\n",
    "model.add(Bidirectional(LSTM(50,return_sequences=True,input_shape=(100,1))))\n",
    "model.add(Bidirectional(LSTM(50,return_sequences=True)))\n",
    "model.add(Bidirectional(LSTM(50)))\n",
    "model.add(Dense(1))\n",
    "model.compile(loss='mean_squared_error',optimizer='adam')"
   ]
  },
  {
   "cell_type": "code",
   "execution_count": 9,
   "metadata": {
    "colab": {
     "base_uri": "https://localhost:8080/"
    },
    "id": "zgfeujZSPEKr",
    "outputId": "284a93ef-5092-4bfa-a89b-d94d882b0be6"
   },
   "outputs": [
    {
     "name": "stdout",
     "output_type": "stream",
     "text": [
      "Epoch 1/100\n",
      "26/26 [==============================] - 23s 155ms/step - loss: 0.0823 - val_loss: 0.0192\n",
      "Epoch 2/100\n",
      "26/26 [==============================] - 0s 11ms/step - loss: 0.0278 - val_loss: 0.0025\n",
      "Epoch 3/100\n",
      "26/26 [==============================] - 0s 15ms/step - loss: 0.0015 - val_loss: 7.4268e-04\n",
      "Epoch 4/100\n",
      "26/26 [==============================] - 0s 11ms/step - loss: 7.4035e-04 - val_loss: 7.1908e-04\n",
      "Epoch 5/100\n",
      "26/26 [==============================] - 0s 11ms/step - loss: 6.2453e-04 - val_loss: 0.0013\n",
      "Epoch 6/100\n",
      "26/26 [==============================] - 0s 11ms/step - loss: 5.6160e-04 - val_loss: 7.7331e-04\n",
      "Epoch 7/100\n",
      "26/26 [==============================] - 0s 12ms/step - loss: 5.0273e-04 - val_loss: 6.9861e-04\n",
      "Epoch 8/100\n",
      "26/26 [==============================] - 0s 14ms/step - loss: 4.7931e-04 - val_loss: 3.7246e-04\n",
      "Epoch 9/100\n",
      "26/26 [==============================] - 0s 11ms/step - loss: 4.6774e-04 - val_loss: 4.3742e-04\n",
      "Epoch 10/100\n",
      "26/26 [==============================] - 0s 11ms/step - loss: 4.2741e-04 - val_loss: 3.9961e-04\n",
      "Epoch 11/100\n",
      "26/26 [==============================] - 0s 11ms/step - loss: 4.0360e-04 - val_loss: 6.9181e-04\n",
      "Epoch 12/100\n",
      "26/26 [==============================] - 0s 11ms/step - loss: 4.3285e-04 - val_loss: 3.0789e-04\n",
      "Epoch 13/100\n",
      "26/26 [==============================] - 0s 10ms/step - loss: 3.8574e-04 - val_loss: 3.8401e-04\n",
      "Epoch 14/100\n",
      "26/26 [==============================] - 0s 12ms/step - loss: 3.8452e-04 - val_loss: 3.4474e-04\n",
      "Epoch 15/100\n",
      "26/26 [==============================] - 1s 25ms/step - loss: 3.7287e-04 - val_loss: 3.2920e-04\n",
      "Epoch 16/100\n",
      "26/26 [==============================] - 0s 12ms/step - loss: 3.6697e-04 - val_loss: 3.0199e-04\n",
      "Epoch 17/100\n",
      "26/26 [==============================] - 0s 10ms/step - loss: 3.7806e-04 - val_loss: 2.9903e-04\n",
      "Epoch 18/100\n",
      "26/26 [==============================] - 0s 10ms/step - loss: 3.6681e-04 - val_loss: 3.2595e-04\n",
      "Epoch 19/100\n",
      "26/26 [==============================] - 0s 10ms/step - loss: 3.7527e-04 - val_loss: 3.9913e-04\n",
      "Epoch 20/100\n",
      "26/26 [==============================] - 0s 10ms/step - loss: 3.7811e-04 - val_loss: 3.0224e-04\n",
      "Epoch 21/100\n",
      "26/26 [==============================] - 0s 9ms/step - loss: 3.6955e-04 - val_loss: 3.9893e-04\n",
      "Epoch 22/100\n",
      "26/26 [==============================] - 0s 11ms/step - loss: 3.9151e-04 - val_loss: 4.3913e-04\n",
      "Epoch 23/100\n",
      "26/26 [==============================] - 0s 11ms/step - loss: 4.1299e-04 - val_loss: 3.7170e-04\n",
      "Epoch 24/100\n",
      "26/26 [==============================] - 0s 11ms/step - loss: 3.9768e-04 - val_loss: 5.0923e-04\n",
      "Epoch 25/100\n",
      "26/26 [==============================] - 0s 13ms/step - loss: 3.5885e-04 - val_loss: 3.2715e-04\n",
      "Epoch 26/100\n",
      "26/26 [==============================] - 0s 12ms/step - loss: 3.6900e-04 - val_loss: 2.9912e-04\n",
      "Epoch 27/100\n",
      "26/26 [==============================] - 0s 13ms/step - loss: 4.1462e-04 - val_loss: 3.0630e-04\n",
      "Epoch 28/100\n",
      "26/26 [==============================] - 0s 15ms/step - loss: 3.7615e-04 - val_loss: 2.9634e-04\n",
      "Epoch 29/100\n",
      "26/26 [==============================] - 0s 15ms/step - loss: 4.2217e-04 - val_loss: 3.5022e-04\n",
      "Epoch 30/100\n",
      "26/26 [==============================] - 0s 17ms/step - loss: 3.7964e-04 - val_loss: 3.0305e-04\n",
      "Epoch 31/100\n",
      "26/26 [==============================] - 0s 19ms/step - loss: 3.7447e-04 - val_loss: 3.0193e-04\n",
      "Epoch 32/100\n",
      "26/26 [==============================] - 0s 17ms/step - loss: 3.6612e-04 - val_loss: 4.4777e-04\n",
      "Epoch 33/100\n",
      "26/26 [==============================] - 0s 18ms/step - loss: 3.7552e-04 - val_loss: 5.2216e-04\n",
      "Epoch 34/100\n",
      "26/26 [==============================] - 0s 15ms/step - loss: 3.8229e-04 - val_loss: 3.8948e-04\n",
      "Epoch 35/100\n",
      "26/26 [==============================] - 1s 20ms/step - loss: 3.6544e-04 - val_loss: 3.4379e-04\n",
      "Epoch 36/100\n",
      "26/26 [==============================] - 0s 17ms/step - loss: 3.6224e-04 - val_loss: 2.9365e-04\n",
      "Epoch 37/100\n",
      "26/26 [==============================] - 1s 21ms/step - loss: 3.6337e-04 - val_loss: 3.0017e-04\n",
      "Epoch 38/100\n",
      "26/26 [==============================] - 0s 19ms/step - loss: 3.5711e-04 - val_loss: 3.2418e-04\n",
      "Epoch 39/100\n",
      "26/26 [==============================] - 1s 28ms/step - loss: 3.5469e-04 - val_loss: 2.9881e-04\n",
      "Epoch 40/100\n",
      "26/26 [==============================] - 1s 25ms/step - loss: 3.8749e-04 - val_loss: 2.9396e-04\n",
      "Epoch 41/100\n",
      "26/26 [==============================] - 1s 34ms/step - loss: 3.6228e-04 - val_loss: 2.9560e-04\n",
      "Epoch 42/100\n",
      "26/26 [==============================] - 0s 19ms/step - loss: 3.7038e-04 - val_loss: 3.2396e-04\n",
      "Epoch 43/100\n",
      "26/26 [==============================] - 1s 20ms/step - loss: 3.7343e-04 - val_loss: 5.3761e-04\n",
      "Epoch 44/100\n",
      "26/26 [==============================] - 1s 21ms/step - loss: 3.7790e-04 - val_loss: 3.2510e-04\n",
      "Epoch 45/100\n",
      "26/26 [==============================] - 1s 23ms/step - loss: 3.8090e-04 - val_loss: 3.2983e-04\n",
      "Epoch 46/100\n",
      "26/26 [==============================] - 1s 20ms/step - loss: 3.8839e-04 - val_loss: 3.0401e-04\n",
      "Epoch 47/100\n",
      "26/26 [==============================] - 0s 17ms/step - loss: 3.9005e-04 - val_loss: 3.1222e-04\n",
      "Epoch 48/100\n",
      "26/26 [==============================] - 0s 18ms/step - loss: 3.6735e-04 - val_loss: 3.5058e-04\n",
      "Epoch 49/100\n",
      "26/26 [==============================] - 0s 15ms/step - loss: 3.7583e-04 - val_loss: 2.9715e-04\n",
      "Epoch 50/100\n",
      "26/26 [==============================] - 0s 19ms/step - loss: 3.8574e-04 - val_loss: 3.2016e-04\n",
      "Epoch 51/100\n",
      "26/26 [==============================] - 0s 16ms/step - loss: 3.7033e-04 - val_loss: 3.2850e-04\n",
      "Epoch 52/100\n",
      "26/26 [==============================] - 1s 21ms/step - loss: 3.9034e-04 - val_loss: 2.9676e-04\n",
      "Epoch 53/100\n",
      "26/26 [==============================] - 1s 23ms/step - loss: 3.7848e-04 - val_loss: 6.5370e-04\n",
      "Epoch 54/100\n",
      "26/26 [==============================] - 1s 22ms/step - loss: 4.7635e-04 - val_loss: 3.0757e-04\n",
      "Epoch 55/100\n",
      "26/26 [==============================] - 1s 34ms/step - loss: 4.4320e-04 - val_loss: 3.0507e-04\n",
      "Epoch 56/100\n",
      "26/26 [==============================] - 1s 21ms/step - loss: 3.8298e-04 - val_loss: 3.1911e-04\n",
      "Epoch 57/100\n",
      "26/26 [==============================] - 1s 20ms/step - loss: 3.9166e-04 - val_loss: 5.8123e-04\n",
      "Epoch 58/100\n",
      "26/26 [==============================] - 0s 17ms/step - loss: 4.0793e-04 - val_loss: 2.9813e-04\n",
      "Epoch 59/100\n",
      "26/26 [==============================] - 0s 18ms/step - loss: 3.8353e-04 - val_loss: 5.0546e-04\n",
      "Epoch 60/100\n",
      "26/26 [==============================] - 1s 23ms/step - loss: 4.5793e-04 - val_loss: 3.2080e-04\n",
      "Epoch 61/100\n",
      "26/26 [==============================] - 1s 24ms/step - loss: 4.6000e-04 - val_loss: 3.6404e-04\n",
      "Epoch 62/100\n",
      "26/26 [==============================] - 0s 17ms/step - loss: 3.6079e-04 - val_loss: 3.4453e-04\n",
      "Epoch 63/100\n",
      "26/26 [==============================] - 0s 19ms/step - loss: 3.7716e-04 - val_loss: 3.0316e-04\n",
      "Epoch 64/100\n",
      "26/26 [==============================] - 0s 18ms/step - loss: 3.6833e-04 - val_loss: 3.1187e-04\n",
      "Epoch 65/100\n",
      "26/26 [==============================] - 0s 19ms/step - loss: 3.6086e-04 - val_loss: 3.3315e-04\n",
      "Epoch 66/100\n",
      "26/26 [==============================] - 0s 18ms/step - loss: 3.7579e-04 - val_loss: 5.3942e-04\n",
      "Epoch 67/100\n",
      "26/26 [==============================] - 0s 18ms/step - loss: 3.7458e-04 - val_loss: 2.9872e-04\n",
      "Epoch 68/100\n",
      "26/26 [==============================] - 1s 23ms/step - loss: 3.7109e-04 - val_loss: 3.2509e-04\n",
      "Epoch 69/100\n",
      "26/26 [==============================] - 0s 16ms/step - loss: 3.6959e-04 - val_loss: 4.8845e-04\n",
      "Epoch 70/100\n",
      "26/26 [==============================] - 0s 16ms/step - loss: 3.8213e-04 - val_loss: 3.1186e-04\n",
      "Epoch 71/100\n",
      "26/26 [==============================] - 0s 17ms/step - loss: 3.5587e-04 - val_loss: 2.9892e-04\n",
      "Epoch 72/100\n",
      "26/26 [==============================] - 0s 16ms/step - loss: 3.5712e-04 - val_loss: 5.2503e-04\n",
      "Epoch 73/100\n",
      "26/26 [==============================] - 1s 48ms/step - loss: 3.6887e-04 - val_loss: 3.2803e-04\n",
      "Epoch 74/100\n",
      "26/26 [==============================] - 1s 21ms/step - loss: 3.6158e-04 - val_loss: 3.0694e-04\n",
      "Epoch 75/100\n",
      "26/26 [==============================] - 0s 17ms/step - loss: 3.6389e-04 - val_loss: 3.2773e-04\n",
      "Epoch 76/100\n",
      "26/26 [==============================] - 0s 17ms/step - loss: 3.6057e-04 - val_loss: 3.1596e-04\n",
      "Epoch 77/100\n",
      "26/26 [==============================] - 0s 19ms/step - loss: 3.6172e-04 - val_loss: 3.3153e-04\n",
      "Epoch 78/100\n",
      "26/26 [==============================] - 0s 19ms/step - loss: 4.0708e-04 - val_loss: 3.8937e-04\n",
      "Epoch 79/100\n",
      "26/26 [==============================] - 0s 17ms/step - loss: 4.0071e-04 - val_loss: 3.3741e-04\n",
      "Epoch 80/100\n",
      "26/26 [==============================] - 0s 18ms/step - loss: 4.2853e-04 - val_loss: 4.8075e-04\n",
      "Epoch 81/100\n",
      "26/26 [==============================] - 0s 16ms/step - loss: 3.8887e-04 - val_loss: 2.9506e-04\n",
      "Epoch 82/100\n",
      "26/26 [==============================] - 0s 16ms/step - loss: 3.7655e-04 - val_loss: 3.0062e-04\n",
      "Epoch 83/100\n",
      "26/26 [==============================] - 0s 18ms/step - loss: 3.8789e-04 - val_loss: 3.0063e-04\n",
      "Epoch 84/100\n",
      "26/26 [==============================] - 1s 27ms/step - loss: 3.6542e-04 - val_loss: 3.0662e-04\n",
      "Epoch 85/100\n",
      "26/26 [==============================] - 0s 18ms/step - loss: 3.6624e-04 - val_loss: 7.2356e-04\n",
      "Epoch 86/100\n",
      "26/26 [==============================] - 0s 18ms/step - loss: 3.9017e-04 - val_loss: 3.1656e-04\n",
      "Epoch 87/100\n",
      "26/26 [==============================] - 0s 16ms/step - loss: 4.0441e-04 - val_loss: 3.9277e-04\n",
      "Epoch 88/100\n",
      "26/26 [==============================] - 0s 16ms/step - loss: 4.0320e-04 - val_loss: 2.9902e-04\n",
      "Epoch 89/100\n",
      "26/26 [==============================] - 0s 15ms/step - loss: 4.1596e-04 - val_loss: 5.9541e-04\n",
      "Epoch 90/100\n",
      "26/26 [==============================] - 0s 15ms/step - loss: 4.1296e-04 - val_loss: 3.0481e-04\n",
      "Epoch 91/100\n",
      "26/26 [==============================] - 0s 16ms/step - loss: 4.0158e-04 - val_loss: 6.1497e-04\n",
      "Epoch 92/100\n",
      "26/26 [==============================] - 0s 18ms/step - loss: 3.7319e-04 - val_loss: 3.0906e-04\n",
      "Epoch 93/100\n",
      "26/26 [==============================] - 0s 19ms/step - loss: 3.7825e-04 - val_loss: 3.1564e-04\n",
      "Epoch 94/100\n",
      "26/26 [==============================] - 1s 27ms/step - loss: 3.6244e-04 - val_loss: 2.9282e-04\n",
      "Epoch 95/100\n",
      "26/26 [==============================] - 1s 26ms/step - loss: 3.7712e-04 - val_loss: 3.0025e-04\n",
      "Epoch 96/100\n",
      "26/26 [==============================] - 1s 20ms/step - loss: 3.7669e-04 - val_loss: 3.5476e-04\n",
      "Epoch 97/100\n",
      "26/26 [==============================] - 0s 19ms/step - loss: 3.8417e-04 - val_loss: 3.1592e-04\n",
      "Epoch 98/100\n",
      "26/26 [==============================] - 0s 15ms/step - loss: 3.7994e-04 - val_loss: 3.0236e-04\n",
      "Epoch 99/100\n",
      "26/26 [==============================] - 0s 17ms/step - loss: 3.6074e-04 - val_loss: 3.7980e-04\n",
      "Epoch 100/100\n",
      "26/26 [==============================] - 1s 21ms/step - loss: 3.7026e-04 - val_loss: 3.0308e-04\n"
     ]
    },
    {
     "data": {
      "text/plain": [
       "<keras.callbacks.History at 0x281d9b65890>"
      ]
     },
     "execution_count": 9,
     "metadata": {},
     "output_type": "execute_result"
    }
   ],
   "source": [
    "# 9. Fit mô hình với dữ liệu train\n",
    "model.fit(X_train,y_train,validation_data=(X_test,ytest),epochs=100,batch_size=64,verbose=1)"
   ]
  },
  {
   "cell_type": "code",
   "execution_count": 10,
   "metadata": {
    "id": "Rxx_KQSkQpBG"
   },
   "outputs": [
    {
     "name": "stdout",
     "output_type": "stream",
     "text": [
      "52/52 [==============================] - 15s 4ms/step\n",
      "7/7 [==============================] - 0s 4ms/step\n",
      "7/7 [==============================] - 0s 6ms/step\n"
     ]
    }
   ],
   "source": [
    "# 10. Dự báo dữ liệu test, val\n",
    "train_predict=model.predict(X_train)\n",
    "y_pred=model.predict(X_test)\n",
    "y_pred_val=model.predict(X_val)"
   ]
  },
  {
   "cell_type": "code",
   "execution_count": 11,
   "metadata": {
    "id": "wu_9j94kRonD"
   },
   "outputs": [
    {
     "name": "stdout",
     "output_type": "stream",
     "text": [
      "Testing RMSE: 0.07428319690455722\n",
      "The mean absolute percentage error (MAPE) on test set: 0.028\n",
      "The explained variance score (EVS) on test set: 0.889\n"
     ]
    }
   ],
   "source": [
    "# 12. Đánh giá độ chính xác thuật toán bằng RMSE\n",
    "valid_rmse = np.sqrt(np.mean((y_pred_val - yval)**2))\n",
    "test_rmse = np.sqrt(np.mean((y_pred - ytest)**2))\n",
    "print('Testing RMSE:', test_rmse)\n",
    "#MAPE\n",
    "mape = mean_absolute_percentage_error(ytest, y_pred)\n",
    "print(\"The mean absolute percentage error (MAPE) on test set: {:.3f}\".format(mape))\n",
    "# EVS\n",
    "evs = explained_variance_score(ytest, y_pred)\n",
    "print(\"The explained variance score (EVS) on test set: {:.3f}\".format(evs))\n"
   ]
  },
  {
   "cell_type": "code",
   "execution_count": 12,
   "metadata": {
    "id": "5rwTN10LQ7rj"
   },
   "outputs": [],
   "source": [
    "# 11. Chuẩn hóa dữ liệu y_pred, y_pred_val\n",
    "train_predict=scaler.inverse_transform(train_predict)\n",
    "y_pred=scaler.inverse_transform(y_pred)\n",
    "y_pred_val=scaler.inverse_transform(y_pred_val)\n",
    "train_data=scaler.inverse_transform(train_data)\n",
    "test_data=scaler.inverse_transform(test_data)\n",
    "val_data=scaler.inverse_transform(val_data)"
   ]
  },
  {
   "cell_type": "code",
   "execution_count": 13,
   "metadata": {
    "id": "izQZ1iQyYl6N"
   },
   "outputs": [],
   "source": [
    "# 13. Dự báo 30 ngày tiếp theo\n",
    "x_input=val_data[1:].reshape(1,-1)\n",
    "x_input.shape\n",
    "\n",
    "temp_input=list(x_input)\n",
    "temp_input=temp_input[0].tolist()\n",
    "\n",
    "from numpy import array\n",
    "\n",
    "lst_output=[]\n",
    "n_steps=x_input.shape[1]\n",
    "i=0\n",
    "while(i<30):\n",
    "    \n",
    "    if(len(temp_input)>100):\n",
    "        #print(temp_input)\n",
    "        x_input=np.array(temp_input[1:])\n",
    "        # print(\"{} day input {}\".format(i,x_input))\n",
    "        x_input=x_input.reshape(1,-1)\n",
    "        x_input = x_input.reshape((1, x_input.shape[1], 1))\n",
    "        #print(x_input)\n",
    "        yhat = model.predict(x_input, verbose=0)\n",
    "        # print(\"{} day output {}\".format(i,yhat))\n",
    "        temp_input.extend(yhat[0].tolist())\n",
    "        temp_input=temp_input[1:]\n",
    "        #print(temp_input)\n",
    "        lst_output.extend(yhat.tolist())\n",
    "        i=i+1\n",
    "    else:\n",
    "        x_input = x_input.reshape((1, x_input.shape[1],1))\n",
    "        yhat = model.predict(x_input, verbose=0)\n",
    "        # print(yhat[0])\n",
    "        temp_input.extend(yhat[0].tolist())\n",
    "        # print(len(temp_input))\n",
    "        lst_output.extend(yhat.tolist())\n",
    "        i=i+1\n"
   ]
  },
  {
   "cell_type": "code",
   "execution_count": 14,
   "metadata": {},
   "outputs": [],
   "source": [
    "df_train = pd.DataFrame(train_data)\n",
    "df_test = pd.DataFrame(test_data)\n",
    "df_test.index += df_train.index.stop\n",
    "df_val = pd.DataFrame(val_data)\n",
    "df_val.index += df_test.index.stop"
   ]
  },
  {
   "cell_type": "code",
   "execution_count": 15,
   "metadata": {},
   "outputs": [
    {
     "data": {
      "image/png": "[encoded data removed]",
      "text/plain": [
       "<Figure size 640x480 with 1 Axes>"
      ]
     },
     "metadata": {},
     "output_type": "display_data"
    }
   ],
   "source": [
    "df_train = pd.DataFrame(train_data)\n",
    "df_test = pd.DataFrame(test_data)\n",
    "df_test.index += df_train.index.stop\n",
    "df_val = pd.DataFrame(val_data)\n",
    "df_val.index += df_test.index.stop\n",
    "lst_output = scaler.inverse_transform(lst_output)\n",
    "plt.plot(df_train.index, df_train)\n",
    "plt.plot(df_test.index, df_test)\n",
    "plt.plot(pd.RangeIndex(start=df_test.index.start, stop=df_test.index.stop-2), y_pred)\n",
    "plt.plot(df_val.index, df_val)\n",
    "plt.plot(pd.RangeIndex(start=df_val.index.start, stop=df_val.index.stop-2), y_pred_val)\n",
    "\n",
    "plt.legend(['Train','Test','Predict','Validate','ValidatePred','Predict30days'])\n",
    "plt.show()"
   ]
  }
 ],
 "metadata": {
  "colab": {
   "provenance": []
  },
  "kernelspec": {
   "display_name": "Python 3 (ipykernel)",
   "language": "python",
   "name": "python3"
  },
  "language_info": {
   "codemirror_mode": {
    "name": "ipython",
    "version": 3
   },
   "file_extension": ".py",
   "mimetype": "text/x-python",
   "name": "python",
   "nbconvert_exporter": "python",
   "pygments_lexer": "ipython3",
   "version": "3.11.2"
  }
 },
 "nbformat": 4,
 "nbformat_minor": 1
}

{
 "cells": [
  {
   "cell_type": "code",
   "execution_count": 1,
   "metadata": {
    "colab": {
     "base_uri": "https://localhost:8080/"
    },
    "id": "FMDKda-XIUAK",
    "outputId": "105c17ca-6662-458e-af85-1e676f17ea00"
   },
   "outputs": [],
   "source": [
    "# 1. Import thư viện cần thiết\n",
    "import numpy as np\n",
    "import pandas as pd\n",
    "import matplotlib.pyplot as plt\n",
    "from sklearn.preprocessing import MinMaxScaler\n",
    "from sklearn.metrics import explained_variance_score, mean_absolute_percentage_error\n",
    "from keras.models import Sequential\n",
    "from keras.layers import Dense, LSTM, Bidirectional"
   ]
  },
  {
   "cell_type": "code",
   "execution_count": 2,
   "metadata": {
    "colab": {
     "base_uri": "https://localhost:8080/"
    },
    "id": "aRm9GQ8KJJ5N",
    "outputId": "45092e4f-29fe-4c59-d244-556df4509d41"
   },
   "outputs": [],
   "source": [
    "# 2. Đọc file csv và gắng index với giá Close\n",
    "df = pd.read_csv('../../../Data/ETH-USD.csv')\n",
    "# print(df)\n",
    "df1=df.reset_index()['Close']\n"
   ]
  },
  {
   "cell_type": "code",
   "execution_count": 3,
   "metadata": {
    "id": "RdVpDho2JgL5"
   },
   "outputs": [],
   "source": [
    "# 3. Scaler data\n",
    "scaler=MinMaxScaler(feature_range=(0,1))\n",
    "df1=scaler.fit_transform(np.array(df1).reshape(-1,1))"
   ]
  },
  {
   "cell_type": "code",
   "execution_count": 4,
   "metadata": {
    "id": "B5JXpenzJoR3"
   },
   "outputs": [],
   "source": [
    "# 4. Chia train test\n",
    "train_size = int(0.8 * len(df))\n",
    "test_size = int(0.1 * len(df))\n",
    "val_size = len(df1) - train_size - test_size\n",
    "\n",
    "train_data = df1[:train_size]\n",
    "test_data = df1[train_size:train_size+test_size]\n",
    "val_data = df1[train_size+test_size:]"
   ]
  },
  {
   "cell_type": "code",
   "execution_count": 5,
   "metadata": {
    "id": "yJfmuBORLSfC"
   },
   "outputs": [],
   "source": [
    "# 5. Hàm Create Dataset\n",
    "import numpy\n",
    "# convert an array of values into a dataset matrix\n",
    "def create_dataset(dataset, time_step=1):\n",
    "\tdataX, dataY = [], []\n",
    "\tfor i in range(len(dataset)-time_step-1):\n",
    "\t\ta = dataset[i:(i+time_step), 0]   ###i=0, X=0,1,2,3-----99   Y=100 \n",
    "\t\tdataX.append(a)\n",
    "\t\tdataY.append(dataset[i + time_step, 0])\n",
    "\treturn numpy.array(dataX), numpy.array(dataY)"
   ]
  },
  {
   "cell_type": "code",
   "execution_count": 6,
   "metadata": {
    "id": "e81cKq03LXFB"
   },
   "outputs": [],
   "source": [
    "\n",
    "\n",
    "time_step = 1\n",
    "X_train, y_train = create_dataset(train_data, time_step)\n",
    "X_val, yval = create_dataset(val_data, time_step)\n",
    "X_test, ytest = create_dataset(test_data, time_step)"
   ]
  },
  {
   "cell_type": "code",
   "execution_count": 7,
   "metadata": {
    "id": "RdBVfku7O2qb"
   },
   "outputs": [],
   "source": [
    "# 7. Reshape input to be [samples, time steps, features] which is required for LSTM\n",
    "X_train =X_train.reshape(X_train.shape[0],X_train.shape[1] , 1)\n",
    "X_test = X_test.reshape(X_test.shape[0],X_test.shape[1] , 1)\n",
    "X_val = X_val.reshape(X_val.shape[0],X_val.shape[1] , 1)"
   ]
  },
  {
   "cell_type": "code",
   "execution_count": 8,
   "metadata": {
    "id": "sSfxrE7BO9vX"
   },
   "outputs": [],
   "source": [
    "# 8. Define LSTM Model\n",
    "\n",
    "model=Sequential()\n",
    "model.add(Bidirectional(LSTM(50,return_sequences=True,input_shape=(100,1))))\n",
    "model.add(Bidirectional(LSTM(50,return_sequences=True)))\n",
    "model.add(Bidirectional(LSTM(50)))\n",
    "model.add(Dense(1))\n",
    "model.compile(loss='mean_squared_error',optimizer='adam')"
   ]
  },
  {
   "cell_type": "code",
   "execution_count": 9,
   "metadata": {
    "colab": {
     "base_uri": "https://localhost:8080/"
    },
    "id": "zgfeujZSPEKr",
    "outputId": "284a93ef-5092-4bfa-a89b-d94d882b0be6"
   },
   "outputs": [
    {
     "name": "stdout",
     "output_type": "stream",
     "text": [
      "Epoch 1/100\n"
     ]
    },
    {
     "name": "stdout",
     "output_type": "stream",
     "text": [
      "26/26 [==============================] - 29s 365ms/step - loss: 0.0804 - val_loss: 0.0038\n",
      "Epoch 2/100\n",
      "26/26 [==============================] - 1s 21ms/step - loss: 0.0245 - val_loss: 4.3609e-04\n",
      "Epoch 3/100\n",
      "26/26 [==============================] - 0s 17ms/step - loss: 0.0015 - val_loss: 4.0749e-04\n",
      "Epoch 4/100\n",
      "26/26 [==============================] - 1s 21ms/step - loss: 6.9312e-04 - val_loss: 9.0471e-04\n",
      "Epoch 5/100\n",
      "26/26 [==============================] - 0s 17ms/step - loss: 5.3802e-04 - val_loss: 6.2832e-04\n",
      "Epoch 6/100\n",
      "26/26 [==============================] - 0s 19ms/step - loss: 4.8040e-04 - val_loss: 5.1271e-04\n",
      "Epoch 7/100\n",
      "26/26 [==============================] - 1s 24ms/step - loss: 4.2886e-04 - val_loss: 4.2614e-04\n",
      "Epoch 8/100\n",
      "26/26 [==============================] - 1s 39ms/step - loss: 3.9972e-04 - val_loss: 3.3296e-04\n",
      "Epoch 9/100\n",
      "26/26 [==============================] - 1s 25ms/step - loss: 3.7692e-04 - val_loss: 5.1287e-04\n",
      "Epoch 10/100\n",
      "26/26 [==============================] - 0s 15ms/step - loss: 3.4099e-04 - val_loss: 3.1843e-04\n",
      "Epoch 11/100\n",
      "26/26 [==============================] - 1s 26ms/step - loss: 3.3930e-04 - val_loss: 3.7253e-04\n",
      "Epoch 12/100\n",
      "26/26 [==============================] - 1s 20ms/step - loss: 3.1043e-04 - val_loss: 2.9831e-04\n",
      "Epoch 13/100\n",
      "26/26 [==============================] - 0s 18ms/step - loss: 3.0954e-04 - val_loss: 3.0396e-04\n",
      "Epoch 14/100\n",
      "26/26 [==============================] - 1s 20ms/step - loss: 2.9564e-04 - val_loss: 3.0661e-04\n",
      "Epoch 15/100\n",
      "26/26 [==============================] - 0s 18ms/step - loss: 3.0750e-04 - val_loss: 2.9527e-04\n",
      "Epoch 16/100\n",
      "26/26 [==============================] - 0s 16ms/step - loss: 3.0485e-04 - val_loss: 3.3218e-04\n",
      "Epoch 17/100\n",
      "26/26 [==============================] - 0s 19ms/step - loss: 2.9930e-04 - val_loss: 3.0982e-04\n",
      "Epoch 18/100\n",
      "26/26 [==============================] - 0s 18ms/step - loss: 2.9054e-04 - val_loss: 2.8981e-04\n",
      "Epoch 19/100\n",
      "26/26 [==============================] - 0s 18ms/step - loss: 2.9554e-04 - val_loss: 3.0673e-04\n",
      "Epoch 20/100\n",
      "26/26 [==============================] - 0s 16ms/step - loss: 3.0032e-04 - val_loss: 2.9959e-04\n",
      "Epoch 21/100\n",
      "26/26 [==============================] - 1s 23ms/step - loss: 3.0027e-04 - val_loss: 3.5117e-04\n",
      "Epoch 22/100\n",
      "26/26 [==============================] - 1s 27ms/step - loss: 2.8775e-04 - val_loss: 2.9055e-04\n",
      "Epoch 23/100\n",
      "26/26 [==============================] - 0s 19ms/step - loss: 2.9197e-04 - val_loss: 3.0924e-04\n",
      "Epoch 24/100\n",
      "26/26 [==============================] - 1s 25ms/step - loss: 2.8895e-04 - val_loss: 3.5926e-04\n",
      "Epoch 25/100\n",
      "26/26 [==============================] - 1s 21ms/step - loss: 2.9445e-04 - val_loss: 3.1006e-04\n",
      "Epoch 26/100\n",
      "26/26 [==============================] - 0s 17ms/step - loss: 3.0506e-04 - val_loss: 2.9386e-04\n",
      "Epoch 27/100\n",
      "26/26 [==============================] - 0s 18ms/step - loss: 2.9311e-04 - val_loss: 3.4239e-04\n",
      "Epoch 28/100\n",
      "26/26 [==============================] - 1s 32ms/step - loss: 2.9764e-04 - val_loss: 2.9730e-04\n",
      "Epoch 29/100\n",
      "26/26 [==============================] - 1s 27ms/step - loss: 2.9585e-04 - val_loss: 2.9405e-04\n",
      "Epoch 30/100\n",
      "26/26 [==============================] - 0s 18ms/step - loss: 3.1894e-04 - val_loss: 2.9138e-04\n",
      "Epoch 31/100\n",
      "26/26 [==============================] - 0s 18ms/step - loss: 2.8576e-04 - val_loss: 3.0626e-04\n",
      "Epoch 32/100\n",
      "26/26 [==============================] - 0s 18ms/step - loss: 2.9058e-04 - val_loss: 2.9350e-04\n",
      "Epoch 33/100\n",
      "26/26 [==============================] - 0s 17ms/step - loss: 2.8812e-04 - val_loss: 2.9556e-04\n",
      "Epoch 34/100\n",
      "26/26 [==============================] - 0s 17ms/step - loss: 2.9274e-04 - val_loss: 3.0725e-04\n",
      "Epoch 35/100\n",
      "26/26 [==============================] - 0s 17ms/step - loss: 2.9847e-04 - val_loss: 3.0767e-04\n",
      "Epoch 36/100\n",
      "26/26 [==============================] - 0s 19ms/step - loss: 2.9592e-04 - val_loss: 2.8925e-04\n",
      "Epoch 37/100\n",
      "26/26 [==============================] - 1s 20ms/step - loss: 3.0500e-04 - val_loss: 3.3616e-04\n",
      "Epoch 38/100\n",
      "26/26 [==============================] - 0s 18ms/step - loss: 3.2996e-04 - val_loss: 3.4098e-04\n",
      "Epoch 39/100\n",
      "26/26 [==============================] - 0s 16ms/step - loss: 3.2913e-04 - val_loss: 3.3760e-04\n",
      "Epoch 40/100\n",
      "26/26 [==============================] - 1s 44ms/step - loss: 3.1348e-04 - val_loss: 3.0837e-04\n",
      "Epoch 41/100\n",
      "26/26 [==============================] - 1s 22ms/step - loss: 2.9008e-04 - val_loss: 3.0925e-04\n",
      "Epoch 42/100\n",
      "26/26 [==============================] - 0s 18ms/step - loss: 3.1311e-04 - val_loss: 4.8274e-04\n",
      "Epoch 43/100\n",
      "26/26 [==============================] - 0s 16ms/step - loss: 3.4955e-04 - val_loss: 2.9420e-04\n",
      "Epoch 44/100\n",
      "26/26 [==============================] - 0s 17ms/step - loss: 2.9540e-04 - val_loss: 2.9096e-04\n",
      "Epoch 45/100\n",
      "26/26 [==============================] - 0s 19ms/step - loss: 2.9694e-04 - val_loss: 4.2262e-04\n",
      "Epoch 46/100\n",
      "26/26 [==============================] - 0s 16ms/step - loss: 3.1517e-04 - val_loss: 2.9395e-04\n",
      "Epoch 47/100\n",
      "26/26 [==============================] - 0s 18ms/step - loss: 3.0091e-04 - val_loss: 3.1515e-04\n",
      "Epoch 48/100\n",
      "26/26 [==============================] - 0s 19ms/step - loss: 2.9645e-04 - val_loss: 3.3934e-04\n",
      "Epoch 49/100\n",
      "26/26 [==============================] - 0s 15ms/step - loss: 3.3677e-04 - val_loss: 3.6710e-04\n",
      "Epoch 50/100\n",
      "26/26 [==============================] - 0s 18ms/step - loss: 3.1393e-04 - val_loss: 2.9329e-04\n",
      "Epoch 51/100\n",
      "26/26 [==============================] - 1s 30ms/step - loss: 3.1556e-04 - val_loss: 5.5619e-04\n",
      "Epoch 52/100\n",
      "26/26 [==============================] - 0s 18ms/step - loss: 3.4022e-04 - val_loss: 3.0137e-04\n",
      "Epoch 53/100\n",
      "26/26 [==============================] - 0s 15ms/step - loss: 3.0554e-04 - val_loss: 2.8877e-04\n",
      "Epoch 54/100\n",
      "26/26 [==============================] - 0s 17ms/step - loss: 2.9512e-04 - val_loss: 3.1267e-04\n",
      "Epoch 55/100\n",
      "26/26 [==============================] - 0s 17ms/step - loss: 2.9218e-04 - val_loss: 3.0567e-04\n",
      "Epoch 56/100\n",
      "26/26 [==============================] - 0s 16ms/step - loss: 2.8627e-04 - val_loss: 2.9059e-04\n",
      "Epoch 57/100\n",
      "26/26 [==============================] - 0s 15ms/step - loss: 2.9494e-04 - val_loss: 3.3263e-04\n",
      "Epoch 58/100\n",
      "26/26 [==============================] - 0s 18ms/step - loss: 3.0194e-04 - val_loss: 2.9203e-04\n",
      "Epoch 59/100\n",
      "26/26 [==============================] - 0s 17ms/step - loss: 3.1417e-04 - val_loss: 3.6531e-04\n",
      "Epoch 60/100\n",
      "26/26 [==============================] - 0s 16ms/step - loss: 3.4073e-04 - val_loss: 3.8232e-04\n",
      "Epoch 61/100\n",
      "26/26 [==============================] - 1s 28ms/step - loss: 3.0180e-04 - val_loss: 2.9615e-04\n",
      "Epoch 62/100\n",
      "26/26 [==============================] - 1s 21ms/step - loss: 2.9088e-04 - val_loss: 4.2999e-04\n",
      "Epoch 63/100\n",
      "26/26 [==============================] - 0s 17ms/step - loss: 3.2072e-04 - val_loss: 3.8587e-04\n",
      "Epoch 64/100\n",
      "26/26 [==============================] - 0s 19ms/step - loss: 3.5217e-04 - val_loss: 4.5294e-04\n",
      "Epoch 65/100\n",
      "26/26 [==============================] - 0s 18ms/step - loss: 2.9420e-04 - val_loss: 3.4281e-04\n",
      "Epoch 66/100\n",
      "26/26 [==============================] - 1s 20ms/step - loss: 2.9346e-04 - val_loss: 3.1275e-04\n",
      "Epoch 67/100\n",
      "26/26 [==============================] - 0s 18ms/step - loss: 2.9123e-04 - val_loss: 3.0140e-04\n",
      "Epoch 68/100\n",
      "26/26 [==============================] - 0s 16ms/step - loss: 3.1282e-04 - val_loss: 3.5439e-04\n",
      "Epoch 69/100\n",
      "26/26 [==============================] - 0s 13ms/step - loss: 3.2674e-04 - val_loss: 3.0089e-04\n",
      "Epoch 70/100\n",
      "26/26 [==============================] - 0s 15ms/step - loss: 3.1259e-04 - val_loss: 3.6369e-04\n",
      "Epoch 71/100\n",
      "26/26 [==============================] - 0s 14ms/step - loss: 2.9487e-04 - val_loss: 2.9253e-04\n",
      "Epoch 72/100\n",
      "26/26 [==============================] - 1s 29ms/step - loss: 2.9035e-04 - val_loss: 3.0098e-04\n",
      "Epoch 73/100\n",
      "26/26 [==============================] - 0s 19ms/step - loss: 3.1369e-04 - val_loss: 4.0173e-04\n",
      "Epoch 74/100\n",
      "26/26 [==============================] - 0s 14ms/step - loss: 2.9233e-04 - val_loss: 3.1655e-04\n",
      "Epoch 75/100\n",
      "26/26 [==============================] - 0s 16ms/step - loss: 2.9827e-04 - val_loss: 3.1587e-04\n",
      "Epoch 76/100\n",
      "26/26 [==============================] - 1s 22ms/step - loss: 3.3632e-04 - val_loss: 2.8791e-04\n",
      "Epoch 77/100\n",
      "26/26 [==============================] - 0s 18ms/step - loss: 3.0352e-04 - val_loss: 2.9980e-04\n",
      "Epoch 78/100\n",
      "26/26 [==============================] - 0s 15ms/step - loss: 3.8351e-04 - val_loss: 6.0472e-04\n",
      "Epoch 79/100\n",
      "26/26 [==============================] - 1s 26ms/step - loss: 3.4896e-04 - val_loss: 3.1508e-04\n",
      "Epoch 80/100\n",
      "26/26 [==============================] - 0s 19ms/step - loss: 3.3701e-04 - val_loss: 4.4986e-04\n",
      "Epoch 81/100\n",
      "26/26 [==============================] - 0s 17ms/step - loss: 3.0321e-04 - val_loss: 3.0321e-04\n",
      "Epoch 82/100\n",
      "26/26 [==============================] - 0s 13ms/step - loss: 3.0071e-04 - val_loss: 4.2686e-04\n",
      "Epoch 83/100\n",
      "26/26 [==============================] - 0s 14ms/step - loss: 3.2038e-04 - val_loss: 3.2789e-04\n",
      "Epoch 84/100\n",
      "26/26 [==============================] - 0s 13ms/step - loss: 3.1389e-04 - val_loss: 2.9568e-04\n",
      "Epoch 85/100\n",
      "26/26 [==============================] - 0s 12ms/step - loss: 3.0124e-04 - val_loss: 2.9006e-04\n",
      "Epoch 86/100\n",
      "26/26 [==============================] - 1s 25ms/step - loss: 2.9937e-04 - val_loss: 3.8525e-04\n",
      "Epoch 87/100\n",
      "26/26 [==============================] - 0s 19ms/step - loss: 3.1882e-04 - val_loss: 3.5906e-04\n",
      "Epoch 88/100\n",
      "26/26 [==============================] - 0s 16ms/step - loss: 3.4797e-04 - val_loss: 4.5544e-04\n",
      "Epoch 89/100\n",
      "26/26 [==============================] - 0s 15ms/step - loss: 2.9702e-04 - val_loss: 2.9441e-04\n",
      "Epoch 90/100\n",
      "26/26 [==============================] - 0s 16ms/step - loss: 3.0460e-04 - val_loss: 4.4688e-04\n",
      "Epoch 91/100\n",
      "26/26 [==============================] - 0s 15ms/step - loss: 3.3032e-04 - val_loss: 2.8621e-04\n",
      "Epoch 92/100\n",
      "26/26 [==============================] - 0s 16ms/step - loss: 3.0600e-04 - val_loss: 3.1427e-04\n",
      "Epoch 93/100\n",
      "26/26 [==============================] - 0s 14ms/step - loss: 3.0982e-04 - val_loss: 3.2627e-04\n",
      "Epoch 94/100\n",
      "26/26 [==============================] - 0s 16ms/step - loss: 3.0385e-04 - val_loss: 3.3945e-04\n",
      "Epoch 95/100\n",
      "26/26 [==============================] - 0s 15ms/step - loss: 2.9193e-04 - val_loss: 2.9725e-04\n",
      "Epoch 96/100\n",
      "26/26 [==============================] - 0s 15ms/step - loss: 3.0418e-04 - val_loss: 4.4582e-04\n",
      "Epoch 97/100\n",
      "26/26 [==============================] - 0s 15ms/step - loss: 3.3094e-04 - val_loss: 2.8965e-04\n",
      "Epoch 98/100\n",
      "26/26 [==============================] - 0s 19ms/step - loss: 2.9727e-04 - val_loss: 2.8797e-04\n",
      "Epoch 99/100\n",
      "26/26 [==============================] - 0s 16ms/step - loss: 2.9693e-04 - val_loss: 2.9817e-04\n",
      "Epoch 100/100\n",
      "26/26 [==============================] - 1s 29ms/step - loss: 2.9340e-04 - val_loss: 3.0333e-04\n"
     ]
    },
    {
     "data": {
      "text/plain": [
       "<keras.callbacks.History at 0x292cd61ec90>"
      ]
     },
     "execution_count": 9,
     "metadata": {},
     "output_type": "execute_result"
    }
   ],
   "source": [
    "# 9. Fit mô hình với dữ liệu train\n",
    "model.fit(X_train,y_train,validation_data=(X_test,ytest),epochs=100,batch_size=64,verbose=1)"
   ]
  },
  {
   "cell_type": "code",
   "execution_count": 10,
   "metadata": {
    "id": "Rxx_KQSkQpBG"
   },
   "outputs": [
    {
     "name": "stdout",
     "output_type": "stream",
     "text": [
      "52/52 [==============================] - 12s 4ms/step\n",
      "7/7 [==============================] - 0s 5ms/step\n",
      "7/7 [==============================] - 0s 7ms/step\n"
     ]
    }
   ],
   "source": [
    "# 10. Dự báo dữ liệu test, val\n",
    "train_predict=model.predict(X_train)\n",
    "y_pred=model.predict(X_test)\n",
    "y_pred_val=model.predict(X_val)"
   ]
  },
  {
   "cell_type": "code",
   "execution_count": 11,
   "metadata": {
    "id": "wu_9j94kRonD"
   },
   "outputs": [
    {
     "name": "stdout",
     "output_type": "stream",
     "text": [
      "Testing RMSE: 0.10629766669591048\n",
      "The mean absolute percentage error (MAPE) on test set: 0.041\n",
      "The explained variance score (EVS) on test set: 0.947\n"
     ]
    }
   ],
   "source": [
    "# 12. Đánh giá độ chính xác thuật toán bằng RMSE\n",
    "valid_rmse = np.sqrt(np.mean((y_pred_val - yval)**2))\n",
    "test_rmse = np.sqrt(np.mean((y_pred - ytest)**2))\n",
    "print('Testing RMSE:', test_rmse)\n",
    "#MAPE\n",
    "mape = mean_absolute_percentage_error(ytest, y_pred)\n",
    "print(\"The mean absolute percentage error (MAPE) on test set: {:.3f}\".format(mape))\n",
    "# EVS\n",
    "evs = explained_variance_score(ytest, y_pred)\n",
    "print(\"The explained variance score (EVS) on test set: {:.3f}\".format(evs))\n"
   ]
  },
  {
   "cell_type": "code",
   "execution_count": 12,
   "metadata": {
    "id": "5rwTN10LQ7rj"
   },
   "outputs": [],
   "source": [
    "# 11. Chuẩn hóa dữ liệu y_pred, y_pred_val\n",
    "train_predict=scaler.inverse_transform(train_predict)\n",
    "y_pred=scaler.inverse_transform(y_pred)\n",
    "y_pred_val=scaler.inverse_transform(y_pred_val)\n",
    "train_data=scaler.inverse_transform(train_data)\n",
    "test_data=scaler.inverse_transform(test_data)\n",
    "val_data=scaler.inverse_transform(val_data)"
   ]
  },
  {
   "cell_type": "code",
   "execution_count": 13,
   "metadata": {
    "id": "izQZ1iQyYl6N"
   },
   "outputs": [],
   "source": [
    "# 13. Dự báo 30 ngày tiếp theo\n",
    "x_input=val_data[1:].reshape(1,-1)\n",
    "x_input.shape\n",
    "\n",
    "temp_input=list(x_input)\n",
    "temp_input=temp_input[0].tolist()\n",
    "\n",
    "from numpy import array\n",
    "\n",
    "lst_output=[]\n",
    "n_steps=x_input.shape[1]\n",
    "i=0\n",
    "while(i<30):\n",
    "    \n",
    "    if(len(temp_input)>100):\n",
    "        #print(temp_input)\n",
    "        x_input=np.array(temp_input[1:])\n",
    "        # print(\"{} day input {}\".format(i,x_input))\n",
    "        x_input=x_input.reshape(1,-1)\n",
    "        x_input = x_input.reshape((1, x_input.shape[1], 1))\n",
    "        #print(x_input)\n",
    "        yhat = model.predict(x_input, verbose=0)\n",
    "        # print(\"{} day output {}\".format(i,yhat))\n",
    "        temp_input.extend(yhat[0].tolist())\n",
    "        temp_input=temp_input[1:]\n",
    "        #print(temp_input)\n",
    "        lst_output.extend(yhat.tolist())\n",
    "        i=i+1\n",
    "    else:\n",
    "        x_input = x_input.reshape((1, x_input.shape[1],1))\n",
    "        yhat = model.predict(x_input, verbose=0)\n",
    "        # print(yhat[0])\n",
    "        temp_input.extend(yhat[0].tolist())\n",
    "        # print(len(temp_input))\n",
    "        lst_output.extend(yhat.tolist())\n",
    "        i=i+1\n"
   ]
  },
  {
   "cell_type": "code",
   "execution_count": 14,
   "metadata": {},
   "outputs": [],
   "source": [
    "df_train = pd.DataFrame(train_data)\n",
    "df_test = pd.DataFrame(test_data)\n",
    "df_test.index += df_train.index.stop\n",
    "df_val = pd.DataFrame(val_data)\n",
    "df_val.index += df_test.index.stop"
   ]
  },
  {
   "cell_type": "code",
   "execution_count": 15,
   "metadata": {},
   "outputs": [
    {
     "data": {
      "image/png": "[encoded data removed]",
      "text/plain": [
       "<Figure size 640x480 with 1 Axes>"
      ]
     },
     "metadata": {},
     "output_type": "display_data"
    }
   ],
   "source": [
    "df_train = pd.DataFrame(train_data)\n",
    "df_test = pd.DataFrame(test_data)\n",
    "df_test.index += df_train.index.stop\n",
    "df_val = pd.DataFrame(val_data)\n",
    "df_val.index += df_test.index.stop\n",
    "lst_output = scaler.inverse_transform(lst_output)\n",
    "plt.plot(df_train.index, df_train)\n",
    "plt.plot(df_test.index, df_test)\n",
    "plt.plot(pd.RangeIndex(start=df_test.index.start, stop=df_test.index.stop-2), y_pred)\n",
    "plt.plot(df_val.index, df_val)\n",
    "plt.plot(pd.RangeIndex(start=df_val.index.start, stop=df_val.index.stop-2), y_pred_val)\n",
    "\n",
    "plt.legend(['Train','Test','Predict','Validate','ValidatePred','Predict30days'])\n",
    "plt.show()"
   ]
  }
 ],
 "metadata": {
  "colab": {
   "provenance": []
  },
  "kernelspec": {
   "display_name": "Python 3 (ipykernel)",
   "language": "python",
   "name": "python3"
  },
  "language_info": {
   "codemirror_mode": {
    "name": "ipython",
    "version": 3
   },
   "file_extension": ".py",
   "mimetype": "text/x-python",
   "name": "python",
   "nbconvert_exporter": "python",
   "pygments_lexer": "ipython3",
   "version": "3.11.2"
  }
 },
 "nbformat": 4,
 "nbformat_minor": 1
}

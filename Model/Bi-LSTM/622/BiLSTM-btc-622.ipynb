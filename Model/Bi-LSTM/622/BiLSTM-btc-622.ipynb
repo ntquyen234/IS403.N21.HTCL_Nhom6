{
 "cells": [
  {
   "cell_type": "code",
   "execution_count": 1,
   "metadata": {
    "colab": {
     "base_uri": "https://localhost:8080/"
    },
    "id": "FMDKda-XIUAK",
    "outputId": "105c17ca-6662-458e-af85-1e676f17ea00"
   },
   "outputs": [],
   "source": [
    "# 1. Import thư viện cần thiết\n",
    "import numpy as np\n",
    "import pandas as pd\n",
    "import matplotlib.pyplot as plt\n",
    "from sklearn.preprocessing import MinMaxScaler\n",
    "from sklearn.metrics import explained_variance_score, mean_absolute_percentage_error\n",
    "from keras.models import Sequential\n",
    "from keras.layers import Dense, LSTM, Bidirectional"
   ]
  },
  {
   "cell_type": "code",
   "execution_count": 2,
   "metadata": {
    "colab": {
     "base_uri": "https://localhost:8080/"
    },
    "id": "aRm9GQ8KJJ5N",
    "outputId": "45092e4f-29fe-4c59-d244-556df4509d41"
   },
   "outputs": [],
   "source": [
    "# 2. Đọc file csv và gắng index với giá Close\n",
    "df = pd.read_csv('../../../Data/BTC-USD.csv')\n",
    "# print(df)\n",
    "df1=df.reset_index()['Close']\n"
   ]
  },
  {
   "cell_type": "code",
   "execution_count": 3,
   "metadata": {
    "id": "RdVpDho2JgL5"
   },
   "outputs": [],
   "source": [
    "# 3. Scaler data\n",
    "scaler=MinMaxScaler(feature_range=(0,1))\n",
    "df1=scaler.fit_transform(np.array(df1).reshape(-1,1))"
   ]
  },
  {
   "cell_type": "code",
   "execution_count": 4,
   "metadata": {
    "id": "B5JXpenzJoR3"
   },
   "outputs": [],
   "source": [
    "# 4. Chia train test\n",
    "train_size = int(0.6 * len(df))\n",
    "test_size = int(0.2 * len(df))\n",
    "val_size = len(df1) - train_size - test_size\n",
    "\n",
    "train_data = df1[:train_size]\n",
    "test_data = df1[train_size:train_size+test_size]\n",
    "val_data = df1[train_size+test_size:]"
   ]
  },
  {
   "cell_type": "code",
   "execution_count": 5,
   "metadata": {
    "id": "yJfmuBORLSfC"
   },
   "outputs": [],
   "source": [
    "# 5. Hàm Create Dataset\n",
    "import numpy\n",
    "# convert an array of values into a dataset matrix\n",
    "def create_dataset(dataset, time_step=1):\n",
    "\tdataX, dataY = [], []\n",
    "\tfor i in range(len(dataset)-time_step-1):\n",
    "\t\ta = dataset[i:(i+time_step), 0]   ###i=0, X=0,1,2,3-----99   Y=100 \n",
    "\t\tdataX.append(a)\n",
    "\t\tdataY.append(dataset[i + time_step, 0])\n",
    "\treturn numpy.array(dataX), numpy.array(dataY)"
   ]
  },
  {
   "cell_type": "code",
   "execution_count": 6,
   "metadata": {
    "id": "e81cKq03LXFB"
   },
   "outputs": [],
   "source": [
    "\n",
    "\n",
    "time_step = 1\n",
    "X_train, y_train = create_dataset(train_data, time_step)\n",
    "X_val, yval = create_dataset(val_data, time_step)\n",
    "X_test, ytest = create_dataset(test_data, time_step)"
   ]
  },
  {
   "cell_type": "code",
   "execution_count": 7,
   "metadata": {
    "id": "RdBVfku7O2qb"
   },
   "outputs": [],
   "source": [
    "# 7. Reshape input to be [samples, time steps, features] which is required for LSTM\n",
    "X_train =X_train.reshape(X_train.shape[0],X_train.shape[1] , 1)\n",
    "X_test = X_test.reshape(X_test.shape[0],X_test.shape[1] , 1)\n",
    "X_val = X_val.reshape(X_val.shape[0],X_val.shape[1] , 1)"
   ]
  },
  {
   "cell_type": "code",
   "execution_count": 8,
   "metadata": {
    "id": "sSfxrE7BO9vX"
   },
   "outputs": [],
   "source": [
    "# 8. Define LSTM Model\n",
    "\n",
    "model=Sequential()\n",
    "model.add(Bidirectional(LSTM(50,return_sequences=True,input_shape=(100,1))))\n",
    "model.add(Bidirectional(LSTM(50,return_sequences=True)))\n",
    "model.add(Bidirectional(LSTM(50)))\n",
    "model.add(Dense(1))\n",
    "model.compile(loss='mean_squared_error',optimizer='adam')"
   ]
  },
  {
   "cell_type": "code",
   "execution_count": 9,
   "metadata": {
    "colab": {
     "base_uri": "https://localhost:8080/"
    },
    "id": "zgfeujZSPEKr",
    "outputId": "284a93ef-5092-4bfa-a89b-d94d882b0be6"
   },
   "outputs": [
    {
     "name": "stdout",
     "output_type": "stream",
     "text": [
      "Epoch 1/100\n"
     ]
    },
    {
     "name": "stdout",
     "output_type": "stream",
     "text": [
      "30/30 [==============================] - 37s 178ms/step - loss: 0.0037 - val_loss: 0.1448\n",
      "Epoch 2/100\n",
      "30/30 [==============================] - 0s 14ms/step - loss: 0.0021 - val_loss: 0.0226\n",
      "Epoch 3/100\n",
      "30/30 [==============================] - 1s 23ms/step - loss: 1.1871e-04 - val_loss: 5.6247e-04\n",
      "Epoch 4/100\n",
      "30/30 [==============================] - 0s 17ms/step - loss: 2.4851e-05 - val_loss: 3.5142e-04\n",
      "Epoch 5/100\n",
      "30/30 [==============================] - 1s 23ms/step - loss: 1.7876e-05 - val_loss: 3.6639e-04\n",
      "Epoch 6/100\n",
      "30/30 [==============================] - 1s 18ms/step - loss: 1.7858e-05 - val_loss: 4.0013e-04\n",
      "Epoch 7/100\n",
      "30/30 [==============================] - 1s 20ms/step - loss: 1.8419e-05 - val_loss: 4.0787e-04\n",
      "Epoch 8/100\n",
      "30/30 [==============================] - 0s 16ms/step - loss: 2.2568e-05 - val_loss: 5.3541e-04\n",
      "Epoch 9/100\n",
      "30/30 [==============================] - 1s 18ms/step - loss: 1.8262e-05 - val_loss: 4.0691e-04\n",
      "Epoch 10/100\n",
      "30/30 [==============================] - 1s 23ms/step - loss: 1.7992e-05 - val_loss: 4.4786e-04\n",
      "Epoch 11/100\n",
      "30/30 [==============================] - 0s 17ms/step - loss: 1.8364e-05 - val_loss: 4.4313e-04\n",
      "Epoch 12/100\n",
      "30/30 [==============================] - 1s 20ms/step - loss: 1.8712e-05 - val_loss: 4.4495e-04\n",
      "Epoch 13/100\n",
      "30/30 [==============================] - 1s 18ms/step - loss: 1.9060e-05 - val_loss: 4.3757e-04\n",
      "Epoch 14/100\n",
      "30/30 [==============================] - 0s 15ms/step - loss: 1.9187e-05 - val_loss: 3.9494e-04\n",
      "Epoch 15/100\n",
      "30/30 [==============================] - 1s 17ms/step - loss: 1.8891e-05 - val_loss: 4.5598e-04\n",
      "Epoch 16/100\n",
      "30/30 [==============================] - 1s 19ms/step - loss: 1.8081e-05 - val_loss: 5.9593e-04\n",
      "Epoch 17/100\n",
      "30/30 [==============================] - 1s 18ms/step - loss: 1.9049e-05 - val_loss: 6.3543e-04\n",
      "Epoch 18/100\n",
      "30/30 [==============================] - 1s 35ms/step - loss: 1.9421e-05 - val_loss: 5.2534e-04\n",
      "Epoch 19/100\n",
      "30/30 [==============================] - 1s 22ms/step - loss: 1.9437e-05 - val_loss: 6.0607e-04\n",
      "Epoch 20/100\n",
      "30/30 [==============================] - 1s 22ms/step - loss: 1.9207e-05 - val_loss: 5.0309e-04\n",
      "Epoch 21/100\n",
      "30/30 [==============================] - 1s 21ms/step - loss: 1.8137e-05 - val_loss: 6.5852e-04\n",
      "Epoch 22/100\n",
      "30/30 [==============================] - 1s 18ms/step - loss: 1.7772e-05 - val_loss: 7.2542e-04\n",
      "Epoch 23/100\n",
      "30/30 [==============================] - 1s 33ms/step - loss: 1.7633e-05 - val_loss: 7.2017e-04\n",
      "Epoch 24/100\n",
      "30/30 [==============================] - 1s 20ms/step - loss: 1.9314e-05 - val_loss: 6.8249e-04\n",
      "Epoch 25/100\n",
      "30/30 [==============================] - 1s 20ms/step - loss: 1.9077e-05 - val_loss: 4.8557e-04\n",
      "Epoch 26/100\n",
      "30/30 [==============================] - 1s 26ms/step - loss: 1.9835e-05 - val_loss: 0.0010\n",
      "Epoch 27/100\n",
      "30/30 [==============================] - 1s 22ms/step - loss: 1.7695e-05 - val_loss: 9.3159e-04\n",
      "Epoch 28/100\n",
      "30/30 [==============================] - 1s 21ms/step - loss: 1.8520e-05 - val_loss: 8.4976e-04\n",
      "Epoch 29/100\n",
      "30/30 [==============================] - 1s 21ms/step - loss: 1.8193e-05 - val_loss: 6.4135e-04\n",
      "Epoch 30/100\n",
      "30/30 [==============================] - 1s 21ms/step - loss: 1.8622e-05 - val_loss: 6.1656e-04\n",
      "Epoch 31/100\n",
      "30/30 [==============================] - 1s 18ms/step - loss: 1.9870e-05 - val_loss: 0.0011\n",
      "Epoch 32/100\n",
      "30/30 [==============================] - 1s 20ms/step - loss: 1.8938e-05 - val_loss: 0.0012\n",
      "Epoch 33/100\n",
      "30/30 [==============================] - 1s 21ms/step - loss: 1.9275e-05 - val_loss: 9.7084e-04\n",
      "Epoch 34/100\n",
      "30/30 [==============================] - 1s 20ms/step - loss: 2.0753e-05 - val_loss: 0.0011\n",
      "Epoch 35/100\n",
      "30/30 [==============================] - 1s 22ms/step - loss: 1.8402e-05 - val_loss: 9.4630e-04\n",
      "Epoch 36/100\n",
      "30/30 [==============================] - 1s 19ms/step - loss: 1.9822e-05 - val_loss: 9.2706e-04\n",
      "Epoch 37/100\n",
      "30/30 [==============================] - 1s 31ms/step - loss: 2.2847e-05 - val_loss: 0.0014\n",
      "Epoch 38/100\n",
      "30/30 [==============================] - 1s 29ms/step - loss: 1.8979e-05 - val_loss: 7.4753e-04\n",
      "Epoch 39/100\n",
      "30/30 [==============================] - 1s 26ms/step - loss: 1.8210e-05 - val_loss: 0.0013\n",
      "Epoch 40/100\n",
      "30/30 [==============================] - 1s 30ms/step - loss: 1.9688e-05 - val_loss: 0.0011\n",
      "Epoch 41/100\n",
      "30/30 [==============================] - 1s 24ms/step - loss: 2.2141e-05 - val_loss: 9.1007e-04\n",
      "Epoch 42/100\n",
      "30/30 [==============================] - 1s 30ms/step - loss: 2.0592e-05 - val_loss: 0.0014\n",
      "Epoch 43/100\n",
      "30/30 [==============================] - 1s 33ms/step - loss: 1.7879e-05 - val_loss: 0.0011\n",
      "Epoch 44/100\n",
      "30/30 [==============================] - 1s 34ms/step - loss: 1.8026e-05 - val_loss: 9.9036e-04\n",
      "Epoch 45/100\n",
      "30/30 [==============================] - 1s 48ms/step - loss: 1.7934e-05 - val_loss: 7.7981e-04\n",
      "Epoch 46/100\n",
      "30/30 [==============================] - 1s 30ms/step - loss: 2.2979e-05 - val_loss: 0.0020\n",
      "Epoch 47/100\n",
      "30/30 [==============================] - 1s 22ms/step - loss: 1.9637e-05 - val_loss: 0.0011\n",
      "Epoch 48/100\n",
      "30/30 [==============================] - 1s 29ms/step - loss: 1.9276e-05 - val_loss: 0.0014\n",
      "Epoch 49/100\n",
      "30/30 [==============================] - 1s 25ms/step - loss: 1.7872e-05 - val_loss: 0.0012\n",
      "Epoch 50/100\n",
      "30/30 [==============================] - 1s 21ms/step - loss: 1.8905e-05 - val_loss: 0.0012\n",
      "Epoch 51/100\n",
      "30/30 [==============================] - 1s 30ms/step - loss: 1.8661e-05 - val_loss: 0.0013\n",
      "Epoch 52/100\n",
      "30/30 [==============================] - 1s 23ms/step - loss: 1.9101e-05 - val_loss: 9.1689e-04\n",
      "Epoch 53/100\n",
      "30/30 [==============================] - 1s 18ms/step - loss: 2.1026e-05 - val_loss: 0.0013\n",
      "Epoch 54/100\n",
      "30/30 [==============================] - 1s 38ms/step - loss: 2.0058e-05 - val_loss: 0.0017\n",
      "Epoch 55/100\n",
      "30/30 [==============================] - 1s 20ms/step - loss: 1.8043e-05 - val_loss: 0.0011\n",
      "Epoch 56/100\n",
      "30/30 [==============================] - 1s 20ms/step - loss: 2.0691e-05 - val_loss: 0.0015\n",
      "Epoch 57/100\n",
      "30/30 [==============================] - 1s 18ms/step - loss: 1.8979e-05 - val_loss: 0.0012\n",
      "Epoch 58/100\n",
      "30/30 [==============================] - 1s 19ms/step - loss: 1.9334e-05 - val_loss: 0.0020\n",
      "Epoch 59/100\n",
      "30/30 [==============================] - 1s 19ms/step - loss: 1.8302e-05 - val_loss: 0.0014\n",
      "Epoch 60/100\n",
      "30/30 [==============================] - 0s 16ms/step - loss: 1.8025e-05 - val_loss: 9.7026e-04\n",
      "Epoch 61/100\n",
      "30/30 [==============================] - 1s 18ms/step - loss: 1.9690e-05 - val_loss: 0.0018\n",
      "Epoch 62/100\n",
      "30/30 [==============================] - 1s 17ms/step - loss: 2.1720e-05 - val_loss: 0.0020\n",
      "Epoch 63/100\n",
      "30/30 [==============================] - 1s 21ms/step - loss: 2.0150e-05 - val_loss: 0.0011\n",
      "Epoch 64/100\n",
      "30/30 [==============================] - 1s 33ms/step - loss: 2.1320e-05 - val_loss: 0.0024\n",
      "Epoch 65/100\n",
      "30/30 [==============================] - 1s 20ms/step - loss: 1.9479e-05 - val_loss: 0.0011\n",
      "Epoch 66/100\n",
      "30/30 [==============================] - 1s 23ms/step - loss: 1.8338e-05 - val_loss: 0.0024\n",
      "Epoch 67/100\n",
      "30/30 [==============================] - 1s 18ms/step - loss: 1.8762e-05 - val_loss: 0.0019\n",
      "Epoch 68/100\n",
      "30/30 [==============================] - 1s 17ms/step - loss: 1.8310e-05 - val_loss: 0.0015\n",
      "Epoch 69/100\n",
      "30/30 [==============================] - 1s 19ms/step - loss: 1.8769e-05 - val_loss: 0.0015\n",
      "Epoch 70/100\n",
      "30/30 [==============================] - 1s 20ms/step - loss: 1.8915e-05 - val_loss: 0.0013\n",
      "Epoch 71/100\n",
      "30/30 [==============================] - 1s 20ms/step - loss: 1.7944e-05 - val_loss: 9.9934e-04\n",
      "Epoch 72/100\n",
      "30/30 [==============================] - 1s 25ms/step - loss: 1.9969e-05 - val_loss: 0.0021\n",
      "Epoch 73/100\n",
      "30/30 [==============================] - 1s 49ms/step - loss: 2.1494e-05 - val_loss: 0.0020\n",
      "Epoch 74/100\n",
      "30/30 [==============================] - 1s 22ms/step - loss: 1.8935e-05 - val_loss: 0.0013\n",
      "Epoch 75/100\n",
      "30/30 [==============================] - 0s 14ms/step - loss: 1.9706e-05 - val_loss: 0.0014\n",
      "Epoch 76/100\n",
      "30/30 [==============================] - 0s 16ms/step - loss: 1.8313e-05 - val_loss: 0.0016\n",
      "Epoch 77/100\n",
      "30/30 [==============================] - 0s 13ms/step - loss: 1.8001e-05 - val_loss: 0.0013\n",
      "Epoch 78/100\n",
      "30/30 [==============================] - 0s 12ms/step - loss: 1.8788e-05 - val_loss: 0.0015\n",
      "Epoch 79/100\n",
      "30/30 [==============================] - 0s 12ms/step - loss: 2.2917e-05 - val_loss: 0.0027\n",
      "Epoch 80/100\n",
      "30/30 [==============================] - 0s 11ms/step - loss: 2.0509e-05 - val_loss: 0.0019\n",
      "Epoch 81/100\n",
      "30/30 [==============================] - 0s 12ms/step - loss: 1.9218e-05 - val_loss: 0.0014\n",
      "Epoch 82/100\n",
      "30/30 [==============================] - 0s 11ms/step - loss: 1.9187e-05 - val_loss: 0.0020\n",
      "Epoch 83/100\n",
      "30/30 [==============================] - 0s 11ms/step - loss: 1.9471e-05 - val_loss: 0.0012\n",
      "Epoch 84/100\n",
      "30/30 [==============================] - 0s 11ms/step - loss: 1.8363e-05 - val_loss: 0.0016\n",
      "Epoch 85/100\n",
      "30/30 [==============================] - 0s 11ms/step - loss: 2.0359e-05 - val_loss: 0.0016\n",
      "Epoch 86/100\n",
      "30/30 [==============================] - 0s 11ms/step - loss: 1.9755e-05 - val_loss: 0.0011\n",
      "Epoch 87/100\n",
      "30/30 [==============================] - 0s 10ms/step - loss: 2.5068e-05 - val_loss: 0.0019\n",
      "Epoch 88/100\n",
      "30/30 [==============================] - 0s 11ms/step - loss: 2.1627e-05 - val_loss: 0.0017\n",
      "Epoch 89/100\n",
      "30/30 [==============================] - 0s 10ms/step - loss: 1.9479e-05 - val_loss: 0.0014\n",
      "Epoch 90/100\n",
      "30/30 [==============================] - 0s 10ms/step - loss: 2.2812e-05 - val_loss: 0.0010\n",
      "Epoch 91/100\n",
      "30/30 [==============================] - 1s 22ms/step - loss: 1.9740e-05 - val_loss: 0.0018\n",
      "Epoch 92/100\n",
      "30/30 [==============================] - 0s 13ms/step - loss: 1.8305e-05 - val_loss: 0.0014\n",
      "Epoch 93/100\n",
      "30/30 [==============================] - 0s 12ms/step - loss: 1.9717e-05 - val_loss: 0.0020\n",
      "Epoch 94/100\n",
      "30/30 [==============================] - 0s 12ms/step - loss: 1.8537e-05 - val_loss: 0.0015\n",
      "Epoch 95/100\n",
      "30/30 [==============================] - 0s 14ms/step - loss: 1.8729e-05 - val_loss: 0.0018\n",
      "Epoch 96/100\n",
      "30/30 [==============================] - 0s 13ms/step - loss: 1.8710e-05 - val_loss: 0.0013\n",
      "Epoch 97/100\n",
      "30/30 [==============================] - 0s 14ms/step - loss: 2.1982e-05 - val_loss: 0.0020\n",
      "Epoch 98/100\n",
      "30/30 [==============================] - 0s 12ms/step - loss: 1.9030e-05 - val_loss: 0.0018\n",
      "Epoch 99/100\n",
      "30/30 [==============================] - 0s 12ms/step - loss: 2.1292e-05 - val_loss: 0.0019\n",
      "Epoch 100/100\n",
      "30/30 [==============================] - 0s 13ms/step - loss: 2.1622e-05 - val_loss: 0.0019\n"
     ]
    },
    {
     "data": {
      "text/plain": [
       "<keras.callbacks.History at 0x23fbe80d810>"
      ]
     },
     "execution_count": 9,
     "metadata": {},
     "output_type": "execute_result"
    }
   ],
   "source": [
    "# 9. Fit mô hình với dữ liệu train\n",
    "model.fit(X_train,y_train,validation_data=(X_test,ytest),epochs=100,batch_size=64,verbose=1)"
   ]
  },
  {
   "cell_type": "code",
   "execution_count": 10,
   "metadata": {
    "id": "Rxx_KQSkQpBG"
   },
   "outputs": [
    {
     "name": "stdout",
     "output_type": "stream",
     "text": [
      "60/60 [==============================] - 4s 3ms/step\n",
      "20/20 [==============================] - 0s 3ms/step\n",
      "20/20 [==============================] - 0s 4ms/step\n"
     ]
    }
   ],
   "source": [
    "# 10. Dự báo dữ liệu test, val\n",
    "train_predict=model.predict(X_train)\n",
    "y_pred=model.predict(X_test)\n",
    "y_pred_val=model.predict(X_val)"
   ]
  },
  {
   "cell_type": "code",
   "execution_count": 11,
   "metadata": {
    "id": "wu_9j94kRonD"
   },
   "outputs": [
    {
     "name": "stdout",
     "output_type": "stream",
     "text": [
      "Testing RMSE: 0.35341068829112343\n",
      "The mean absolute percentage error (MAPE) on test set: 0.049\n",
      "The explained variance score (EVS) on test set: 0.981\n"
     ]
    }
   ],
   "source": [
    "# 12. Đánh giá độ chính xác thuật toán bằng RMSE\n",
    "valid_rmse = np.sqrt(np.mean((y_pred_val - yval)**2))\n",
    "test_rmse = np.sqrt(np.mean((y_pred - ytest)**2))\n",
    "print('Testing RMSE:', test_rmse)\n",
    "#MAPE\n",
    "mape = mean_absolute_percentage_error(ytest, y_pred)\n",
    "print(\"The mean absolute percentage error (MAPE) on test set: {:.3f}\".format(mape))\n",
    "# EVS\n",
    "evs = explained_variance_score(ytest, y_pred)\n",
    "print(\"The explained variance score (EVS) on test set: {:.3f}\".format(evs))\n"
   ]
  },
  {
   "cell_type": "code",
   "execution_count": 12,
   "metadata": {
    "id": "5rwTN10LQ7rj"
   },
   "outputs": [],
   "source": [
    "# 11. Chuẩn hóa dữ liệu y_pred, y_pred_val\n",
    "train_predict=scaler.inverse_transform(train_predict)\n",
    "y_pred=scaler.inverse_transform(y_pred)\n",
    "y_pred_val=scaler.inverse_transform(y_pred_val)\n",
    "train_data=scaler.inverse_transform(train_data)\n",
    "test_data=scaler.inverse_transform(test_data)\n",
    "val_data=scaler.inverse_transform(val_data)"
   ]
  },
  {
   "cell_type": "code",
   "execution_count": 13,
   "metadata": {
    "id": "izQZ1iQyYl6N"
   },
   "outputs": [],
   "source": [
    "# 13. Dự báo 30 ngày tiếp theo\n",
    "x_input=val_data[1:].reshape(1,-1)\n",
    "x_input.shape\n",
    "\n",
    "temp_input=list(x_input)\n",
    "temp_input=temp_input[0].tolist()\n",
    "\n",
    "from numpy import array\n",
    "\n",
    "lst_output=[]\n",
    "n_steps=x_input.shape[1]\n",
    "i=0\n",
    "while(i<30):\n",
    "    \n",
    "    if(len(temp_input)>100):\n",
    "        #print(temp_input)\n",
    "        x_input=np.array(temp_input[1:])\n",
    "        # print(\"{} day input {}\".format(i,x_input))\n",
    "        x_input=x_input.reshape(1,-1)\n",
    "        x_input = x_input.reshape((1, x_input.shape[1], 1))\n",
    "        #print(x_input)\n",
    "        yhat = model.predict(x_input, verbose=0)\n",
    "        # print(\"{} day output {}\".format(i,yhat))\n",
    "        temp_input.extend(yhat[0].tolist())\n",
    "        temp_input=temp_input[1:]\n",
    "        #print(temp_input)\n",
    "        lst_output.extend(yhat.tolist())\n",
    "        i=i+1\n",
    "    else:\n",
    "        x_input = x_input.reshape((1, x_input.shape[1],1))\n",
    "        yhat = model.predict(x_input, verbose=0)\n",
    "        # print(yhat[0])\n",
    "        temp_input.extend(yhat[0].tolist())\n",
    "        # print(len(temp_input))\n",
    "        lst_output.extend(yhat.tolist())\n",
    "        i=i+1\n"
   ]
  },
  {
   "cell_type": "code",
   "execution_count": 14,
   "metadata": {},
   "outputs": [],
   "source": [
    "df_train = pd.DataFrame(train_data)\n",
    "df_test = pd.DataFrame(test_data)\n",
    "df_test.index += df_train.index.stop\n",
    "df_val = pd.DataFrame(val_data)\n",
    "df_val.index += df_test.index.stop"
   ]
  },
  {
   "cell_type": "code",
   "execution_count": 15,
   "metadata": {},
   "outputs": [
    {
     "data": {
      "image/png": "[encoded data removed]",
      "text/plain": [
       "<Figure size 640x480 with 1 Axes>"
      ]
     },
     "metadata": {},
     "output_type": "display_data"
    }
   ],
   "source": [
    "df_train = pd.DataFrame(train_data)\n",
    "df_test = pd.DataFrame(test_data)\n",
    "df_test.index += df_train.index.stop\n",
    "df_val = pd.DataFrame(val_data)\n",
    "df_val.index += df_test.index.stop\n",
    "lst_output = scaler.inverse_transform(lst_output)\n",
    "plt.plot(df_train.index, df_train)\n",
    "plt.plot(df_test.index, df_test)\n",
    "plt.plot(pd.RangeIndex(start=df_test.index.start, stop=df_test.index.stop-2), y_pred)\n",
    "plt.plot(df_val.index, df_val)\n",
    "plt.plot(pd.RangeIndex(start=df_val.index.start, stop=df_val.index.stop-2), y_pred_val)\n",
    "\n",
    "plt.legend(['Train','Test','Predict','Validate','ValidatePred','Predict30days'])\n",
    "plt.show()"
   ]
  }
 ],
 "metadata": {
  "colab": {
   "provenance": []
  },
  "kernelspec": {
   "display_name": "Python 3 (ipykernel)",
   "language": "python",
   "name": "python3"
  },
  "language_info": {
   "codemirror_mode": {
    "name": "ipython",
    "version": 3
   },
   "file_extension": ".py",
   "mimetype": "text/x-python",
   "name": "python",
   "nbconvert_exporter": "python",
   "pygments_lexer": "ipython3",
   "version": "3.11.2"
  }
 },
 "nbformat": 4,
 "nbformat_minor": 1
}

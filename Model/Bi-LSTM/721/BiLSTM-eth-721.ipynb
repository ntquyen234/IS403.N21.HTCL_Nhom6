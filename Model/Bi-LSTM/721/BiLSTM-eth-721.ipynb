{
 "cells": [
  {
   "cell_type": "code",
   "execution_count": 16,
   "metadata": {
    "colab": {
     "base_uri": "https://localhost:8080/"
    },
    "id": "FMDKda-XIUAK",
    "outputId": "105c17ca-6662-458e-af85-1e676f17ea00"
   },
   "outputs": [],
   "source": [
    "# 1. Import thư viện cần thiết\n",
    "import numpy as np\n",
    "import pandas as pd\n",
    "import matplotlib.pyplot as plt\n",
    "from sklearn.preprocessing import MinMaxScaler\n",
    "from sklearn.metrics import explained_variance_score, mean_absolute_percentage_error\n",
    "from keras.models import Sequential\n",
    "from keras.layers import Dense, LSTM, Bidirectional"
   ]
  },
  {
   "cell_type": "code",
   "execution_count": 17,
   "metadata": {
    "colab": {
     "base_uri": "https://localhost:8080/"
    },
    "id": "aRm9GQ8KJJ5N",
    "outputId": "45092e4f-29fe-4c59-d244-556df4509d41"
   },
   "outputs": [],
   "source": [
    "# 2. Đọc file csv và gắng index với giá Close\n",
    "df = pd.read_csv('../../../Data/ETH-USD.csv')\n",
    "# print(df)\n",
    "df1=df.reset_index()['Close']\n"
   ]
  },
  {
   "cell_type": "code",
   "execution_count": 18,
   "metadata": {
    "id": "RdVpDho2JgL5"
   },
   "outputs": [],
   "source": [
    "# 3. Scaler data\n",
    "scaler=MinMaxScaler(feature_range=(0,1))\n",
    "df1=scaler.fit_transform(np.array(df1).reshape(-1,1))"
   ]
  },
  {
   "cell_type": "code",
   "execution_count": 19,
   "metadata": {
    "id": "B5JXpenzJoR3"
   },
   "outputs": [],
   "source": [
    "# 4. Chia train test\n",
    "train_size = int(0.7 * len(df))\n",
    "test_size = int(0.2 * len(df))\n",
    "val_size = len(df1) - train_size - test_size\n",
    "\n",
    "train_data = df1[:train_size]\n",
    "test_data = df1[train_size:train_size+test_size]\n",
    "val_data = df1[train_size+test_size:]"
   ]
  },
  {
   "cell_type": "code",
   "execution_count": 20,
   "metadata": {
    "id": "yJfmuBORLSfC"
   },
   "outputs": [],
   "source": [
    "# 5. Hàm Create Dataset\n",
    "import numpy\n",
    "# convert an array of values into a dataset matrix\n",
    "def create_dataset(dataset, time_step=1):\n",
    "\tdataX, dataY = [], []\n",
    "\tfor i in range(len(dataset)-time_step-1):\n",
    "\t\ta = dataset[i:(i+time_step), 0]   ###i=0, X=0,1,2,3-----99   Y=100 \n",
    "\t\tdataX.append(a)\n",
    "\t\tdataY.append(dataset[i + time_step, 0])\n",
    "\treturn numpy.array(dataX), numpy.array(dataY)"
   ]
  },
  {
   "cell_type": "code",
   "execution_count": 21,
   "metadata": {
    "id": "e81cKq03LXFB"
   },
   "outputs": [],
   "source": [
    "\n",
    "\n",
    "time_step = 1\n",
    "X_train, y_train = create_dataset(train_data, time_step)\n",
    "X_val, yval = create_dataset(val_data, time_step)\n",
    "X_test, ytest = create_dataset(test_data, time_step)"
   ]
  },
  {
   "cell_type": "code",
   "execution_count": 22,
   "metadata": {
    "id": "RdBVfku7O2qb"
   },
   "outputs": [],
   "source": [
    "# 7. Reshape input to be [samples, time steps, features] which is required for LSTM\n",
    "X_train =X_train.reshape(X_train.shape[0],X_train.shape[1] , 1)\n",
    "X_test = X_test.reshape(X_test.shape[0],X_test.shape[1] , 1)\n",
    "X_val = X_val.reshape(X_val.shape[0],X_val.shape[1] , 1)"
   ]
  },
  {
   "cell_type": "code",
   "execution_count": 23,
   "metadata": {
    "id": "sSfxrE7BO9vX"
   },
   "outputs": [],
   "source": [
    "# 8. Define LSTM Model\n",
    "\n",
    "model=Sequential()\n",
    "model.add(Bidirectional(LSTM(50,return_sequences=True,input_shape=(100,1))))\n",
    "model.add(Bidirectional(LSTM(50,return_sequences=True)))\n",
    "model.add(Bidirectional(LSTM(50)))\n",
    "model.add(Dense(1))\n",
    "model.compile(loss='mean_squared_error',optimizer='adam')"
   ]
  },
  {
   "cell_type": "code",
   "execution_count": 24,
   "metadata": {
    "colab": {
     "base_uri": "https://localhost:8080/"
    },
    "id": "zgfeujZSPEKr",
    "outputId": "284a93ef-5092-4bfa-a89b-d94d882b0be6"
   },
   "outputs": [
    {
     "name": "stdout",
     "output_type": "stream",
     "text": [
      "Epoch 1/100\n"
     ]
    },
    {
     "name": "stdout",
     "output_type": "stream",
     "text": [
      "23/23 [==============================] - 16s 172ms/step - loss: 0.0389 - val_loss: 0.1089\n",
      "Epoch 2/100\n",
      "23/23 [==============================] - 0s 9ms/step - loss: 0.0171 - val_loss: 0.0099\n",
      "Epoch 3/100\n",
      "23/23 [==============================] - 0s 9ms/step - loss: 9.5043e-04 - val_loss: 9.6679e-04\n",
      "Epoch 4/100\n",
      "23/23 [==============================] - 0s 9ms/step - loss: 4.0293e-04 - val_loss: 0.0024\n",
      "Epoch 5/100\n",
      "23/23 [==============================] - 0s 9ms/step - loss: 3.4393e-04 - val_loss: 8.9135e-04\n",
      "Epoch 6/100\n",
      "23/23 [==============================] - 0s 8ms/step - loss: 2.9426e-04 - val_loss: 9.1654e-04\n",
      "Epoch 7/100\n",
      "23/23 [==============================] - 0s 8ms/step - loss: 2.9165e-04 - val_loss: 7.6117e-04\n",
      "Epoch 8/100\n",
      "23/23 [==============================] - 0s 9ms/step - loss: 2.6145e-04 - val_loss: 8.1599e-04\n",
      "Epoch 9/100\n",
      "23/23 [==============================] - 0s 8ms/step - loss: 2.5515e-04 - val_loss: 6.0085e-04\n",
      "Epoch 10/100\n",
      "23/23 [==============================] - 0s 9ms/step - loss: 2.4479e-04 - val_loss: 5.7000e-04\n",
      "Epoch 11/100\n",
      "23/23 [==============================] - 0s 9ms/step - loss: 2.5231e-04 - val_loss: 6.5333e-04\n",
      "Epoch 12/100\n",
      "23/23 [==============================] - 0s 8ms/step - loss: 2.4357e-04 - val_loss: 7.0597e-04\n",
      "Epoch 13/100\n",
      "23/23 [==============================] - 0s 10ms/step - loss: 2.5410e-04 - val_loss: 6.6262e-04\n",
      "Epoch 14/100\n",
      "23/23 [==============================] - 0s 8ms/step - loss: 2.3311e-04 - val_loss: 5.5951e-04\n",
      "Epoch 15/100\n",
      "23/23 [==============================] - 0s 9ms/step - loss: 2.3471e-04 - val_loss: 5.5921e-04\n",
      "Epoch 16/100\n",
      "23/23 [==============================] - 0s 10ms/step - loss: 2.3087e-04 - val_loss: 5.3484e-04\n",
      "Epoch 17/100\n",
      "23/23 [==============================] - 0s 9ms/step - loss: 2.4020e-04 - val_loss: 6.0919e-04\n",
      "Epoch 18/100\n",
      "23/23 [==============================] - 0s 11ms/step - loss: 2.2853e-04 - val_loss: 6.3059e-04\n",
      "Epoch 19/100\n",
      "23/23 [==============================] - 0s 12ms/step - loss: 2.3088e-04 - val_loss: 5.4779e-04\n",
      "Epoch 20/100\n",
      "23/23 [==============================] - 0s 10ms/step - loss: 2.3683e-04 - val_loss: 6.8197e-04\n",
      "Epoch 21/100\n",
      "23/23 [==============================] - 0s 10ms/step - loss: 2.2558e-04 - val_loss: 6.9593e-04\n",
      "Epoch 22/100\n",
      "23/23 [==============================] - 0s 11ms/step - loss: 2.2285e-04 - val_loss: 6.2794e-04\n",
      "Epoch 23/100\n",
      "23/23 [==============================] - 0s 13ms/step - loss: 2.2383e-04 - val_loss: 7.1057e-04\n",
      "Epoch 24/100\n",
      "23/23 [==============================] - 0s 13ms/step - loss: 2.3465e-04 - val_loss: 6.4070e-04\n",
      "Epoch 25/100\n",
      "23/23 [==============================] - 0s 12ms/step - loss: 2.2766e-04 - val_loss: 5.5771e-04\n",
      "Epoch 26/100\n",
      "23/23 [==============================] - 1s 23ms/step - loss: 2.2601e-04 - val_loss: 5.4672e-04\n",
      "Epoch 27/100\n",
      "23/23 [==============================] - 0s 13ms/step - loss: 2.1934e-04 - val_loss: 6.3883e-04\n",
      "Epoch 28/100\n",
      "23/23 [==============================] - 0s 11ms/step - loss: 2.3035e-04 - val_loss: 6.4366e-04\n",
      "Epoch 29/100\n",
      "23/23 [==============================] - 0s 10ms/step - loss: 2.3253e-04 - val_loss: 6.3627e-04\n",
      "Epoch 30/100\n",
      "23/23 [==============================] - 0s 10ms/step - loss: 2.3832e-04 - val_loss: 5.7982e-04\n",
      "Epoch 31/100\n",
      "23/23 [==============================] - 0s 10ms/step - loss: 2.2785e-04 - val_loss: 6.7821e-04\n",
      "Epoch 32/100\n",
      "23/23 [==============================] - 0s 10ms/step - loss: 2.4185e-04 - val_loss: 6.7689e-04\n",
      "Epoch 33/100\n",
      "23/23 [==============================] - 0s 10ms/step - loss: 2.4695e-04 - val_loss: 6.1453e-04\n",
      "Epoch 34/100\n",
      "23/23 [==============================] - 0s 9ms/step - loss: 2.1625e-04 - val_loss: 7.5343e-04\n",
      "Epoch 35/100\n",
      "23/23 [==============================] - 0s 8ms/step - loss: 2.4892e-04 - val_loss: 7.8516e-04\n",
      "Epoch 36/100\n",
      "23/23 [==============================] - 0s 8ms/step - loss: 2.5368e-04 - val_loss: 0.0012\n",
      "Epoch 37/100\n",
      "23/23 [==============================] - 0s 8ms/step - loss: 2.4914e-04 - val_loss: 6.2201e-04\n",
      "Epoch 38/100\n",
      "23/23 [==============================] - 0s 8ms/step - loss: 2.2913e-04 - val_loss: 5.7121e-04\n",
      "Epoch 39/100\n",
      "23/23 [==============================] - 0s 9ms/step - loss: 2.2121e-04 - val_loss: 5.8657e-04\n",
      "Epoch 40/100\n",
      "23/23 [==============================] - 0s 8ms/step - loss: 2.2254e-04 - val_loss: 5.5184e-04\n",
      "Epoch 41/100\n",
      "23/23 [==============================] - 0s 8ms/step - loss: 2.3180e-04 - val_loss: 5.9701e-04\n",
      "Epoch 42/100\n",
      "23/23 [==============================] - 0s 9ms/step - loss: 2.2505e-04 - val_loss: 5.6445e-04\n",
      "Epoch 43/100\n",
      "23/23 [==============================] - 0s 9ms/step - loss: 2.7101e-04 - val_loss: 5.7797e-04\n",
      "Epoch 44/100\n",
      "23/23 [==============================] - 0s 11ms/step - loss: 2.4882e-04 - val_loss: 7.0567e-04\n",
      "Epoch 45/100\n",
      "23/23 [==============================] - 0s 9ms/step - loss: 2.3545e-04 - val_loss: 5.7005e-04\n",
      "Epoch 46/100\n",
      "23/23 [==============================] - 0s 9ms/step - loss: 2.3139e-04 - val_loss: 6.1660e-04\n",
      "Epoch 47/100\n",
      "23/23 [==============================] - 0s 9ms/step - loss: 2.3355e-04 - val_loss: 7.9352e-04\n",
      "Epoch 48/100\n",
      "23/23 [==============================] - 0s 11ms/step - loss: 2.3241e-04 - val_loss: 5.6791e-04\n",
      "Epoch 49/100\n",
      "23/23 [==============================] - 0s 9ms/step - loss: 2.1545e-04 - val_loss: 6.3801e-04\n",
      "Epoch 50/100\n",
      "23/23 [==============================] - 0s 9ms/step - loss: 2.2967e-04 - val_loss: 6.6135e-04\n",
      "Epoch 51/100\n",
      "23/23 [==============================] - 0s 15ms/step - loss: 2.2324e-04 - val_loss: 7.3093e-04\n",
      "Epoch 52/100\n",
      "23/23 [==============================] - 0s 12ms/step - loss: 2.3455e-04 - val_loss: 7.3798e-04\n",
      "Epoch 53/100\n",
      "23/23 [==============================] - 0s 9ms/step - loss: 2.3867e-04 - val_loss: 6.1211e-04\n",
      "Epoch 54/100\n",
      "23/23 [==============================] - 0s 9ms/step - loss: 2.3012e-04 - val_loss: 8.4900e-04\n",
      "Epoch 55/100\n",
      "23/23 [==============================] - 0s 9ms/step - loss: 2.5567e-04 - val_loss: 5.7129e-04\n",
      "Epoch 56/100\n",
      "23/23 [==============================] - 0s 8ms/step - loss: 2.3341e-04 - val_loss: 5.4953e-04\n",
      "Epoch 57/100\n",
      "23/23 [==============================] - 0s 10ms/step - loss: 2.4614e-04 - val_loss: 8.1762e-04\n",
      "Epoch 58/100\n",
      "23/23 [==============================] - 0s 9ms/step - loss: 2.4432e-04 - val_loss: 5.9997e-04\n",
      "Epoch 59/100\n",
      "23/23 [==============================] - 0s 10ms/step - loss: 2.3017e-04 - val_loss: 6.6378e-04\n",
      "Epoch 60/100\n",
      "23/23 [==============================] - 0s 11ms/step - loss: 2.4139e-04 - val_loss: 5.6725e-04\n",
      "Epoch 61/100\n",
      "23/23 [==============================] - 0s 9ms/step - loss: 2.4664e-04 - val_loss: 8.9163e-04\n",
      "Epoch 62/100\n",
      "23/23 [==============================] - 0s 10ms/step - loss: 2.6309e-04 - val_loss: 5.6540e-04\n",
      "Epoch 63/100\n",
      "23/23 [==============================] - 0s 10ms/step - loss: 2.2580e-04 - val_loss: 5.7283e-04\n",
      "Epoch 64/100\n",
      "23/23 [==============================] - 0s 10ms/step - loss: 2.1830e-04 - val_loss: 5.4224e-04\n",
      "Epoch 65/100\n",
      "23/23 [==============================] - 0s 12ms/step - loss: 2.4386e-04 - val_loss: 6.3081e-04\n",
      "Epoch 66/100\n",
      "23/23 [==============================] - 0s 12ms/step - loss: 2.2482e-04 - val_loss: 6.7817e-04\n",
      "Epoch 67/100\n",
      "23/23 [==============================] - 0s 11ms/step - loss: 2.2978e-04 - val_loss: 5.7571e-04\n",
      "Epoch 68/100\n",
      "23/23 [==============================] - 0s 11ms/step - loss: 2.4661e-04 - val_loss: 5.8331e-04\n",
      "Epoch 69/100\n",
      "23/23 [==============================] - 0s 11ms/step - loss: 2.2232e-04 - val_loss: 5.8055e-04\n",
      "Epoch 70/100\n",
      "23/23 [==============================] - 1s 24ms/step - loss: 2.2798e-04 - val_loss: 5.8849e-04\n",
      "Epoch 71/100\n",
      "23/23 [==============================] - 0s 16ms/step - loss: 2.2618e-04 - val_loss: 6.3009e-04\n",
      "Epoch 72/100\n",
      "23/23 [==============================] - 0s 13ms/step - loss: 2.2523e-04 - val_loss: 7.1847e-04\n",
      "Epoch 73/100\n",
      "23/23 [==============================] - 0s 12ms/step - loss: 2.3086e-04 - val_loss: 6.7259e-04\n",
      "Epoch 74/100\n",
      "23/23 [==============================] - 0s 14ms/step - loss: 2.3877e-04 - val_loss: 5.7677e-04\n",
      "Epoch 75/100\n",
      "23/23 [==============================] - 0s 12ms/step - loss: 2.8237e-04 - val_loss: 7.3307e-04\n",
      "Epoch 76/100\n",
      "23/23 [==============================] - 0s 11ms/step - loss: 2.5762e-04 - val_loss: 7.5847e-04\n",
      "Epoch 77/100\n",
      "23/23 [==============================] - 0s 12ms/step - loss: 2.1907e-04 - val_loss: 6.1032e-04\n",
      "Epoch 78/100\n",
      "23/23 [==============================] - 0s 11ms/step - loss: 2.1721e-04 - val_loss: 6.7183e-04\n",
      "Epoch 79/100\n",
      "23/23 [==============================] - 0s 11ms/step - loss: 2.2993e-04 - val_loss: 6.0610e-04\n",
      "Epoch 80/100\n",
      "23/23 [==============================] - 0s 9ms/step - loss: 2.2553e-04 - val_loss: 5.9332e-04\n",
      "Epoch 81/100\n",
      "23/23 [==============================] - 0s 10ms/step - loss: 2.4413e-04 - val_loss: 5.5384e-04\n",
      "Epoch 82/100\n",
      "23/23 [==============================] - 0s 11ms/step - loss: 2.2676e-04 - val_loss: 5.9871e-04\n",
      "Epoch 83/100\n",
      "23/23 [==============================] - 0s 12ms/step - loss: 2.3248e-04 - val_loss: 6.0469e-04\n",
      "Epoch 84/100\n",
      "23/23 [==============================] - 0s 11ms/step - loss: 2.5157e-04 - val_loss: 6.5978e-04\n",
      "Epoch 85/100\n",
      "23/23 [==============================] - 0s 10ms/step - loss: 2.8128e-04 - val_loss: 5.9721e-04\n",
      "Epoch 86/100\n",
      "23/23 [==============================] - 0s 10ms/step - loss: 2.5750e-04 - val_loss: 7.1712e-04\n",
      "Epoch 87/100\n",
      "23/23 [==============================] - 0s 11ms/step - loss: 2.3556e-04 - val_loss: 6.5158e-04\n",
      "Epoch 88/100\n",
      "23/23 [==============================] - 0s 9ms/step - loss: 2.1591e-04 - val_loss: 8.6878e-04\n",
      "Epoch 89/100\n",
      "23/23 [==============================] - 0s 10ms/step - loss: 2.4645e-04 - val_loss: 6.5679e-04\n",
      "Epoch 90/100\n",
      "23/23 [==============================] - 0s 10ms/step - loss: 2.1959e-04 - val_loss: 5.5714e-04\n",
      "Epoch 91/100\n",
      "23/23 [==============================] - 0s 10ms/step - loss: 2.3969e-04 - val_loss: 6.4336e-04\n",
      "Epoch 92/100\n",
      "23/23 [==============================] - 0s 11ms/step - loss: 2.3194e-04 - val_loss: 5.7010e-04\n",
      "Epoch 93/100\n",
      "23/23 [==============================] - 0s 11ms/step - loss: 2.4533e-04 - val_loss: 5.8035e-04\n",
      "Epoch 94/100\n",
      "23/23 [==============================] - 0s 11ms/step - loss: 2.3482e-04 - val_loss: 5.6638e-04\n",
      "Epoch 95/100\n",
      "23/23 [==============================] - 0s 12ms/step - loss: 2.4279e-04 - val_loss: 6.4365e-04\n",
      "Epoch 96/100\n",
      "23/23 [==============================] - 0s 14ms/step - loss: 2.3605e-04 - val_loss: 5.7365e-04\n",
      "Epoch 97/100\n",
      "23/23 [==============================] - 1s 25ms/step - loss: 2.4231e-04 - val_loss: 7.6208e-04\n",
      "Epoch 98/100\n",
      "23/23 [==============================] - 0s 13ms/step - loss: 2.4366e-04 - val_loss: 5.6052e-04\n",
      "Epoch 99/100\n",
      "23/23 [==============================] - 0s 14ms/step - loss: 2.4706e-04 - val_loss: 6.6765e-04\n",
      "Epoch 100/100\n",
      "23/23 [==============================] - 0s 12ms/step - loss: 2.4243e-04 - val_loss: 6.2025e-04\n"
     ]
    },
    {
     "data": {
      "text/plain": [
       "<keras.callbacks.History at 0x178429bdad0>"
      ]
     },
     "execution_count": 24,
     "metadata": {},
     "output_type": "execute_result"
    }
   ],
   "source": [
    "# 9. Fit mô hình với dữ liệu train\n",
    "model.fit(X_train,y_train,validation_data=(X_test,ytest),epochs=100,batch_size=64,verbose=1)"
   ]
  },
  {
   "cell_type": "code",
   "execution_count": 25,
   "metadata": {
    "id": "Rxx_KQSkQpBG"
   },
   "outputs": [
    {
     "name": "stdout",
     "output_type": "stream",
     "text": [
      "45/45 [==============================] - 4s 3ms/step\n",
      "13/13 [==============================] - 0s 4ms/step\n",
      "7/7 [==============================] - 0s 3ms/step\n"
     ]
    }
   ],
   "source": [
    "# 10. Dự báo dữ liệu test, val\n",
    "train_predict=model.predict(X_train)\n",
    "y_pred=model.predict(X_test)\n",
    "y_pred_val=model.predict(X_val)"
   ]
  },
  {
   "cell_type": "code",
   "execution_count": 26,
   "metadata": {
    "id": "wu_9j94kRonD"
   },
   "outputs": [
    {
     "name": "stdout",
     "output_type": "stream",
     "text": [
      "Testing RMSE: 0.3203638528377092\n",
      "The mean absolute percentage error (MAPE) on test set: 0.036\n",
      "The explained variance score (EVS) on test set: 0.989\n"
     ]
    }
   ],
   "source": [
    "# 12. Đánh giá độ chính xác thuật toán bằng RMSE\n",
    "valid_rmse = np.sqrt(np.mean((y_pred_val - yval)**2))\n",
    "test_rmse = np.sqrt(np.mean((y_pred - ytest)**2))\n",
    "print('Testing RMSE:', test_rmse)\n",
    "#MAPE\n",
    "mape = mean_absolute_percentage_error(ytest, y_pred)\n",
    "print(\"The mean absolute percentage error (MAPE) on test set: {:.3f}\".format(mape))\n",
    "# EVS\n",
    "evs = explained_variance_score(ytest, y_pred)\n",
    "print(\"The explained variance score (EVS) on test set: {:.3f}\".format(evs))\n"
   ]
  },
  {
   "cell_type": "code",
   "execution_count": 27,
   "metadata": {
    "id": "5rwTN10LQ7rj"
   },
   "outputs": [],
   "source": [
    "# 11. Chuẩn hóa dữ liệu y_pred, y_pred_val\n",
    "train_predict=scaler.inverse_transform(train_predict)\n",
    "y_pred=scaler.inverse_transform(y_pred)\n",
    "y_pred_val=scaler.inverse_transform(y_pred_val)\n",
    "train_data=scaler.inverse_transform(train_data)\n",
    "test_data=scaler.inverse_transform(test_data)\n",
    "val_data=scaler.inverse_transform(val_data)"
   ]
  },
  {
   "cell_type": "code",
   "execution_count": 28,
   "metadata": {
    "id": "izQZ1iQyYl6N"
   },
   "outputs": [],
   "source": [
    "# 13. Dự báo 30 ngày tiếp theo\n",
    "x_input=val_data[1:].reshape(1,-1)\n",
    "x_input.shape\n",
    "\n",
    "temp_input=list(x_input)\n",
    "temp_input=temp_input[0].tolist()\n",
    "\n",
    "from numpy import array\n",
    "\n",
    "lst_output=[]\n",
    "n_steps=x_input.shape[1]\n",
    "i=0\n",
    "while(i<30):\n",
    "    \n",
    "    if(len(temp_input)>100):\n",
    "        #print(temp_input)\n",
    "        x_input=np.array(temp_input[1:])\n",
    "        # print(\"{} day input {}\".format(i,x_input))\n",
    "        x_input=x_input.reshape(1,-1)\n",
    "        x_input = x_input.reshape((1, x_input.shape[1], 1))\n",
    "        #print(x_input)\n",
    "        yhat = model.predict(x_input, verbose=0)\n",
    "        # print(\"{} day output {}\".format(i,yhat))\n",
    "        temp_input.extend(yhat[0].tolist())\n",
    "        temp_input=temp_input[1:]\n",
    "        #print(temp_input)\n",
    "        lst_output.extend(yhat.tolist())\n",
    "        i=i+1\n",
    "    else:\n",
    "        x_input = x_input.reshape((1, x_input.shape[1],1))\n",
    "        yhat = model.predict(x_input, verbose=0)\n",
    "        # print(yhat[0])\n",
    "        temp_input.extend(yhat[0].tolist())\n",
    "        # print(len(temp_input))\n",
    "        lst_output.extend(yhat.tolist())\n",
    "        i=i+1\n"
   ]
  },
  {
   "cell_type": "code",
   "execution_count": 29,
   "metadata": {},
   "outputs": [],
   "source": [
    "df_train = pd.DataFrame(train_data)\n",
    "df_test = pd.DataFrame(test_data)\n",
    "df_test.index += df_train.index.stop\n",
    "df_val = pd.DataFrame(val_data)\n",
    "df_val.index += df_test.index.stop"
   ]
  },
  {
   "cell_type": "code",
   "execution_count": 30,
   "metadata": {},
   "outputs": [
    {
     "data": {
      "image/png": "[encoded data removed]",
      "text/plain": [
       "<Figure size 640x480 with 1 Axes>"
      ]
     },
     "metadata": {},
     "output_type": "display_data"
    }
   ],
   "source": [
    "df_train = pd.DataFrame(train_data)\n",
    "df_test = pd.DataFrame(test_data)\n",
    "df_test.index += df_train.index.stop\n",
    "df_val = pd.DataFrame(val_data)\n",
    "df_val.index += df_test.index.stop\n",
    "lst_output = scaler.inverse_transform(lst_output)\n",
    "plt.plot(df_train.index, df_train)\n",
    "plt.plot(df_test.index, df_test)\n",
    "plt.plot(pd.RangeIndex(start=df_test.index.start, stop=df_test.index.stop-2), y_pred)\n",
    "plt.plot(df_val.index, df_val)\n",
    "plt.plot(pd.RangeIndex(start=df_val.index.start, stop=df_val.index.stop-2), y_pred_val)\n",
    "\n",
    "plt.legend(['Train','Test','Predict','Validate','ValidatePred','Predict30days'])\n",
    "plt.show()"
   ]
  }
 ],
 "metadata": {
  "colab": {
   "provenance": []
  },
  "kernelspec": {
   "display_name": "Python 3 (ipykernel)",
   "language": "python",
   "name": "python3"
  },
  "language_info": {
   "codemirror_mode": {
    "name": "ipython",
    "version": 3
   },
   "file_extension": ".py",
   "mimetype": "text/x-python",
   "name": "python",
   "nbconvert_exporter": "python",
   "pygments_lexer": "ipython3",
   "version": "3.11.2"
  }
 },
 "nbformat": 4,
 "nbformat_minor": 1
}

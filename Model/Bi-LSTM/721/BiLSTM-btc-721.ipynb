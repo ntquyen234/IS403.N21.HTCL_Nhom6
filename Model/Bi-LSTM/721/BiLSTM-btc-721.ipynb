{
 "cells": [
  {
   "cell_type": "code",
   "execution_count": 1,
   "metadata": {
    "colab": {
     "base_uri": "https://localhost:8080/"
    },
    "id": "FMDKda-XIUAK",
    "outputId": "105c17ca-6662-458e-af85-1e676f17ea00"
   },
   "outputs": [],
   "source": [
    "# 1. Import thư viện cần thiết\n",
    "import numpy as np\n",
    "import pandas as pd\n",
    "import matplotlib.pyplot as plt\n",
    "from sklearn.preprocessing import MinMaxScaler\n",
    "from sklearn.metrics import explained_variance_score, mean_absolute_percentage_error\n",
    "from keras.models import Sequential\n",
    "from keras.layers import Dense, LSTM, Bidirectional"
   ]
  },
  {
   "cell_type": "code",
   "execution_count": 2,
   "metadata": {
    "colab": {
     "base_uri": "https://localhost:8080/"
    },
    "id": "aRm9GQ8KJJ5N",
    "outputId": "45092e4f-29fe-4c59-d244-556df4509d41"
   },
   "outputs": [],
   "source": [
    "# 2. Đọc file csv và gắng index với giá Close\n",
    "df = pd.read_csv('../../../Data/BTC-USD.csv')\n",
    "# print(df)\n",
    "df1=df.reset_index()['Close']\n"
   ]
  },
  {
   "cell_type": "code",
   "execution_count": 3,
   "metadata": {
    "id": "RdVpDho2JgL5"
   },
   "outputs": [],
   "source": [
    "# 3. Scaler data\n",
    "scaler=MinMaxScaler(feature_range=(0,1))\n",
    "df1=scaler.fit_transform(np.array(df1).reshape(-1,1))"
   ]
  },
  {
   "cell_type": "code",
   "execution_count": 4,
   "metadata": {
    "id": "B5JXpenzJoR3"
   },
   "outputs": [],
   "source": [
    "# 4. Chia train test\n",
    "train_size = int(0.7 * len(df))\n",
    "test_size = int(0.2 * len(df))\n",
    "val_size = len(df1) - train_size - test_size\n",
    "\n",
    "train_data = df1[:train_size]\n",
    "test_data = df1[train_size:train_size+test_size]\n",
    "val_data = df1[train_size+test_size:]"
   ]
  },
  {
   "cell_type": "code",
   "execution_count": 5,
   "metadata": {
    "id": "yJfmuBORLSfC"
   },
   "outputs": [],
   "source": [
    "# 5. Hàm Create Dataset\n",
    "import numpy\n",
    "# convert an array of values into a dataset matrix\n",
    "def create_dataset(dataset, time_step=1):\n",
    "\tdataX, dataY = [], []\n",
    "\tfor i in range(len(dataset)-time_step-1):\n",
    "\t\ta = dataset[i:(i+time_step), 0]   ###i=0, X=0,1,2,3-----99   Y=100 \n",
    "\t\tdataX.append(a)\n",
    "\t\tdataY.append(dataset[i + time_step, 0])\n",
    "\treturn numpy.array(dataX), numpy.array(dataY)"
   ]
  },
  {
   "cell_type": "code",
   "execution_count": 6,
   "metadata": {
    "id": "e81cKq03LXFB"
   },
   "outputs": [],
   "source": [
    "\n",
    "\n",
    "time_step = 1\n",
    "X_train, y_train = create_dataset(train_data, time_step)\n",
    "X_val, yval = create_dataset(val_data, time_step)\n",
    "X_test, ytest = create_dataset(test_data, time_step)"
   ]
  },
  {
   "cell_type": "code",
   "execution_count": 7,
   "metadata": {
    "id": "RdBVfku7O2qb"
   },
   "outputs": [],
   "source": [
    "# 7. Reshape input to be [samples, time steps, features] which is required for LSTM\n",
    "X_train =X_train.reshape(X_train.shape[0],X_train.shape[1] , 1)\n",
    "X_test = X_test.reshape(X_test.shape[0],X_test.shape[1] , 1)\n",
    "X_val = X_val.reshape(X_val.shape[0],X_val.shape[1] , 1)"
   ]
  },
  {
   "cell_type": "code",
   "execution_count": 8,
   "metadata": {
    "id": "sSfxrE7BO9vX"
   },
   "outputs": [],
   "source": [
    "# 8. Define LSTM Model\n",
    "\n",
    "model=Sequential()\n",
    "model.add(Bidirectional(LSTM(50,return_sequences=True,input_shape=(100,1))))\n",
    "model.add(Bidirectional(LSTM(50,return_sequences=True)))\n",
    "model.add(Bidirectional(LSTM(50)))\n",
    "model.add(Dense(1))\n",
    "model.compile(loss='mean_squared_error',optimizer='adam')"
   ]
  },
  {
   "cell_type": "code",
   "execution_count": 9,
   "metadata": {
    "colab": {
     "base_uri": "https://localhost:8080/"
    },
    "id": "zgfeujZSPEKr",
    "outputId": "284a93ef-5092-4bfa-a89b-d94d882b0be6"
   },
   "outputs": [
    {
     "name": "stdout",
     "output_type": "stream",
     "text": [
      "Epoch 1/100\n"
     ]
    },
    {
     "name": "stdout",
     "output_type": "stream",
     "text": [
      "35/35 [==============================] - 16s 60ms/step - loss: 0.0043 - val_loss: 0.2754\n",
      "Epoch 2/100\n",
      "35/35 [==============================] - 0s 8ms/step - loss: 0.0019 - val_loss: 0.0038\n",
      "Epoch 3/100\n",
      "35/35 [==============================] - 0s 10ms/step - loss: 6.4025e-05 - val_loss: 8.7790e-04\n",
      "Epoch 4/100\n",
      "35/35 [==============================] - 1s 15ms/step - loss: 2.0126e-05 - val_loss: 5.8152e-04\n",
      "Epoch 5/100\n",
      "35/35 [==============================] - 0s 10ms/step - loss: 1.8539e-05 - val_loss: 6.9111e-04\n",
      "Epoch 6/100\n",
      "35/35 [==============================] - 0s 8ms/step - loss: 1.9269e-05 - val_loss: 5.9712e-04\n",
      "Epoch 7/100\n",
      "35/35 [==============================] - 0s 7ms/step - loss: 1.9046e-05 - val_loss: 5.9099e-04\n",
      "Epoch 8/100\n",
      "35/35 [==============================] - 0s 14ms/step - loss: 1.9946e-05 - val_loss: 7.1314e-04\n",
      "Epoch 9/100\n",
      "35/35 [==============================] - 0s 8ms/step - loss: 1.9539e-05 - val_loss: 5.9479e-04\n",
      "Epoch 10/100\n",
      "35/35 [==============================] - 0s 9ms/step - loss: 2.0709e-05 - val_loss: 5.8401e-04\n",
      "Epoch 11/100\n",
      "35/35 [==============================] - 0s 8ms/step - loss: 1.8612e-05 - val_loss: 5.9101e-04\n",
      "Epoch 12/100\n",
      "35/35 [==============================] - 1s 14ms/step - loss: 1.8491e-05 - val_loss: 5.8778e-04\n",
      "Epoch 13/100\n",
      "35/35 [==============================] - 0s 11ms/step - loss: 1.9513e-05 - val_loss: 6.6854e-04\n",
      "Epoch 14/100\n",
      "35/35 [==============================] - 0s 8ms/step - loss: 1.9651e-05 - val_loss: 7.4426e-04\n",
      "Epoch 15/100\n",
      "35/35 [==============================] - 1s 15ms/step - loss: 2.2594e-05 - val_loss: 7.8562e-04\n",
      "Epoch 16/100\n",
      "35/35 [==============================] - 0s 12ms/step - loss: 1.8252e-05 - val_loss: 7.3867e-04\n",
      "Epoch 17/100\n",
      "35/35 [==============================] - 0s 14ms/step - loss: 1.8769e-05 - val_loss: 8.2694e-04\n",
      "Epoch 18/100\n",
      "35/35 [==============================] - 1s 18ms/step - loss: 1.9006e-05 - val_loss: 0.0010\n",
      "Epoch 19/100\n",
      "35/35 [==============================] - 0s 10ms/step - loss: 1.9015e-05 - val_loss: 8.3424e-04\n",
      "Epoch 20/100\n",
      "35/35 [==============================] - 0s 9ms/step - loss: 2.1751e-05 - val_loss: 8.3837e-04\n",
      "Epoch 21/100\n",
      "35/35 [==============================] - 1s 15ms/step - loss: 2.3894e-05 - val_loss: 7.5102e-04\n",
      "Epoch 22/100\n",
      "35/35 [==============================] - 0s 10ms/step - loss: 2.3426e-05 - val_loss: 9.3338e-04\n",
      "Epoch 23/100\n",
      "35/35 [==============================] - 0s 10ms/step - loss: 2.3420e-05 - val_loss: 0.0010\n",
      "Epoch 24/100\n",
      "35/35 [==============================] - 0s 8ms/step - loss: 2.0185e-05 - val_loss: 0.0013\n",
      "Epoch 25/100\n",
      "35/35 [==============================] - 1s 16ms/step - loss: 2.1966e-05 - val_loss: 0.0012\n",
      "Epoch 26/100\n",
      "35/35 [==============================] - 0s 10ms/step - loss: 1.8598e-05 - val_loss: 0.0014\n",
      "Epoch 27/100\n",
      "35/35 [==============================] - 0s 8ms/step - loss: 1.9039e-05 - val_loss: 0.0013\n",
      "Epoch 28/100\n",
      "35/35 [==============================] - 0s 14ms/step - loss: 1.9749e-05 - val_loss: 0.0012\n",
      "Epoch 29/100\n",
      "35/35 [==============================] - 0s 11ms/step - loss: 1.9185e-05 - val_loss: 0.0016\n",
      "Epoch 30/100\n",
      "35/35 [==============================] - 0s 9ms/step - loss: 1.9150e-05 - val_loss: 0.0011\n",
      "Epoch 31/100\n",
      "35/35 [==============================] - 0s 8ms/step - loss: 1.9500e-05 - val_loss: 0.0014\n",
      "Epoch 32/100\n",
      "35/35 [==============================] - 0s 7ms/step - loss: 1.9300e-05 - val_loss: 0.0016\n",
      "Epoch 33/100\n",
      "35/35 [==============================] - 0s 14ms/step - loss: 1.9085e-05 - val_loss: 0.0014\n",
      "Epoch 34/100\n",
      "35/35 [==============================] - 0s 11ms/step - loss: 1.9262e-05 - val_loss: 0.0015\n",
      "Epoch 35/100\n",
      "35/35 [==============================] - 0s 9ms/step - loss: 1.8727e-05 - val_loss: 0.0022\n",
      "Epoch 36/100\n",
      "35/35 [==============================] - 0s 8ms/step - loss: 1.9568e-05 - val_loss: 0.0020\n",
      "Epoch 37/100\n",
      "35/35 [==============================] - 0s 13ms/step - loss: 1.9273e-05 - val_loss: 0.0022\n",
      "Epoch 38/100\n",
      "35/35 [==============================] - 0s 9ms/step - loss: 1.8930e-05 - val_loss: 0.0027\n",
      "Epoch 39/100\n",
      "35/35 [==============================] - 0s 8ms/step - loss: 1.9087e-05 - val_loss: 0.0015\n",
      "Epoch 40/100\n",
      "35/35 [==============================] - 0s 8ms/step - loss: 1.8899e-05 - val_loss: 0.0020\n",
      "Epoch 41/100\n",
      "35/35 [==============================] - 0s 13ms/step - loss: 1.9918e-05 - val_loss: 0.0021\n",
      "Epoch 42/100\n",
      "35/35 [==============================] - 0s 8ms/step - loss: 1.9527e-05 - val_loss: 0.0028\n",
      "Epoch 43/100\n",
      "35/35 [==============================] - 0s 7ms/step - loss: 2.3117e-05 - val_loss: 0.0019\n",
      "Epoch 44/100\n",
      "35/35 [==============================] - 0s 7ms/step - loss: 2.4655e-05 - val_loss: 0.0023\n",
      "Epoch 45/100\n",
      "35/35 [==============================] - 0s 14ms/step - loss: 1.9721e-05 - val_loss: 0.0019\n",
      "Epoch 46/100\n",
      "35/35 [==============================] - 0s 9ms/step - loss: 1.9812e-05 - val_loss: 0.0039\n",
      "Epoch 47/100\n",
      "35/35 [==============================] - 0s 7ms/step - loss: 1.9512e-05 - val_loss: 0.0025\n",
      "Epoch 48/100\n",
      "35/35 [==============================] - 0s 7ms/step - loss: 1.9253e-05 - val_loss: 0.0020\n",
      "Epoch 49/100\n",
      "35/35 [==============================] - 0s 13ms/step - loss: 2.2022e-05 - val_loss: 0.0029\n",
      "Epoch 50/100\n",
      "35/35 [==============================] - 0s 9ms/step - loss: 2.1228e-05 - val_loss: 0.0024\n",
      "Epoch 51/100\n",
      "35/35 [==============================] - 0s 7ms/step - loss: 1.8658e-05 - val_loss: 0.0025\n",
      "Epoch 52/100\n",
      "35/35 [==============================] - 0s 8ms/step - loss: 1.9549e-05 - val_loss: 0.0032\n",
      "Epoch 53/100\n",
      "35/35 [==============================] - 1s 15ms/step - loss: 1.8781e-05 - val_loss: 0.0032\n",
      "Epoch 54/100\n",
      "35/35 [==============================] - 0s 8ms/step - loss: 1.8373e-05 - val_loss: 0.0024\n",
      "Epoch 55/100\n",
      "35/35 [==============================] - 0s 7ms/step - loss: 1.8659e-05 - val_loss: 0.0024\n",
      "Epoch 56/100\n",
      "35/35 [==============================] - 0s 7ms/step - loss: 2.2312e-05 - val_loss: 0.0030\n",
      "Epoch 57/100\n",
      "35/35 [==============================] - 0s 8ms/step - loss: 2.0809e-05 - val_loss: 0.0032\n",
      "Epoch 58/100\n",
      "35/35 [==============================] - 0s 13ms/step - loss: 2.0528e-05 - val_loss: 0.0031\n",
      "Epoch 59/100\n",
      "35/35 [==============================] - 0s 8ms/step - loss: 1.8941e-05 - val_loss: 0.0024\n",
      "Epoch 60/100\n",
      "35/35 [==============================] - 0s 8ms/step - loss: 1.9266e-05 - val_loss: 0.0036\n",
      "Epoch 61/100\n",
      "35/35 [==============================] - 0s 7ms/step - loss: 2.1019e-05 - val_loss: 0.0028\n",
      "Epoch 62/100\n",
      "35/35 [==============================] - 0s 14ms/step - loss: 2.2869e-05 - val_loss: 0.0031\n",
      "Epoch 63/100\n",
      "35/35 [==============================] - 0s 8ms/step - loss: 2.0994e-05 - val_loss: 0.0030\n",
      "Epoch 64/100\n",
      "35/35 [==============================] - 0s 8ms/step - loss: 2.0461e-05 - val_loss: 0.0033\n",
      "Epoch 65/100\n",
      "35/35 [==============================] - 0s 7ms/step - loss: 1.8904e-05 - val_loss: 0.0034\n",
      "Epoch 66/100\n",
      "35/35 [==============================] - 0s 14ms/step - loss: 1.9804e-05 - val_loss: 0.0025\n",
      "Epoch 67/100\n",
      "35/35 [==============================] - 0s 11ms/step - loss: 2.0352e-05 - val_loss: 0.0030\n",
      "Epoch 68/100\n",
      "35/35 [==============================] - 0s 7ms/step - loss: 2.2041e-05 - val_loss: 0.0036\n",
      "Epoch 69/100\n",
      "35/35 [==============================] - 0s 7ms/step - loss: 2.0056e-05 - val_loss: 0.0032\n",
      "Epoch 70/100\n",
      "35/35 [==============================] - 0s 7ms/step - loss: 2.3019e-05 - val_loss: 0.0036\n",
      "Epoch 71/100\n",
      "35/35 [==============================] - 0s 13ms/step - loss: 2.1120e-05 - val_loss: 0.0038\n",
      "Epoch 72/100\n",
      "35/35 [==============================] - 0s 8ms/step - loss: 2.0947e-05 - val_loss: 0.0024\n",
      "Epoch 73/100\n",
      "35/35 [==============================] - 0s 8ms/step - loss: 1.8693e-05 - val_loss: 0.0029\n",
      "Epoch 74/100\n",
      "35/35 [==============================] - 0s 8ms/step - loss: 2.0167e-05 - val_loss: 0.0025\n",
      "Epoch 75/100\n",
      "35/35 [==============================] - 0s 14ms/step - loss: 1.9220e-05 - val_loss: 0.0040\n",
      "Epoch 76/100\n",
      "35/35 [==============================] - 0s 9ms/step - loss: 2.0183e-05 - val_loss: 0.0049\n",
      "Epoch 77/100\n",
      "35/35 [==============================] - 0s 7ms/step - loss: 2.0466e-05 - val_loss: 0.0043\n",
      "Epoch 78/100\n",
      "35/35 [==============================] - 0s 7ms/step - loss: 2.2550e-05 - val_loss: 0.0026\n",
      "Epoch 79/100\n",
      "35/35 [==============================] - 0s 14ms/step - loss: 1.9169e-05 - val_loss: 0.0042\n",
      "Epoch 80/100\n",
      "35/35 [==============================] - 0s 9ms/step - loss: 1.9391e-05 - val_loss: 0.0043\n",
      "Epoch 81/100\n",
      "35/35 [==============================] - 0s 8ms/step - loss: 1.8372e-05 - val_loss: 0.0035\n",
      "Epoch 82/100\n",
      "35/35 [==============================] - 0s 8ms/step - loss: 2.0463e-05 - val_loss: 0.0041\n",
      "Epoch 83/100\n",
      "35/35 [==============================] - 0s 14ms/step - loss: 2.0873e-05 - val_loss: 0.0038\n",
      "Epoch 84/100\n",
      "35/35 [==============================] - 0s 9ms/step - loss: 1.9850e-05 - val_loss: 0.0029\n",
      "Epoch 85/100\n",
      "35/35 [==============================] - 0s 7ms/step - loss: 1.9104e-05 - val_loss: 0.0037\n",
      "Epoch 86/100\n",
      "35/35 [==============================] - 0s 7ms/step - loss: 1.8230e-05 - val_loss: 0.0047\n",
      "Epoch 87/100\n",
      "35/35 [==============================] - 0s 7ms/step - loss: 1.9639e-05 - val_loss: 0.0049\n",
      "Epoch 88/100\n",
      "35/35 [==============================] - 0s 12ms/step - loss: 1.9834e-05 - val_loss: 0.0038\n",
      "Epoch 89/100\n",
      "35/35 [==============================] - 0s 9ms/step - loss: 1.8813e-05 - val_loss: 0.0033\n",
      "Epoch 90/100\n",
      "35/35 [==============================] - 0s 7ms/step - loss: 1.9960e-05 - val_loss: 0.0052\n",
      "Epoch 91/100\n",
      "35/35 [==============================] - 0s 7ms/step - loss: 2.1394e-05 - val_loss: 0.0047\n",
      "Epoch 92/100\n",
      "35/35 [==============================] - 1s 20ms/step - loss: 2.2170e-05 - val_loss: 0.0037\n",
      "Epoch 93/100\n",
      "35/35 [==============================] - 0s 8ms/step - loss: 1.9793e-05 - val_loss: 0.0031\n",
      "Epoch 94/100\n",
      "35/35 [==============================] - 0s 7ms/step - loss: 1.9924e-05 - val_loss: 0.0032\n",
      "Epoch 95/100\n",
      "35/35 [==============================] - 0s 7ms/step - loss: 2.0680e-05 - val_loss: 0.0038\n",
      "Epoch 96/100\n",
      "35/35 [==============================] - 0s 7ms/step - loss: 1.9568e-05 - val_loss: 0.0052\n",
      "Epoch 97/100\n",
      "35/35 [==============================] - 0s 13ms/step - loss: 2.0082e-05 - val_loss: 0.0053\n",
      "Epoch 98/100\n",
      "35/35 [==============================] - 0s 9ms/step - loss: 2.1363e-05 - val_loss: 0.0045\n",
      "Epoch 99/100\n",
      "35/35 [==============================] - 0s 7ms/step - loss: 2.1118e-05 - val_loss: 0.0046\n",
      "Epoch 100/100\n",
      "35/35 [==============================] - 0s 10ms/step - loss: 2.1342e-05 - val_loss: 0.0037\n"
     ]
    },
    {
     "data": {
      "text/plain": [
       "<keras.callbacks.History at 0x199c8e01050>"
      ]
     },
     "execution_count": 9,
     "metadata": {},
     "output_type": "execute_result"
    }
   ],
   "source": [
    "# 9. Fit mô hình với dữ liệu train\n",
    "model.fit(X_train,y_train,validation_data=(X_test,ytest),epochs=100,batch_size=64,verbose=1)"
   ]
  },
  {
   "cell_type": "code",
   "execution_count": 10,
   "metadata": {
    "id": "Rxx_KQSkQpBG"
   },
   "outputs": [
    {
     "name": "stdout",
     "output_type": "stream",
     "text": [
      "70/70 [==============================] - 3s 2ms/step\n",
      "20/20 [==============================] - 0s 3ms/step\n",
      "10/10 [==============================] - 0s 2ms/step\n"
     ]
    }
   ],
   "source": [
    "# 10. Dự báo dữ liệu test, val\n",
    "train_predict=model.predict(X_train)\n",
    "y_pred=model.predict(X_test)\n",
    "y_pred_val=model.predict(X_val)"
   ]
  },
  {
   "cell_type": "code",
   "execution_count": 11,
   "metadata": {
    "id": "wu_9j94kRonD"
   },
   "outputs": [
    {
     "name": "stdout",
     "output_type": "stream",
     "text": [
      "Testing RMSE: 0.2515607954153774\n",
      "The mean absolute percentage error (MAPE) on test set: 0.071\n",
      "The explained variance score (EVS) on test set: 0.958\n"
     ]
    }
   ],
   "source": [
    "# 12. Đánh giá độ chính xác thuật toán bằng RMSE\n",
    "valid_rmse = np.sqrt(np.mean((y_pred_val - yval)**2))\n",
    "test_rmse = np.sqrt(np.mean((y_pred - ytest)**2))\n",
    "print('Testing RMSE:', test_rmse)\n",
    "#MAPE\n",
    "mape = mean_absolute_percentage_error(ytest, y_pred)\n",
    "print(\"The mean absolute percentage error (MAPE) on test set: {:.3f}\".format(mape))\n",
    "# EVS\n",
    "evs = explained_variance_score(ytest, y_pred)\n",
    "print(\"The explained variance score (EVS) on test set: {:.3f}\".format(evs))\n"
   ]
  },
  {
   "cell_type": "code",
   "execution_count": 12,
   "metadata": {
    "id": "5rwTN10LQ7rj"
   },
   "outputs": [],
   "source": [
    "# 11. Chuẩn hóa dữ liệu y_pred, y_pred_val\n",
    "train_predict=scaler.inverse_transform(train_predict)\n",
    "y_pred=scaler.inverse_transform(y_pred)\n",
    "y_pred_val=scaler.inverse_transform(y_pred_val)\n",
    "train_data=scaler.inverse_transform(train_data)\n",
    "test_data=scaler.inverse_transform(test_data)\n",
    "val_data=scaler.inverse_transform(val_data)"
   ]
  },
  {
   "cell_type": "code",
   "execution_count": 13,
   "metadata": {
    "id": "izQZ1iQyYl6N"
   },
   "outputs": [],
   "source": [
    "# 13. Dự báo 30 ngày tiếp theo\n",
    "x_input=val_data[1:].reshape(1,-1)\n",
    "x_input.shape\n",
    "\n",
    "temp_input=list(x_input)\n",
    "temp_input=temp_input[0].tolist()\n",
    "\n",
    "from numpy import array\n",
    "\n",
    "lst_output=[]\n",
    "n_steps=x_input.shape[1]\n",
    "i=0\n",
    "while(i<30):\n",
    "    \n",
    "    if(len(temp_input)>100):\n",
    "        #print(temp_input)\n",
    "        x_input=np.array(temp_input[1:])\n",
    "        # print(\"{} day input {}\".format(i,x_input))\n",
    "        x_input=x_input.reshape(1,-1)\n",
    "        x_input = x_input.reshape((1, x_input.shape[1], 1))\n",
    "        #print(x_input)\n",
    "        yhat = model.predict(x_input, verbose=0)\n",
    "        # print(\"{} day output {}\".format(i,yhat))\n",
    "        temp_input.extend(yhat[0].tolist())\n",
    "        temp_input=temp_input[1:]\n",
    "        #print(temp_input)\n",
    "        lst_output.extend(yhat.tolist())\n",
    "        i=i+1\n",
    "    else:\n",
    "        x_input = x_input.reshape((1, x_input.shape[1],1))\n",
    "        yhat = model.predict(x_input, verbose=0)\n",
    "        # print(yhat[0])\n",
    "        temp_input.extend(yhat[0].tolist())\n",
    "        # print(len(temp_input))\n",
    "        lst_output.extend(yhat.tolist())\n",
    "        i=i+1\n"
   ]
  },
  {
   "cell_type": "code",
   "execution_count": 14,
   "metadata": {},
   "outputs": [],
   "source": [
    "df_train = pd.DataFrame(train_data)\n",
    "df_test = pd.DataFrame(test_data)\n",
    "df_test.index += df_train.index.stop\n",
    "df_val = pd.DataFrame(val_data)\n",
    "df_val.index += df_test.index.stop"
   ]
  },
  {
   "cell_type": "code",
   "execution_count": 15,
   "metadata": {},
   "outputs": [
    {
     "data": {
      "image/png": "[encoded data removed]",
      "text/plain": [
       "<Figure size 640x480 with 1 Axes>"
      ]
     },
     "metadata": {},
     "output_type": "display_data"
    }
   ],
   "source": [
    "df_train = pd.DataFrame(train_data)\n",
    "df_test = pd.DataFrame(test_data)\n",
    "df_test.index += df_train.index.stop\n",
    "df_val = pd.DataFrame(val_data)\n",
    "df_val.index += df_test.index.stop\n",
    "lst_output = scaler.inverse_transform(lst_output)\n",
    "plt.plot(df_train.index, df_train)\n",
    "plt.plot(df_test.index, df_test)\n",
    "plt.plot(pd.RangeIndex(start=df_test.index.start, stop=df_test.index.stop-2), y_pred)\n",
    "plt.plot(df_val.index, df_val)\n",
    "plt.plot(pd.RangeIndex(start=df_val.index.start, stop=df_val.index.stop-2), y_pred_val)\n",
    "\n",
    "plt.legend(['Train','Test','Predict','Validate','ValidatePred','Predict30days'])\n",
    "plt.show()"
   ]
  },
  {
   "cell_type": "code",
   "execution_count": 17,
   "metadata": {},
   "outputs": [
    {
     "data": {
      "text/plain": [
       "[<matplotlib.lines.Line2D at 0x199e01f9d10>]"
      ]
     },
     "execution_count": 17,
     "metadata": {},
     "output_type": "execute_result"
    },
    {
     "data": {
      "image/png": "[encoded data removed]",
      "text/plain": [
       "<Figure size 640x480 with 1 Axes>"
      ]
     },
     "metadata": {},
     "output_type": "display_data"
    }
   ],
   "source": [
    "plt.plot(scaler.inverse_transform(lst_output))"
   ]
  }
 ],
 "metadata": {
  "colab": {
   "provenance": []
  },
  "kernelspec": {
   "display_name": "Python 3 (ipykernel)",
   "language": "python",
   "name": "python3"
  },
  "language_info": {
   "codemirror_mode": {
    "name": "ipython",
    "version": 3
   },
   "file_extension": ".py",
   "mimetype": "text/x-python",
   "name": "python",
   "nbconvert_exporter": "python",
   "pygments_lexer": "ipython3",
   "version": "3.11.2"
  }
 },
 "nbformat": 4,
 "nbformat_minor": 1
}

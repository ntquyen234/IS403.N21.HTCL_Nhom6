{
  "cells": [
    {
      "cell_type": "code",
      "execution_count": 1,
      "metadata": {
        "id": "TOsoPjnYzZCW"
      },
      "outputs": [],
      "source": [
        "# 1. Các thư viện cần thiết\n",
        "import numpy as np\n",
        "import pandas as pd\n",
        "import matplotlib.pyplot as plt\n",
        "from sklearn.preprocessing import MinMaxScaler\n",
        "from sklearn.linear_model import LinearRegression\n"
      ]
    },
    {
      "cell_type": "code",
      "execution_count": 2,
      "metadata": {
        "colab": {
          "base_uri": "https://localhost:8080/"
        },
        "id": "gJuOh8-y_Uif",
        "outputId": "027ed432-67a4-4d8b-aeb7-ff1bfcd68f1d"
      },
      "outputs": [
        {
          "name": "stdout",
          "output_type": "stream",
          "text": [
            "           Date          Open          High           Low         Close  \\\n",
            "0     9/17/2014    465.864014    468.174011    452.421997    457.334015   \n",
            "1     9/18/2014    456.859985    456.859985    413.104004    424.440002   \n",
            "2     9/19/2014    424.102997    427.834991    384.532013    394.795990   \n",
            "3     9/20/2014    394.673004    423.295990    389.882996    408.903992   \n",
            "4     9/21/2014    408.084991    412.425995    393.181000    398.821014   \n",
            "...         ...           ...           ...           ...           ...   \n",
            "3188  6/10/2023  26481.761720  26531.044920  25501.835940  25851.240230   \n",
            "3189  6/11/2023  25854.031250  26203.439450  25668.986330  25940.167970   \n",
            "3190  6/12/2023  25934.285160  26087.919920  25675.197270  25902.500000   \n",
            "3191  6/13/2023  25902.941410  26376.351560  25728.365230  25918.728520   \n",
            "3192  6/14/2023  25920.257810  26041.800780  24902.152340  25124.675780   \n",
            "\n",
            "         Adj Close        Volume  \n",
            "0       457.334015  2.105680e+07  \n",
            "1       424.440002  3.448320e+07  \n",
            "2       394.795990  3.791970e+07  \n",
            "3       408.903992  3.686360e+07  \n",
            "4       398.821014  2.658010e+07  \n",
            "...            ...           ...  \n",
            "3188  25851.240230  1.987293e+10  \n",
            "3189  25940.167970  1.073261e+10  \n",
            "3190  25902.500000  1.167789e+10  \n",
            "3191  25918.728520  1.414347e+10  \n",
            "3192  25124.675780  1.426572e+10  \n",
            "\n",
            "[3193 rows x 7 columns]\n"
          ]
        }
      ],
      "source": [
        "# 2. Đọc file dữ liệu chứng khoán AAPL và chia train test validate theo tỉ lệ 6:2:2\n",
        "df = pd.read_csv('../../../Data/BTC-USD.csv')\n",
        "df['Close'] = df['Close']\n",
        "print(df)\n",
        "\n",
        "df = df.dropna() # Drop missing values\n",
        "df = df.reset_index(drop=True) # Reset the index\n",
        "\n",
        "# Split the data into training, testing, and validation sets\n",
        "train_size = int(0.6 * len(df))\n",
        "test_size = int(0.2 * len(df))\n",
        "val_size = len(df) - train_size - test_size\n",
        "\n",
        "train_data = df['Close'].iloc[:train_size]\n",
        "test_data = df['Close'].iloc[train_size:train_size+test_size]\n",
        "val_data = df['Close'].iloc[train_size+test_size:]"
      ]
    },
    {
      "cell_type": "code",
      "execution_count": null,
      "metadata": {
        "colab": {
          "base_uri": "https://localhost:8080/"
        },
        "id": "bD9EuuSiK8My",
        "outputId": "e56bd6b5-e253-4a07-e4fb-56c25441aac7"
      },
      "outputs": [],
      "source": []
    },
    {
      "cell_type": "code",
      "execution_count": 3,
      "metadata": {
        "colab": {
          "base_uri": "https://localhost:8080/",
          "height": 456
        },
        "id": "JbQNK8an_imI",
        "outputId": "c2ca0808-7a34-4bbd-97c5-cb110452dd97"
      },
      "outputs": [
        {
          "name": "stdout",
          "output_type": "stream",
          "text": [
            "Performing stepwise search to minimize aic\n",
            " ARIMA(2,1,2)(0,0,0)[0] intercept   : AIC=26991.481, Time=0.72 sec\n",
            " ARIMA(0,1,0)(0,0,0)[0] intercept   : AIC=26996.610, Time=0.02 sec\n",
            " ARIMA(1,1,0)(0,0,0)[0] intercept   : AIC=26995.169, Time=0.04 sec\n",
            " ARIMA(0,1,1)(0,0,0)[0] intercept   : AIC=26994.965, Time=0.06 sec\n",
            " ARIMA(0,1,0)(0,0,0)[0]             : AIC=26994.908, Time=0.01 sec\n",
            " ARIMA(1,1,2)(0,0,0)[0] intercept   : AIC=26989.395, Time=0.46 sec\n",
            " ARIMA(0,1,2)(0,0,0)[0] intercept   : AIC=26995.238, Time=0.09 sec\n",
            " ARIMA(1,1,1)(0,0,0)[0] intercept   : AIC=26987.721, Time=0.26 sec\n",
            " ARIMA(2,1,1)(0,0,0)[0] intercept   : AIC=26989.388, Time=0.34 sec\n",
            " ARIMA(2,1,0)(0,0,0)[0] intercept   : AIC=26995.546, Time=0.06 sec\n",
            " ARIMA(1,1,1)(0,0,0)[0]             : AIC=26985.966, Time=0.15 sec\n",
            " ARIMA(0,1,1)(0,0,0)[0]             : AIC=26993.237, Time=0.04 sec\n",
            " ARIMA(1,1,0)(0,0,0)[0]             : AIC=26993.441, Time=0.02 sec\n",
            " ARIMA(2,1,1)(0,0,0)[0]             : AIC=26987.625, Time=0.17 sec\n",
            " ARIMA(1,1,2)(0,0,0)[0]             : AIC=26987.616, Time=0.28 sec\n",
            " ARIMA(0,1,2)(0,0,0)[0]             : AIC=26993.529, Time=0.06 sec\n",
            " ARIMA(2,1,0)(0,0,0)[0]             : AIC=26993.835, Time=0.04 sec\n",
            " ARIMA(2,1,2)(0,0,0)[0]             : AIC=26989.769, Time=0.45 sec\n",
            "\n",
            "Best model:  ARIMA(1,1,1)(0,0,0)[0]          \n",
            "Total fit time: 3.274 seconds\n"
          ]
        },
        {
          "data": {
            "text/html": [
              "<style>#sk-container-id-1 {color: black;background-color: white;}#sk-container-id-1 pre{padding: 0;}#sk-container-id-1 div.sk-toggleable {background-color: white;}#sk-container-id-1 label.sk-toggleable__label {cursor: pointer;display: block;width: 100%;margin-bottom: 0;padding: 0.3em;box-sizing: border-box;text-align: center;}#sk-container-id-1 label.sk-toggleable__label-arrow:before {content: \"▸\";float: left;margin-right: 0.25em;color: #696969;}#sk-container-id-1 label.sk-toggleable__label-arrow:hover:before {color: black;}#sk-container-id-1 div.sk-estimator:hover label.sk-toggleable__label-arrow:before {color: black;}#sk-container-id-1 div.sk-toggleable__content {max-height: 0;max-width: 0;overflow: hidden;text-align: left;background-color: #f0f8ff;}#sk-container-id-1 div.sk-toggleable__content pre {margin: 0.2em;color: black;border-radius: 0.25em;background-color: #f0f8ff;}#sk-container-id-1 input.sk-toggleable__control:checked~div.sk-toggleable__content {max-height: 200px;max-width: 100%;overflow: auto;}#sk-container-id-1 input.sk-toggleable__control:checked~label.sk-toggleable__label-arrow:before {content: \"▾\";}#sk-container-id-1 div.sk-estimator input.sk-toggleable__control:checked~label.sk-toggleable__label {background-color: #d4ebff;}#sk-container-id-1 div.sk-label input.sk-toggleable__control:checked~label.sk-toggleable__label {background-color: #d4ebff;}#sk-container-id-1 input.sk-hidden--visually {border: 0;clip: rect(1px 1px 1px 1px);clip: rect(1px, 1px, 1px, 1px);height: 1px;margin: -1px;overflow: hidden;padding: 0;position: absolute;width: 1px;}#sk-container-id-1 div.sk-estimator {font-family: monospace;background-color: #f0f8ff;border: 1px dotted black;border-radius: 0.25em;box-sizing: border-box;margin-bottom: 0.5em;}#sk-container-id-1 div.sk-estimator:hover {background-color: #d4ebff;}#sk-container-id-1 div.sk-parallel-item::after {content: \"\";width: 100%;border-bottom: 1px solid gray;flex-grow: 1;}#sk-container-id-1 div.sk-label:hover label.sk-toggleable__label {background-color: #d4ebff;}#sk-container-id-1 div.sk-serial::before {content: \"\";position: absolute;border-left: 1px solid gray;box-sizing: border-box;top: 0;bottom: 0;left: 50%;z-index: 0;}#sk-container-id-1 div.sk-serial {display: flex;flex-direction: column;align-items: center;background-color: white;padding-right: 0.2em;padding-left: 0.2em;position: relative;}#sk-container-id-1 div.sk-item {position: relative;z-index: 1;}#sk-container-id-1 div.sk-parallel {display: flex;align-items: stretch;justify-content: center;background-color: white;position: relative;}#sk-container-id-1 div.sk-item::before, #sk-container-id-1 div.sk-parallel-item::before {content: \"\";position: absolute;border-left: 1px solid gray;box-sizing: border-box;top: 0;bottom: 0;left: 50%;z-index: -1;}#sk-container-id-1 div.sk-parallel-item {display: flex;flex-direction: column;z-index: 1;position: relative;background-color: white;}#sk-container-id-1 div.sk-parallel-item:first-child::after {align-self: flex-end;width: 50%;}#sk-container-id-1 div.sk-parallel-item:last-child::after {align-self: flex-start;width: 50%;}#sk-container-id-1 div.sk-parallel-item:only-child::after {width: 0;}#sk-container-id-1 div.sk-dashed-wrapped {border: 1px dashed gray;margin: 0 0.4em 0.5em 0.4em;box-sizing: border-box;padding-bottom: 0.4em;background-color: white;}#sk-container-id-1 div.sk-label label {font-family: monospace;font-weight: bold;display: inline-block;line-height: 1.2em;}#sk-container-id-1 div.sk-label-container {text-align: center;}#sk-container-id-1 div.sk-container {/* jupyter's `normalize.less` sets `[hidden] { display: none; }` but bootstrap.min.css set `[hidden] { display: none !important; }` so we also need the `!important` here to be able to override the default hidden behavior on the sphinx rendered scikit-learn.org. See: https://github.com/scikit-learn/scikit-learn/issues/21755 */display: inline-block !important;position: relative;}#sk-container-id-1 div.sk-text-repr-fallback {display: none;}</style><div id=\"sk-container-id-1\" class=\"sk-top-container\"><div class=\"sk-text-repr-fallback\"><pre> ARIMA(1,1,1)(0,0,0)[0]          </pre><b>In a Jupyter environment, please rerun this cell to show the HTML representation or trust the notebook. <br />On GitHub, the HTML representation is unable to render, please try loading this page with nbviewer.org.</b></div><div class=\"sk-container\" hidden><div class=\"sk-item\"><div class=\"sk-estimator sk-toggleable\"><input class=\"sk-toggleable__control sk-hidden--visually\" id=\"sk-estimator-id-1\" type=\"checkbox\" checked><label for=\"sk-estimator-id-1\" class=\"sk-toggleable__label sk-toggleable__label-arrow\">ARIMA</label><div class=\"sk-toggleable__content\"><pre> ARIMA(1,1,1)(0,0,0)[0]          </pre></div></div></div></div></div>"
            ],
            "text/plain": [
              "ARIMA(order=(1, 1, 1), scoring_args={}, suppress_warnings=True,\n",
              "      with_intercept=False)"
            ]
          },
          "execution_count": 3,
          "metadata": {},
          "output_type": "execute_result"
        }
      ],
      "source": [
        "# 3. Quá trình Training\n",
        "x_train = np.array(train_data.index).reshape(-1, 1)\n",
        "y_train = np.array(train_data)\n",
        "\n",
        "# Find the best ARIMA model using auto_arima\n",
        "from pmdarima.arima import auto_arima\n",
        "model = auto_arima(y_train, trace=True, error_action='ignore', suppress_warnings=True)\n",
        "\n",
        "# Fit the model\n",
        "model.fit(y_train)"
      ]
    },
    {
      "cell_type": "code",
      "execution_count": 4,
      "metadata": {
        "id": "tq3vSOvd_xL3"
      },
      "outputs": [],
      "source": [
        "# 4. Quá trình testing\n",
        "x_test = np.array(test_data.index).reshape(-1, 1)\n",
        "y_test = np.array(test_data)\n",
        "y_pred = model.predict(n_periods=len(y_test))\n",
        "\n",
        "# 5. Quá trình Validate\n",
        "x_val= np.array(val_data.index).reshape(-1, 1)\n",
        "y_val = np.array(val_data)\n",
        "y_pred_val =  model.predict(n_periods=len(y_val))"
      ]
    },
    {
      "cell_type": "code",
      "execution_count": 5,
      "metadata": {
        "colab": {
          "base_uri": "https://localhost:8080/"
        },
        "id": "mI2qmayj_-rD",
        "outputId": "32dabf60-d692-4255-d303-e23d3eafd8c2"
      },
      "outputs": [
        {
          "name": "stdout",
          "output_type": "stream",
          "text": [
            "Predicted closing prices for the next 30 days:\n",
            "[7115.947119   7122.19701603 7117.72096292 7120.92662396 7118.63079269\n",
            " 7120.27502181 7119.09745731 7119.9408058  7119.33681623 7119.76938166\n",
            " 7119.45958682 7119.68145578 7119.52255761 7119.63635735 7119.55485622\n",
            " 7119.61322572 7119.57142263 7119.60136118 7119.57991978 7119.59527569\n",
            " 7119.58427809 7119.59215435 7119.58651353 7119.59055338 7119.58766012\n",
            " 7119.58973221 7119.58824822 7119.58931103 7119.58854987 7119.58909499]\n"
          ]
        }
      ],
      "source": [
        "# 6. Quá trình tạo index predict 30 ngày tiếp theo\n",
        "last_index =  df.index[-1]\n",
        "last_data = pd.RangeIndex(start=last_index, stop=last_index+30, step=1)\n",
        "\n",
        "# Create an array of 30 consecutive integers starting from last_index\n",
        "x_next_30_days = np.array(range(last_index+1, last_index+31)).reshape(-1, 1)\n",
        "\n",
        "# Predict the closing prices for the next 30 days\n",
        "y_next_30_days = model.predict(n_periods=len(x_next_30_days))\n",
        "\n",
        "# Print the predicted closing prices for the next 30 days\n",
        "print('Predicted closing prices for the next 30 days:')\n",
        "print(y_next_30_days)"
      ]
    },
    {
      "cell_type": "code",
      "execution_count": 6,
      "metadata": {
        "colab": {
          "base_uri": "https://localhost:8080/"
        },
        "id": "JwcVt4wgAHCy",
        "outputId": "c0c0f7ec-1041-4ec2-ba71-f7d0539b1ccd"
      },
      "outputs": [
        {
          "name": "stdout",
          "output_type": "stream",
          "text": [
            "The root mean squared error (RMSE) on test set: 24827.845\n",
            "The explained variance score (EVS) on test set: 0.000\n",
            "The mean absolute percentage error (MAPE) on test set: 0.512\n"
          ]
        }
      ],
      "source": [
        "# 7. Đánh giá độ chính xác validate, test\n",
        "from sklearn.metrics import mean_absolute_percentage_error, explained_variance_score\n",
        "# RMSE\n",
        "rmse = np.sqrt(np.mean((y_pred - y_test)**2))\n",
        "print(\"The root mean squared error (RMSE) on test set: {:.3f}\".format(rmse))\n",
        "# EVS\n",
        "evs = explained_variance_score(test_data, y_pred)\n",
        "print(\"The explained variance score (EVS) on test set: {:.3f}\".format(evs))\n",
        "#MAPE\n",
        "mape = mean_absolute_percentage_error(test_data, y_pred)\n",
        "print(\"The mean absolute percentage error (MAPE) on test set: {:.3f}\".format(mape))"
      ]
    },
    {
      "cell_type": "code",
      "execution_count": 7,
      "metadata": {
        "colab": {
          "base_uri": "https://localhost:8080/",
          "height": 430
        },
        "id": "DE3Pge7a0EHs",
        "outputId": "9b5af1bf-41f7-4d77-9500-8ebed101cfaa"
      },
      "outputs": [
        {
          "data": {
            "image/png": "[encoded data removed]",
            "text/plain": [
              "<Figure size 640x480 with 1 Axes>"
            ]
          },
          "metadata": {},
          "output_type": "display_data"
        }
      ],
      "source": [
        "# 9.Vẽ hình\n",
        "plt.plot(train_data.index, train_data)\n",
        "plt.plot(test_data.index, test_data)\n",
        "plt.plot(test_data.index, y_pred)\n",
        "plt.plot(val_data.index, y_pred_val)\n",
        "plt.plot(last_data,y_next_30_days)\n",
        "plt.legend(['Train', 'Test', 'Predictions','Validate','Next30Day'])\n",
        "plt.show()"
      ]
    },
    {
      "cell_type": "code",
      "execution_count": 8,
      "metadata": {
        "id": "Eyxpcd3v7i-k"
      },
      "outputs": [],
      "source": [
        "# test_data.index"
      ]
    }
  ],
  "metadata": {
    "colab": {
      "provenance": []
    },
    "kernelspec": {
      "display_name": "Python 3",
      "name": "python3"
    },
    "language_info": {
      "codemirror_mode": {
        "name": "ipython",
        "version": 3
      },
      "file_extension": ".py",
      "mimetype": "text/x-python",
      "name": "python",
      "nbconvert_exporter": "python",
      "pygments_lexer": "ipython3",
      "version": "3.11.2"
    }
  },
  "nbformat": 4,
  "nbformat_minor": 0
}

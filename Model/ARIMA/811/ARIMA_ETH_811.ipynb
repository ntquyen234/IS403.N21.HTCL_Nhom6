{
  "cells": [
    {
      "cell_type": "code",
      "execution_count": 1,
      "metadata": {
        "id": "TOsoPjnYzZCW"
      },
      "outputs": [],
      "source": [
        "# 1. Các thư viện cần thiết\n",
        "import numpy as np\n",
        "import pandas as pd\n",
        "import matplotlib.pyplot as plt\n",
        "from sklearn.preprocessing import MinMaxScaler\n",
        "from sklearn.linear_model import LinearRegression\n"
      ]
    },
    {
      "cell_type": "code",
      "execution_count": 2,
      "metadata": {
        "colab": {
          "base_uri": "https://localhost:8080/"
        },
        "id": "gJuOh8-y_Uif",
        "outputId": "d6b112bf-f685-4093-c2f9-28556f16f37d"
      },
      "outputs": [
        {
          "name": "stdout",
          "output_type": "stream",
          "text": [
            "            Date         Open         High          Low        Close  \\\n",
            "0      11/9/2017   308.644989   329.451996   307.056000   320.884003   \n",
            "1     11/10/2017   320.670990   324.717987   294.541992   299.252991   \n",
            "2     11/11/2017   298.585999   319.453003   298.191986   314.681000   \n",
            "3     11/12/2017   314.690002   319.153015   298.513000   307.907990   \n",
            "4     11/13/2017   307.024994   328.415009   307.024994   316.716003   \n",
            "...          ...          ...          ...          ...          ...   \n",
            "2039   6/10/2023  1840.391968  1844.785645  1721.443115  1752.384766   \n",
            "2040   6/11/2023  1752.527588  1776.847168  1741.110474  1753.415283   \n",
            "2041   6/12/2023  1753.075439  1757.659790  1722.906372  1742.528687   \n",
            "2042   6/13/2023  1742.390137  1761.955444  1727.749878  1739.037598   \n",
            "2043   6/14/2023  1739.250122  1749.163208  1637.187744  1650.519287   \n",
            "\n",
            "        Adj Close       Volume  \n",
            "0      320.884003    893249984  \n",
            "1      299.252991    885985984  \n",
            "2      314.681000    842300992  \n",
            "3      307.907990   1613479936  \n",
            "4      316.716003   1041889984  \n",
            "...           ...          ...  \n",
            "2039  1752.384766  10788500406  \n",
            "2040  1753.415283   4559112981  \n",
            "2041  1742.528687   6031384958  \n",
            "2042  1739.037598   6214125203  \n",
            "2043  1650.519287   7462905534  \n",
            "\n",
            "[2044 rows x 7 columns]\n"
          ]
        }
      ],
      "source": [
        "# 2. Đọc file dữ liệu chứng khoán AAPL và chia train test validate theo tỉ lệ 8:1:1\n",
        "df = pd.read_csv('../../../Data/ETH-USD.csv')\n",
        "df['Close'] = df['Close']\n",
        "print(df)\n",
        "\n",
        "df = df.dropna() # Drop missing values\n",
        "df = df.reset_index(drop=True) # Reset the index\n",
        "\n",
        "# Split the data into training, testing, and validation sets\n",
        "train_size = int(0.8 * len(df))\n",
        "test_size = int(0.1 * len(df))\n",
        "val_size = len(df) - train_size - test_size\n",
        "\n",
        "train_data = df['Close'].iloc[:train_size]\n",
        "test_data = df['Close'].iloc[train_size:train_size+test_size]\n",
        "val_data = df['Close'].iloc[train_size+test_size:]"
      ]
    },
    {
      "cell_type": "code",
      "execution_count": null,
      "metadata": {
        "colab": {
          "base_uri": "https://localhost:8080/"
        },
        "id": "bD9EuuSiK8My",
        "outputId": "2852361f-36fd-4d0f-b9b0-40d53664f14b"
      },
      "outputs": [],
      "source": []
    },
    {
      "cell_type": "code",
      "execution_count": 3,
      "metadata": {
        "colab": {
          "base_uri": "https://localhost:8080/",
          "height": 369
        },
        "id": "JbQNK8an_imI",
        "outputId": "a132f8b2-4cd1-49d2-f3d8-27fa74f47c46"
      },
      "outputs": [
        {
          "name": "stdout",
          "output_type": "stream",
          "text": [
            "Performing stepwise search to minimize aic\n",
            " ARIMA(2,1,2)(0,0,0)[0] intercept   : AIC=inf, Time=1.03 sec\n",
            " ARIMA(0,1,0)(0,0,0)[0] intercept   : AIC=18944.814, Time=0.02 sec\n",
            " ARIMA(1,1,0)(0,0,0)[0] intercept   : AIC=18939.320, Time=0.03 sec\n",
            " ARIMA(0,1,1)(0,0,0)[0] intercept   : AIC=18939.352, Time=0.16 sec\n",
            " ARIMA(0,1,0)(0,0,0)[0]             : AIC=18943.421, Time=0.02 sec\n",
            " ARIMA(2,1,0)(0,0,0)[0] intercept   : AIC=18941.316, Time=0.09 sec\n",
            " ARIMA(1,1,1)(0,0,0)[0] intercept   : AIC=18941.322, Time=0.09 sec\n",
            " ARIMA(2,1,1)(0,0,0)[0] intercept   : AIC=18943.321, Time=0.12 sec\n",
            " ARIMA(1,1,0)(0,0,0)[0]             : AIC=18938.012, Time=0.03 sec\n",
            " ARIMA(2,1,0)(0,0,0)[0]             : AIC=18940.010, Time=0.04 sec\n",
            " ARIMA(1,1,1)(0,0,0)[0]             : AIC=18940.010, Time=0.08 sec\n",
            " ARIMA(0,1,1)(0,0,0)[0]             : AIC=18938.054, Time=0.04 sec\n",
            " ARIMA(2,1,1)(0,0,0)[0]             : AIC=18942.014, Time=0.05 sec\n",
            "\n",
            "Best model:  ARIMA(1,1,0)(0,0,0)[0]          \n",
            "Total fit time: 1.808 seconds\n"
          ]
        },
        {
          "data": {
            "text/html": [
              "<style>#sk-container-id-1 {color: black;background-color: white;}#sk-container-id-1 pre{padding: 0;}#sk-container-id-1 div.sk-toggleable {background-color: white;}#sk-container-id-1 label.sk-toggleable__label {cursor: pointer;display: block;width: 100%;margin-bottom: 0;padding: 0.3em;box-sizing: border-box;text-align: center;}#sk-container-id-1 label.sk-toggleable__label-arrow:before {content: \"▸\";float: left;margin-right: 0.25em;color: #696969;}#sk-container-id-1 label.sk-toggleable__label-arrow:hover:before {color: black;}#sk-container-id-1 div.sk-estimator:hover label.sk-toggleable__label-arrow:before {color: black;}#sk-container-id-1 div.sk-toggleable__content {max-height: 0;max-width: 0;overflow: hidden;text-align: left;background-color: #f0f8ff;}#sk-container-id-1 div.sk-toggleable__content pre {margin: 0.2em;color: black;border-radius: 0.25em;background-color: #f0f8ff;}#sk-container-id-1 input.sk-toggleable__control:checked~div.sk-toggleable__content {max-height: 200px;max-width: 100%;overflow: auto;}#sk-container-id-1 input.sk-toggleable__control:checked~label.sk-toggleable__label-arrow:before {content: \"▾\";}#sk-container-id-1 div.sk-estimator input.sk-toggleable__control:checked~label.sk-toggleable__label {background-color: #d4ebff;}#sk-container-id-1 div.sk-label input.sk-toggleable__control:checked~label.sk-toggleable__label {background-color: #d4ebff;}#sk-container-id-1 input.sk-hidden--visually {border: 0;clip: rect(1px 1px 1px 1px);clip: rect(1px, 1px, 1px, 1px);height: 1px;margin: -1px;overflow: hidden;padding: 0;position: absolute;width: 1px;}#sk-container-id-1 div.sk-estimator {font-family: monospace;background-color: #f0f8ff;border: 1px dotted black;border-radius: 0.25em;box-sizing: border-box;margin-bottom: 0.5em;}#sk-container-id-1 div.sk-estimator:hover {background-color: #d4ebff;}#sk-container-id-1 div.sk-parallel-item::after {content: \"\";width: 100%;border-bottom: 1px solid gray;flex-grow: 1;}#sk-container-id-1 div.sk-label:hover label.sk-toggleable__label {background-color: #d4ebff;}#sk-container-id-1 div.sk-serial::before {content: \"\";position: absolute;border-left: 1px solid gray;box-sizing: border-box;top: 0;bottom: 0;left: 50%;z-index: 0;}#sk-container-id-1 div.sk-serial {display: flex;flex-direction: column;align-items: center;background-color: white;padding-right: 0.2em;padding-left: 0.2em;position: relative;}#sk-container-id-1 div.sk-item {position: relative;z-index: 1;}#sk-container-id-1 div.sk-parallel {display: flex;align-items: stretch;justify-content: center;background-color: white;position: relative;}#sk-container-id-1 div.sk-item::before, #sk-container-id-1 div.sk-parallel-item::before {content: \"\";position: absolute;border-left: 1px solid gray;box-sizing: border-box;top: 0;bottom: 0;left: 50%;z-index: -1;}#sk-container-id-1 div.sk-parallel-item {display: flex;flex-direction: column;z-index: 1;position: relative;background-color: white;}#sk-container-id-1 div.sk-parallel-item:first-child::after {align-self: flex-end;width: 50%;}#sk-container-id-1 div.sk-parallel-item:last-child::after {align-self: flex-start;width: 50%;}#sk-container-id-1 div.sk-parallel-item:only-child::after {width: 0;}#sk-container-id-1 div.sk-dashed-wrapped {border: 1px dashed gray;margin: 0 0.4em 0.5em 0.4em;box-sizing: border-box;padding-bottom: 0.4em;background-color: white;}#sk-container-id-1 div.sk-label label {font-family: monospace;font-weight: bold;display: inline-block;line-height: 1.2em;}#sk-container-id-1 div.sk-label-container {text-align: center;}#sk-container-id-1 div.sk-container {/* jupyter's `normalize.less` sets `[hidden] { display: none; }` but bootstrap.min.css set `[hidden] { display: none !important; }` so we also need the `!important` here to be able to override the default hidden behavior on the sphinx rendered scikit-learn.org. See: https://github.com/scikit-learn/scikit-learn/issues/21755 */display: inline-block !important;position: relative;}#sk-container-id-1 div.sk-text-repr-fallback {display: none;}</style><div id=\"sk-container-id-1\" class=\"sk-top-container\"><div class=\"sk-text-repr-fallback\"><pre> ARIMA(1,1,0)(0,0,0)[0]          </pre><b>In a Jupyter environment, please rerun this cell to show the HTML representation or trust the notebook. <br />On GitHub, the HTML representation is unable to render, please try loading this page with nbviewer.org.</b></div><div class=\"sk-container\" hidden><div class=\"sk-item\"><div class=\"sk-estimator sk-toggleable\"><input class=\"sk-toggleable__control sk-hidden--visually\" id=\"sk-estimator-id-1\" type=\"checkbox\" checked><label for=\"sk-estimator-id-1\" class=\"sk-toggleable__label sk-toggleable__label-arrow\">ARIMA</label><div class=\"sk-toggleable__content\"><pre> ARIMA(1,1,0)(0,0,0)[0]          </pre></div></div></div></div></div>"
            ],
            "text/plain": [
              "ARIMA(order=(1, 1, 0), scoring_args={}, suppress_warnings=True,\n",
              "      with_intercept=False)"
            ]
          },
          "execution_count": 3,
          "metadata": {},
          "output_type": "execute_result"
        }
      ],
      "source": [
        "# 3. Quá trình Training\n",
        "x_train = np.array(train_data.index).reshape(-1, 1)\n",
        "y_train = np.array(train_data)\n",
        "\n",
        "# Find the best ARIMA model using auto_arima\n",
        "from pmdarima.arima import auto_arima\n",
        "model = auto_arima(y_train, trace=True, error_action='ignore', suppress_warnings=True)\n",
        "\n",
        "# Fit the model\n",
        "model.fit(y_train)"
      ]
    },
    {
      "cell_type": "code",
      "execution_count": 4,
      "metadata": {
        "id": "tq3vSOvd_xL3"
      },
      "outputs": [],
      "source": [
        "# 4. Quá trình testing\n",
        "x_test = np.array(test_data.index).reshape(-1, 1)\n",
        "y_test = np.array(test_data)\n",
        "y_pred = model.predict(n_periods=len(y_test))\n",
        "\n",
        "# 5. Quá trình Validate\n",
        "x_val= np.array(val_data.index).reshape(-1, 1)\n",
        "y_val = np.array(val_data)\n",
        "y_pred_val =  model.predict(n_periods=len(y_val))"
      ]
    },
    {
      "cell_type": "code",
      "execution_count": 5,
      "metadata": {
        "colab": {
          "base_uri": "https://localhost:8080/"
        },
        "id": "mI2qmayj_-rD",
        "outputId": "bdec9b52-1871-4451-e79e-779997775001"
      },
      "outputs": [
        {
          "name": "stdout",
          "output_type": "stream",
          "text": [
            "Predicted closing prices for the next 30 days:\n",
            "[2821.19231778 2821.63388366 2821.60417818 2821.60617655 2821.60604212\n",
            " 2821.60605116 2821.60605055 2821.60605059 2821.60605059 2821.60605059\n",
            " 2821.60605059 2821.60605059 2821.60605059 2821.60605059 2821.60605059\n",
            " 2821.60605059 2821.60605059 2821.60605059 2821.60605059 2821.60605059\n",
            " 2821.60605059 2821.60605059 2821.60605059 2821.60605059 2821.60605059\n",
            " 2821.60605059 2821.60605059 2821.60605059 2821.60605059 2821.60605059]\n"
          ]
        }
      ],
      "source": [
        "# 6. Quá trình tạo index predict 30 ngày tiếp theo\n",
        "last_index =  df.index[-1]\n",
        "last_data = pd.RangeIndex(start=last_index, stop=last_index+30, step=1)\n",
        "\n",
        "# Create an array of 30 consecutive integers starting from last_index\n",
        "x_next_30_days = np.array(range(last_index+1, last_index+31)).reshape(-1, 1)\n",
        "\n",
        "# Predict the closing prices for the next 30 days\n",
        "y_next_30_days = model.predict(n_periods=len(x_next_30_days))\n",
        "\n",
        "# Print the predicted closing prices for the next 30 days\n",
        "print('Predicted closing prices for the next 30 days:')\n",
        "print(y_next_30_days)"
      ]
    },
    {
      "cell_type": "code",
      "execution_count": 6,
      "metadata": {
        "colab": {
          "base_uri": "https://localhost:8080/"
        },
        "id": "JwcVt4wgAHCy",
        "outputId": "57791ce1-dff3-4845-fbaa-b653d1cd4d18"
      },
      "outputs": [
        {
          "name": "stdout",
          "output_type": "stream",
          "text": [
            "The root mean squared error (RMSE) on test set: 1321.289\n",
            "The explained variance score (EVS) on test set: -0.000\n",
            "The mean absolute percentage error (MAPE) on test set: 0.908\n"
          ]
        }
      ],
      "source": [
        "# 7. Đánh giá độ chính xác validate, test\n",
        "from sklearn.metrics import mean_absolute_percentage_error, explained_variance_score\n",
        "# RMSE\n",
        "rmse = np.sqrt(np.mean((y_pred - y_test)**2))\n",
        "print(\"The root mean squared error (RMSE) on test set: {:.3f}\".format(rmse))\n",
        "# EVS\n",
        "evs = explained_variance_score(test_data, y_pred)\n",
        "print(\"The explained variance score (EVS) on test set: {:.3f}\".format(evs))\n",
        "#MAPE\n",
        "mape = mean_absolute_percentage_error(test_data, y_pred)\n",
        "print(\"The mean absolute percentage error (MAPE) on test set: {:.3f}\".format(mape))"
      ]
    },
    {
      "cell_type": "code",
      "execution_count": 7,
      "metadata": {
        "colab": {
          "base_uri": "https://localhost:8080/",
          "height": 432
        },
        "id": "DE3Pge7a0EHs",
        "outputId": "785a8824-c022-42ce-f2e0-0db52e07b8aa"
      },
      "outputs": [
        {
          "data": {
            "image/png": "[encoded data removed]",
            "text/plain": [
              "<Figure size 640x480 with 1 Axes>"
            ]
          },
          "metadata": {},
          "output_type": "display_data"
        }
      ],
      "source": [
        "# 9.Vẽ hình\n",
        "plt.plot(train_data.index, train_data)\n",
        "plt.plot(test_data.index, test_data)\n",
        "plt.plot(test_data.index, y_pred)\n",
        "plt.plot(val_data.index, y_pred_val)\n",
        "plt.plot(last_data,y_next_30_days)\n",
        "plt.legend(['Train', 'Test', 'Predictions','Validate','Next30Day'])\n",
        "plt.show()"
      ]
    },
    {
      "cell_type": "code",
      "execution_count": 8,
      "metadata": {
        "id": "Eyxpcd3v7i-k"
      },
      "outputs": [],
      "source": [
        "# test_data.index"
      ]
    }
  ],
  "metadata": {
    "colab": {
      "provenance": []
    },
    "kernelspec": {
      "display_name": "Python 3",
      "name": "python3"
    },
    "language_info": {
      "codemirror_mode": {
        "name": "ipython",
        "version": 3
      },
      "file_extension": ".py",
      "mimetype": "text/x-python",
      "name": "python",
      "nbconvert_exporter": "python",
      "pygments_lexer": "ipython3",
      "version": "3.11.2"
    }
  },
  "nbformat": 4,
  "nbformat_minor": 0
}

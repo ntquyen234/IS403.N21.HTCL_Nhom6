{
  "cells": [
    {
      "cell_type": "code",
      "execution_count": 10,
      "metadata": {
        "id": "TOsoPjnYzZCW"
      },
      "outputs": [],
      "source": [
        "# 1. Các thư viện cần thiết\n",
        "import numpy as np\n",
        "import pandas as pd\n",
        "import matplotlib.pyplot as plt\n",
        "from sklearn.preprocessing import MinMaxScaler\n",
        "from sklearn.linear_model import LinearRegression\n"
      ]
    },
    {
      "cell_type": "code",
      "execution_count": 11,
      "metadata": {
        "colab": {
          "base_uri": "https://localhost:8080/"
        },
        "id": "gJuOh8-y_Uif",
        "outputId": "5b3978a3-82b4-41aa-da0c-c1028a3f5247"
      },
      "outputs": [
        {
          "name": "stdout",
          "output_type": "stream",
          "text": [
            "            Date        Open        High         Low       Close   Adj Close  \\\n",
            "0      11/9/2017    2.053140    2.174230    1.893940    1.990770    1.990770   \n",
            "1     11/10/2017    2.007730    2.069470    1.644780    1.796840    1.796840   \n",
            "2     11/11/2017    1.786280    1.917750    1.614290    1.670470    1.670470   \n",
            "3     11/12/2017    1.668890    1.672800    1.462560    1.519690    1.519690   \n",
            "4     11/13/2017    1.526010    1.735020    1.517600    1.686620    1.686620   \n",
            "...          ...         ...         ...         ...         ...         ...   \n",
            "2039   6/10/2023  260.698669  260.716095  233.169189  239.089081  239.089081   \n",
            "2040   6/11/2023  239.087418  239.348267  234.430695  235.438797  235.438797   \n",
            "2041   6/12/2023  235.403915  238.473221  222.071335  231.051437  231.051437   \n",
            "2042   6/13/2023  231.075043  245.642197  229.311691  243.890533  243.890533   \n",
            "2043   6/14/2023  243.890533  251.630157  234.042557  237.574265  237.574265   \n",
            "\n",
            "          Volume  \n",
            "0       19192200  \n",
            "1       11155000  \n",
            "2        8178150  \n",
            "3       15298700  \n",
            "4       12238800  \n",
            "...          ...  \n",
            "2039  1068424942  \n",
            "2040   376213808  \n",
            "2041  1014433334  \n",
            "2042   864407068  \n",
            "2043   738634212  \n",
            "\n",
            "[2044 rows x 7 columns]\n"
          ]
        }
      ],
      "source": [
        "# 2. Đọc file dữ liệu chứng khoán AAPL và chia train test validate theo tỉ lệ 8:1:1\n",
        "df = pd.read_csv('../../../Data/BNB-USD.csv')\n",
        "df['Close'] = df['Close']\n",
        "print(df)\n",
        "\n",
        "df = df.dropna() # Drop missing values\n",
        "df = df.reset_index(drop=True) # Reset the index\n",
        "\n",
        "# Split the data into training, testing, and validation sets\n",
        "train_size = int(0.8 * len(df))\n",
        "test_size = int(0.1 * len(df))\n",
        "val_size = len(df) - train_size - test_size\n",
        "\n",
        "train_data = df['Close'].iloc[:train_size]\n",
        "test_data = df['Close'].iloc[train_size:train_size+test_size]\n",
        "val_data = df['Close'].iloc[train_size+test_size:]"
      ]
    },
    {
      "cell_type": "code",
      "execution_count": 12,
      "metadata": {
        "colab": {
          "base_uri": "https://localhost:8080/"
        },
        "id": "bD9EuuSiK8My",
        "outputId": "b6c87d58-def3-4264-e4d9-a1b33f3cf0a3"
      },
      "outputs": [
        {
          "name": "stdout",
          "output_type": "stream",
          "text": [
            "Looking in indexes: https://pypi.org/simple, https://us-python.pkg.dev/colab-wheels/public/simple/\n",
            "Requirement already satisfied: pmdarima in /usr/local/lib/python3.10/dist-packages (2.0.3)\n",
            "Requirement already satisfied: joblib>=0.11 in /usr/local/lib/python3.10/dist-packages (from pmdarima) (1.2.0)\n",
            "Requirement already satisfied: Cython!=0.29.18,!=0.29.31,>=0.29 in /usr/local/lib/python3.10/dist-packages (from pmdarima) (0.29.34)\n",
            "Requirement already satisfied: numpy>=1.21.2 in /usr/local/lib/python3.10/dist-packages (from pmdarima) (1.22.4)\n",
            "Requirement already satisfied: pandas>=0.19 in /usr/local/lib/python3.10/dist-packages (from pmdarima) (1.5.3)\n",
            "Requirement already satisfied: scikit-learn>=0.22 in /usr/local/lib/python3.10/dist-packages (from pmdarima) (1.2.2)\n",
            "Requirement already satisfied: scipy>=1.3.2 in /usr/local/lib/python3.10/dist-packages (from pmdarima) (1.10.1)\n",
            "Requirement already satisfied: statsmodels>=0.13.2 in /usr/local/lib/python3.10/dist-packages (from pmdarima) (0.13.5)\n",
            "Requirement already satisfied: urllib3 in /usr/local/lib/python3.10/dist-packages (from pmdarima) (1.26.15)\n",
            "Requirement already satisfied: setuptools!=50.0.0,>=38.6.0 in /usr/local/lib/python3.10/dist-packages (from pmdarima) (67.7.2)\n",
            "Requirement already satisfied: python-dateutil>=2.8.1 in /usr/local/lib/python3.10/dist-packages (from pandas>=0.19->pmdarima) (2.8.2)\n",
            "Requirement already satisfied: pytz>=2020.1 in /usr/local/lib/python3.10/dist-packages (from pandas>=0.19->pmdarima) (2022.7.1)\n",
            "Requirement already satisfied: threadpoolctl>=2.0.0 in /usr/local/lib/python3.10/dist-packages (from scikit-learn>=0.22->pmdarima) (3.1.0)\n",
            "Requirement already satisfied: patsy>=0.5.2 in /usr/local/lib/python3.10/dist-packages (from statsmodels>=0.13.2->pmdarima) (0.5.3)\n",
            "Requirement already satisfied: packaging>=21.3 in /usr/local/lib/python3.10/dist-packages (from statsmodels>=0.13.2->pmdarima) (23.1)\n",
            "Requirement already satisfied: six in /usr/local/lib/python3.10/dist-packages (from patsy>=0.5.2->statsmodels>=0.13.2->pmdarima) (1.16.0)\n"
          ]
        }
      ],
      "source": []
    },
    {
      "cell_type": "code",
      "execution_count": 13,
      "metadata": {
        "colab": {
          "base_uri": "https://localhost:8080/",
          "height": 681
        },
        "id": "JbQNK8an_imI",
        "outputId": "7a04f1cd-a5ab-426b-e1a0-a633a34c3ffb"
      },
      "outputs": [
        {
          "name": "stdout",
          "output_type": "stream",
          "text": [
            "Performing stepwise search to minimize aic\n",
            " ARIMA(2,1,2)(0,0,0)[0] intercept   : AIC=12890.184, Time=2.66 sec\n",
            " ARIMA(0,1,0)(0,0,0)[0] intercept   : AIC=12944.293, Time=0.06 sec\n",
            " ARIMA(1,1,0)(0,0,0)[0] intercept   : AIC=12914.219, Time=0.10 sec\n",
            " ARIMA(0,1,1)(0,0,0)[0] intercept   : AIC=12918.762, Time=0.42 sec\n",
            " ARIMA(0,1,0)(0,0,0)[0]             : AIC=12942.866, Time=0.10 sec\n",
            " ARIMA(1,1,2)(0,0,0)[0] intercept   : AIC=12904.042, Time=1.00 sec\n",
            " ARIMA(2,1,1)(0,0,0)[0] intercept   : AIC=12907.316, Time=1.82 sec\n",
            " ARIMA(3,1,2)(0,0,0)[0] intercept   : AIC=12907.895, Time=4.89 sec\n",
            " ARIMA(2,1,3)(0,0,0)[0] intercept   : AIC=12891.272, Time=9.93 sec\n",
            " ARIMA(1,1,1)(0,0,0)[0] intercept   : AIC=12910.879, Time=2.68 sec\n",
            " ARIMA(1,1,3)(0,0,0)[0] intercept   : AIC=12904.166, Time=6.22 sec\n",
            " ARIMA(3,1,1)(0,0,0)[0] intercept   : AIC=12907.171, Time=1.14 sec\n",
            " ARIMA(3,1,3)(0,0,0)[0] intercept   : AIC=12877.929, Time=4.24 sec\n",
            " ARIMA(4,1,3)(0,0,0)[0] intercept   : AIC=12874.878, Time=6.45 sec\n",
            " ARIMA(4,1,2)(0,0,0)[0] intercept   : AIC=12884.456, Time=4.13 sec\n",
            " ARIMA(5,1,3)(0,0,0)[0] intercept   : AIC=12875.948, Time=4.63 sec\n",
            " ARIMA(4,1,4)(0,0,0)[0] intercept   : AIC=12875.177, Time=7.53 sec\n",
            " ARIMA(3,1,4)(0,0,0)[0] intercept   : AIC=12873.720, Time=4.88 sec\n",
            " ARIMA(2,1,4)(0,0,0)[0] intercept   : AIC=12877.304, Time=6.27 sec\n",
            " ARIMA(3,1,5)(0,0,0)[0] intercept   : AIC=12875.131, Time=6.58 sec\n",
            " ARIMA(2,1,5)(0,0,0)[0] intercept   : AIC=12874.026, Time=9.06 sec\n",
            " ARIMA(4,1,5)(0,0,0)[0] intercept   : AIC=12877.666, Time=11.32 sec\n",
            " ARIMA(3,1,4)(0,0,0)[0]             : AIC=12872.262, Time=1.99 sec\n",
            " ARIMA(2,1,4)(0,0,0)[0]             : AIC=12875.845, Time=1.42 sec\n",
            " ARIMA(3,1,3)(0,0,0)[0]             : AIC=12876.621, Time=1.61 sec\n",
            " ARIMA(4,1,4)(0,0,0)[0]             : AIC=12875.624, Time=2.92 sec\n",
            " ARIMA(3,1,5)(0,0,0)[0]             : AIC=12873.690, Time=4.48 sec\n",
            " ARIMA(2,1,3)(0,0,0)[0]             : AIC=12889.945, Time=1.39 sec\n",
            " ARIMA(2,1,5)(0,0,0)[0]             : AIC=12872.652, Time=1.35 sec\n",
            " ARIMA(4,1,3)(0,0,0)[0]             : AIC=12873.463, Time=1.32 sec\n",
            " ARIMA(4,1,5)(0,0,0)[0]             : AIC=12876.259, Time=2.01 sec\n",
            "\n",
            "Best model:  ARIMA(3,1,4)(0,0,0)[0]          \n",
            "Total fit time: 114.669 seconds\n"
          ]
        },
        {
          "data": {
            "text/html": [
              "<style>#sk-container-id-2 {color: black;background-color: white;}#sk-container-id-2 pre{padding: 0;}#sk-container-id-2 div.sk-toggleable {background-color: white;}#sk-container-id-2 label.sk-toggleable__label {cursor: pointer;display: block;width: 100%;margin-bottom: 0;padding: 0.3em;box-sizing: border-box;text-align: center;}#sk-container-id-2 label.sk-toggleable__label-arrow:before {content: \"▸\";float: left;margin-right: 0.25em;color: #696969;}#sk-container-id-2 label.sk-toggleable__label-arrow:hover:before {color: black;}#sk-container-id-2 div.sk-estimator:hover label.sk-toggleable__label-arrow:before {color: black;}#sk-container-id-2 div.sk-toggleable__content {max-height: 0;max-width: 0;overflow: hidden;text-align: left;background-color: #f0f8ff;}#sk-container-id-2 div.sk-toggleable__content pre {margin: 0.2em;color: black;border-radius: 0.25em;background-color: #f0f8ff;}#sk-container-id-2 input.sk-toggleable__control:checked~div.sk-toggleable__content {max-height: 200px;max-width: 100%;overflow: auto;}#sk-container-id-2 input.sk-toggleable__control:checked~label.sk-toggleable__label-arrow:before {content: \"▾\";}#sk-container-id-2 div.sk-estimator input.sk-toggleable__control:checked~label.sk-toggleable__label {background-color: #d4ebff;}#sk-container-id-2 div.sk-label input.sk-toggleable__control:checked~label.sk-toggleable__label {background-color: #d4ebff;}#sk-container-id-2 input.sk-hidden--visually {border: 0;clip: rect(1px 1px 1px 1px);clip: rect(1px, 1px, 1px, 1px);height: 1px;margin: -1px;overflow: hidden;padding: 0;position: absolute;width: 1px;}#sk-container-id-2 div.sk-estimator {font-family: monospace;background-color: #f0f8ff;border: 1px dotted black;border-radius: 0.25em;box-sizing: border-box;margin-bottom: 0.5em;}#sk-container-id-2 div.sk-estimator:hover {background-color: #d4ebff;}#sk-container-id-2 div.sk-parallel-item::after {content: \"\";width: 100%;border-bottom: 1px solid gray;flex-grow: 1;}#sk-container-id-2 div.sk-label:hover label.sk-toggleable__label {background-color: #d4ebff;}#sk-container-id-2 div.sk-serial::before {content: \"\";position: absolute;border-left: 1px solid gray;box-sizing: border-box;top: 0;bottom: 0;left: 50%;z-index: 0;}#sk-container-id-2 div.sk-serial {display: flex;flex-direction: column;align-items: center;background-color: white;padding-right: 0.2em;padding-left: 0.2em;position: relative;}#sk-container-id-2 div.sk-item {position: relative;z-index: 1;}#sk-container-id-2 div.sk-parallel {display: flex;align-items: stretch;justify-content: center;background-color: white;position: relative;}#sk-container-id-2 div.sk-item::before, #sk-container-id-2 div.sk-parallel-item::before {content: \"\";position: absolute;border-left: 1px solid gray;box-sizing: border-box;top: 0;bottom: 0;left: 50%;z-index: -1;}#sk-container-id-2 div.sk-parallel-item {display: flex;flex-direction: column;z-index: 1;position: relative;background-color: white;}#sk-container-id-2 div.sk-parallel-item:first-child::after {align-self: flex-end;width: 50%;}#sk-container-id-2 div.sk-parallel-item:last-child::after {align-self: flex-start;width: 50%;}#sk-container-id-2 div.sk-parallel-item:only-child::after {width: 0;}#sk-container-id-2 div.sk-dashed-wrapped {border: 1px dashed gray;margin: 0 0.4em 0.5em 0.4em;box-sizing: border-box;padding-bottom: 0.4em;background-color: white;}#sk-container-id-2 div.sk-label label {font-family: monospace;font-weight: bold;display: inline-block;line-height: 1.2em;}#sk-container-id-2 div.sk-label-container {text-align: center;}#sk-container-id-2 div.sk-container {/* jupyter's `normalize.less` sets `[hidden] { display: none; }` but bootstrap.min.css set `[hidden] { display: none !important; }` so we also need the `!important` here to be able to override the default hidden behavior on the sphinx rendered scikit-learn.org. See: https://github.com/scikit-learn/scikit-learn/issues/21755 */display: inline-block !important;position: relative;}#sk-container-id-2 div.sk-text-repr-fallback {display: none;}</style><div id=\"sk-container-id-2\" class=\"sk-top-container\"><div class=\"sk-text-repr-fallback\"><pre> ARIMA(3,1,4)(0,0,0)[0]          </pre><b>In a Jupyter environment, please rerun this cell to show the HTML representation or trust the notebook. <br />On GitHub, the HTML representation is unable to render, please try loading this page with nbviewer.org.</b></div><div class=\"sk-container\" hidden><div class=\"sk-item\"><div class=\"sk-estimator sk-toggleable\"><input class=\"sk-toggleable__control sk-hidden--visually\" id=\"sk-estimator-id-2\" type=\"checkbox\" checked><label for=\"sk-estimator-id-2\" class=\"sk-toggleable__label sk-toggleable__label-arrow\">ARIMA</label><div class=\"sk-toggleable__content\"><pre> ARIMA(3,1,4)(0,0,0)[0]          </pre></div></div></div></div></div>"
            ],
            "text/plain": [
              "ARIMA(order=(3, 1, 4), scoring_args={}, suppress_warnings=True,\n",
              "      with_intercept=False)"
            ]
          },
          "execution_count": 13,
          "metadata": {},
          "output_type": "execute_result"
        }
      ],
      "source": [
        "# 3. Quá trình Training\n",
        "x_train = np.array(train_data.index).reshape(-1, 1)\n",
        "y_train = np.array(train_data)\n",
        "\n",
        "# Find the best ARIMA model using auto_arima\n",
        "from pmdarima.arima import auto_arima\n",
        "model = auto_arima(y_train, trace=True, error_action='ignore', suppress_warnings=True)\n",
        "\n",
        "# Fit the model\n",
        "model.fit(y_train)"
      ]
    },
    {
      "cell_type": "code",
      "execution_count": 14,
      "metadata": {
        "id": "tq3vSOvd_xL3"
      },
      "outputs": [],
      "source": [
        "# 4. Quá trình testing\n",
        "x_test = np.array(test_data.index).reshape(-1, 1)\n",
        "y_test = np.array(test_data)\n",
        "y_pred = model.predict(n_periods=len(y_test))\n",
        "\n",
        "# 5. Quá trình Validate\n",
        "x_val= np.array(val_data.index).reshape(-1, 1)\n",
        "y_val = np.array(val_data)\n",
        "y_pred_val =  model.predict(n_periods=len(y_val))"
      ]
    },
    {
      "cell_type": "code",
      "execution_count": 15,
      "metadata": {
        "colab": {
          "base_uri": "https://localhost:8080/"
        },
        "id": "mI2qmayj_-rD",
        "outputId": "4dd43e83-a71b-44fe-d1f4-4fe16448e7a0"
      },
      "outputs": [
        {
          "name": "stdout",
          "output_type": "stream",
          "text": [
            "Predicted closing prices for the next 30 days:\n",
            "[384.82413044 383.93562833 387.37280998 387.32801994 384.1328326\n",
            " 386.78734773 386.68775719 385.52051784 385.90286729 386.69151349\n",
            " 385.79250383 385.9632505  386.31744251 386.09600121 385.92956934\n",
            " 386.21801193 386.11816019 386.02284721 386.11772355 386.14143716\n",
            " 386.05414407 386.09946219 386.12102574 386.08585435 386.0878095\n",
            " 386.11247247 386.09443668 386.09114847 386.10294786 386.09943164]\n"
          ]
        }
      ],
      "source": [
        "# 6. Quá trình tạo index predict 30 ngày tiếp theo\n",
        "last_index =  df.index[-1]\n",
        "last_data = pd.RangeIndex(start=last_index, stop=last_index+30, step=1)\n",
        "\n",
        "# Create an array of 30 consecutive integers starting from last_index\n",
        "x_next_30_days = np.array(range(last_index+1, last_index+31)).reshape(-1, 1)\n",
        "\n",
        "# Predict the closing prices for the next 30 days\n",
        "y_next_30_days = model.predict(n_periods=len(x_next_30_days))\n",
        "\n",
        "# Print the predicted closing prices for the next 30 days\n",
        "print('Predicted closing prices for the next 30 days:')\n",
        "print(y_next_30_days)"
      ]
    },
    {
      "cell_type": "code",
      "execution_count": 16,
      "metadata": {
        "colab": {
          "base_uri": "https://localhost:8080/"
        },
        "id": "JwcVt4wgAHCy",
        "outputId": "afcf9111-9582-4f04-b9fd-dbeac93389ab"
      },
      "outputs": [
        {
          "name": "stdout",
          "output_type": "stream",
          "text": [
            "The root mean squared error (RMSE) on test set: 109.579\n",
            "The explained variance score (EVS) on test set: -0.002\n",
            "The mean absolute percentage error (MAPE) on test set: 0.389\n"
          ]
        }
      ],
      "source": [
        "# 7. Đánh giá độ chính xác validate, test\n",
        "from sklearn.metrics import mean_absolute_percentage_error, explained_variance_score\n",
        "# RMSE\n",
        "rmse = np.sqrt(np.mean((y_pred - y_test)**2))\n",
        "print(\"The root mean squared error (RMSE) on test set: {:.3f}\".format(rmse))\n",
        "# EVS\n",
        "evs = explained_variance_score(test_data, y_pred)\n",
        "print(\"The explained variance score (EVS) on test set: {:.3f}\".format(evs))\n",
        "#MAPE\n",
        "mape = mean_absolute_percentage_error(test_data, y_pred)\n",
        "print(\"The mean absolute percentage error (MAPE) on test set: {:.3f}\".format(mape))"
      ]
    },
    {
      "cell_type": "code",
      "execution_count": 17,
      "metadata": {
        "colab": {
          "base_uri": "https://localhost:8080/",
          "height": 431
        },
        "id": "DE3Pge7a0EHs",
        "outputId": "ef8d0a64-b711-4269-f701-7ec45549dcf2"
      },
      "outputs": [
        {
          "data": {
            "image/png": "[encoded data removed]",
            "text/plain": [
              "<Figure size 640x480 with 1 Axes>"
            ]
          },
          "metadata": {},
          "output_type": "display_data"
        }
      ],
      "source": [
        "# 9.Vẽ hình\n",
        "plt.plot(train_data.index, train_data)\n",
        "plt.plot(test_data.index, test_data)\n",
        "plt.plot(test_data.index, y_pred)\n",
        "plt.plot(val_data.index, y_pred_val)\n",
        "plt.plot(last_data,y_next_30_days)\n",
        "plt.legend(['Train', 'Test', 'Predictions','Validate','Next30Day'])\n",
        "plt.show()"
      ]
    },
    {
      "cell_type": "code",
      "execution_count": 18,
      "metadata": {
        "id": "Eyxpcd3v7i-k"
      },
      "outputs": [],
      "source": [
        "# test_data.index"
      ]
    }
  ],
  "metadata": {
    "colab": {
      "provenance": []
    },
    "kernelspec": {
      "display_name": "Python 3",
      "name": "python3"
    },
    "language_info": {
      "codemirror_mode": {
        "name": "ipython",
        "version": 3
      },
      "file_extension": ".py",
      "mimetype": "text/x-python",
      "name": "python",
      "nbconvert_exporter": "python",
      "pygments_lexer": "ipython3",
      "version": "3.11.2"
    }
  },
  "nbformat": 4,
  "nbformat_minor": 0
}

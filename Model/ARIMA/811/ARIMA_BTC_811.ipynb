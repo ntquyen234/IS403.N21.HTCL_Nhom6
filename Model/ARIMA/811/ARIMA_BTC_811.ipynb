{
  "cells": [
    {
      "cell_type": "code",
      "execution_count": 1,
      "metadata": {
        "id": "TOsoPjnYzZCW"
      },
      "outputs": [],
      "source": [
        "# 1. Các thư viện cần thiết\n",
        "import numpy as np\n",
        "import pandas as pd\n",
        "import matplotlib.pyplot as plt\n",
        "from sklearn.preprocessing import MinMaxScaler\n",
        "from sklearn.linear_model import LinearRegression\n"
      ]
    },
    {
      "cell_type": "code",
      "execution_count": 2,
      "metadata": {
        "colab": {
          "base_uri": "https://localhost:8080/"
        },
        "id": "gJuOh8-y_Uif",
        "outputId": "b8dbb855-531a-4558-c828-b33faf5e8a15"
      },
      "outputs": [
        {
          "name": "stdout",
          "output_type": "stream",
          "text": [
            "           Date          Open          High           Low         Close  \\\n",
            "0     9/17/2014    465.864014    468.174011    452.421997    457.334015   \n",
            "1     9/18/2014    456.859985    456.859985    413.104004    424.440002   \n",
            "2     9/19/2014    424.102997    427.834991    384.532013    394.795990   \n",
            "3     9/20/2014    394.673004    423.295990    389.882996    408.903992   \n",
            "4     9/21/2014    408.084991    412.425995    393.181000    398.821014   \n",
            "...         ...           ...           ...           ...           ...   \n",
            "3188  6/10/2023  26481.761720  26531.044920  25501.835940  25851.240230   \n",
            "3189  6/11/2023  25854.031250  26203.439450  25668.986330  25940.167970   \n",
            "3190  6/12/2023  25934.285160  26087.919920  25675.197270  25902.500000   \n",
            "3191  6/13/2023  25902.941410  26376.351560  25728.365230  25918.728520   \n",
            "3192  6/14/2023  25920.257810  26041.800780  24902.152340  25124.675780   \n",
            "\n",
            "         Adj Close        Volume  \n",
            "0       457.334015  2.105680e+07  \n",
            "1       424.440002  3.448320e+07  \n",
            "2       394.795990  3.791970e+07  \n",
            "3       408.903992  3.686360e+07  \n",
            "4       398.821014  2.658010e+07  \n",
            "...            ...           ...  \n",
            "3188  25851.240230  1.987293e+10  \n",
            "3189  25940.167970  1.073261e+10  \n",
            "3190  25902.500000  1.167789e+10  \n",
            "3191  25918.728520  1.414347e+10  \n",
            "3192  25124.675780  1.426572e+10  \n",
            "\n",
            "[3193 rows x 7 columns]\n"
          ]
        }
      ],
      "source": [
        "# 2. Đọc file dữ liệu chứng khoán AAPL và chia train test validate theo tỉ lệ 8:1:1\n",
        "df = pd.read_csv('../../../Data/BTC-USD.csv')\n",
        "df['Close'] = df['Close']\n",
        "print(df)\n",
        "\n",
        "df = df.dropna() # Drop missing values\n",
        "df = df.reset_index(drop=True) # Reset the index\n",
        "\n",
        "# Split the data into training, testing, and validation sets\n",
        "train_size = int(0.8 * len(df))\n",
        "test_size = int(0.1 * len(df))\n",
        "val_size = len(df) - train_size - test_size\n",
        "\n",
        "train_data = df['Close'].iloc[:train_size]\n",
        "test_data = df['Close'].iloc[train_size:train_size+test_size]\n",
        "val_data = df['Close'].iloc[train_size+test_size:]"
      ]
    },
    {
      "cell_type": "code",
      "execution_count": null,
      "metadata": {
        "colab": {
          "base_uri": "https://localhost:8080/"
        },
        "id": "bD9EuuSiK8My",
        "outputId": "b7eeee32-e84f-4da9-8b46-c6c584397266"
      },
      "outputs": [],
      "source": []
    },
    {
      "cell_type": "code",
      "execution_count": 3,
      "metadata": {
        "colab": {
          "base_uri": "https://localhost:8080/",
          "height": 508
        },
        "id": "JbQNK8an_imI",
        "outputId": "d269c163-3764-4259-fb16-10d77d0d6f8b"
      },
      "outputs": [
        {
          "name": "stdout",
          "output_type": "stream",
          "text": [
            "Performing stepwise search to minimize aic\n",
            " ARIMA(2,1,2)(0,0,0)[0] intercept   : AIC=40524.748, Time=0.37 sec\n",
            " ARIMA(0,1,0)(0,0,0)[0] intercept   : AIC=40540.905, Time=0.03 sec\n",
            " ARIMA(1,1,0)(0,0,0)[0] intercept   : AIC=40532.211, Time=0.05 sec\n",
            " ARIMA(0,1,1)(0,0,0)[0] intercept   : AIC=40533.491, Time=0.07 sec\n",
            " ARIMA(0,1,0)(0,0,0)[0]             : AIC=40540.589, Time=0.01 sec\n",
            " ARIMA(1,1,2)(0,0,0)[0] intercept   : AIC=40522.783, Time=0.14 sec\n",
            " ARIMA(0,1,2)(0,0,0)[0] intercept   : AIC=40522.960, Time=0.11 sec\n",
            " ARIMA(1,1,1)(0,0,0)[0] intercept   : AIC=40528.715, Time=0.26 sec\n",
            " ARIMA(1,1,3)(0,0,0)[0] intercept   : AIC=40524.686, Time=0.89 sec\n",
            " ARIMA(0,1,3)(0,0,0)[0] intercept   : AIC=40523.115, Time=0.16 sec\n",
            " ARIMA(2,1,1)(0,0,0)[0] intercept   : AIC=40523.167, Time=0.39 sec\n",
            " ARIMA(2,1,3)(0,0,0)[0] intercept   : AIC=40526.039, Time=1.22 sec\n",
            " ARIMA(1,1,2)(0,0,0)[0]             : AIC=40521.785, Time=0.23 sec\n",
            " ARIMA(0,1,2)(0,0,0)[0]             : AIC=40522.646, Time=0.08 sec\n",
            " ARIMA(1,1,1)(0,0,0)[0]             : AIC=40528.397, Time=0.19 sec\n",
            " ARIMA(2,1,2)(0,0,0)[0]             : AIC=40523.768, Time=0.28 sec\n",
            " ARIMA(1,1,3)(0,0,0)[0]             : AIC=40523.789, Time=0.71 sec\n",
            " ARIMA(0,1,1)(0,0,0)[0]             : AIC=40533.388, Time=0.06 sec\n",
            " ARIMA(0,1,3)(0,0,0)[0]             : AIC=40522.718, Time=0.13 sec\n",
            " ARIMA(2,1,1)(0,0,0)[0]             : AIC=40521.851, Time=0.38 sec\n",
            " ARIMA(2,1,3)(0,0,0)[0]             : AIC=40525.618, Time=0.45 sec\n",
            "\n",
            "Best model:  ARIMA(1,1,2)(0,0,0)[0]          \n",
            "Total fit time: 6.219 seconds\n"
          ]
        },
        {
          "data": {
            "text/html": [
              "<style>#sk-container-id-1 {color: black;background-color: white;}#sk-container-id-1 pre{padding: 0;}#sk-container-id-1 div.sk-toggleable {background-color: white;}#sk-container-id-1 label.sk-toggleable__label {cursor: pointer;display: block;width: 100%;margin-bottom: 0;padding: 0.3em;box-sizing: border-box;text-align: center;}#sk-container-id-1 label.sk-toggleable__label-arrow:before {content: \"▸\";float: left;margin-right: 0.25em;color: #696969;}#sk-container-id-1 label.sk-toggleable__label-arrow:hover:before {color: black;}#sk-container-id-1 div.sk-estimator:hover label.sk-toggleable__label-arrow:before {color: black;}#sk-container-id-1 div.sk-toggleable__content {max-height: 0;max-width: 0;overflow: hidden;text-align: left;background-color: #f0f8ff;}#sk-container-id-1 div.sk-toggleable__content pre {margin: 0.2em;color: black;border-radius: 0.25em;background-color: #f0f8ff;}#sk-container-id-1 input.sk-toggleable__control:checked~div.sk-toggleable__content {max-height: 200px;max-width: 100%;overflow: auto;}#sk-container-id-1 input.sk-toggleable__control:checked~label.sk-toggleable__label-arrow:before {content: \"▾\";}#sk-container-id-1 div.sk-estimator input.sk-toggleable__control:checked~label.sk-toggleable__label {background-color: #d4ebff;}#sk-container-id-1 div.sk-label input.sk-toggleable__control:checked~label.sk-toggleable__label {background-color: #d4ebff;}#sk-container-id-1 input.sk-hidden--visually {border: 0;clip: rect(1px 1px 1px 1px);clip: rect(1px, 1px, 1px, 1px);height: 1px;margin: -1px;overflow: hidden;padding: 0;position: absolute;width: 1px;}#sk-container-id-1 div.sk-estimator {font-family: monospace;background-color: #f0f8ff;border: 1px dotted black;border-radius: 0.25em;box-sizing: border-box;margin-bottom: 0.5em;}#sk-container-id-1 div.sk-estimator:hover {background-color: #d4ebff;}#sk-container-id-1 div.sk-parallel-item::after {content: \"\";width: 100%;border-bottom: 1px solid gray;flex-grow: 1;}#sk-container-id-1 div.sk-label:hover label.sk-toggleable__label {background-color: #d4ebff;}#sk-container-id-1 div.sk-serial::before {content: \"\";position: absolute;border-left: 1px solid gray;box-sizing: border-box;top: 0;bottom: 0;left: 50%;z-index: 0;}#sk-container-id-1 div.sk-serial {display: flex;flex-direction: column;align-items: center;background-color: white;padding-right: 0.2em;padding-left: 0.2em;position: relative;}#sk-container-id-1 div.sk-item {position: relative;z-index: 1;}#sk-container-id-1 div.sk-parallel {display: flex;align-items: stretch;justify-content: center;background-color: white;position: relative;}#sk-container-id-1 div.sk-item::before, #sk-container-id-1 div.sk-parallel-item::before {content: \"\";position: absolute;border-left: 1px solid gray;box-sizing: border-box;top: 0;bottom: 0;left: 50%;z-index: -1;}#sk-container-id-1 div.sk-parallel-item {display: flex;flex-direction: column;z-index: 1;position: relative;background-color: white;}#sk-container-id-1 div.sk-parallel-item:first-child::after {align-self: flex-end;width: 50%;}#sk-container-id-1 div.sk-parallel-item:last-child::after {align-self: flex-start;width: 50%;}#sk-container-id-1 div.sk-parallel-item:only-child::after {width: 0;}#sk-container-id-1 div.sk-dashed-wrapped {border: 1px dashed gray;margin: 0 0.4em 0.5em 0.4em;box-sizing: border-box;padding-bottom: 0.4em;background-color: white;}#sk-container-id-1 div.sk-label label {font-family: monospace;font-weight: bold;display: inline-block;line-height: 1.2em;}#sk-container-id-1 div.sk-label-container {text-align: center;}#sk-container-id-1 div.sk-container {/* jupyter's `normalize.less` sets `[hidden] { display: none; }` but bootstrap.min.css set `[hidden] { display: none !important; }` so we also need the `!important` here to be able to override the default hidden behavior on the sphinx rendered scikit-learn.org. See: https://github.com/scikit-learn/scikit-learn/issues/21755 */display: inline-block !important;position: relative;}#sk-container-id-1 div.sk-text-repr-fallback {display: none;}</style><div id=\"sk-container-id-1\" class=\"sk-top-container\"><div class=\"sk-text-repr-fallback\"><pre> ARIMA(1,1,2)(0,0,0)[0]          </pre><b>In a Jupyter environment, please rerun this cell to show the HTML representation or trust the notebook. <br />On GitHub, the HTML representation is unable to render, please try loading this page with nbviewer.org.</b></div><div class=\"sk-container\" hidden><div class=\"sk-item\"><div class=\"sk-estimator sk-toggleable\"><input class=\"sk-toggleable__control sk-hidden--visually\" id=\"sk-estimator-id-1\" type=\"checkbox\" checked><label for=\"sk-estimator-id-1\" class=\"sk-toggleable__label sk-toggleable__label-arrow\">ARIMA</label><div class=\"sk-toggleable__content\"><pre> ARIMA(1,1,2)(0,0,0)[0]          </pre></div></div></div></div></div>"
            ],
            "text/plain": [
              "ARIMA(order=(1, 1, 2), scoring_args={}, suppress_warnings=True,\n",
              "      with_intercept=False)"
            ]
          },
          "execution_count": 3,
          "metadata": {},
          "output_type": "execute_result"
        }
      ],
      "source": [
        "# 3. Quá trình Training\n",
        "x_train = np.array(train_data.index).reshape(-1, 1)\n",
        "y_train = np.array(train_data)\n",
        "\n",
        "# Find the best ARIMA model using auto_arima\n",
        "from pmdarima.arima import auto_arima\n",
        "model = auto_arima(y_train, trace=True, error_action='ignore', suppress_warnings=True)\n",
        "\n",
        "# Fit the model\n",
        "model.fit(y_train)"
      ]
    },
    {
      "cell_type": "code",
      "execution_count": 4,
      "metadata": {
        "id": "tq3vSOvd_xL3"
      },
      "outputs": [],
      "source": [
        "# 4. Quá trình testing\n",
        "x_test = np.array(test_data.index).reshape(-1, 1)\n",
        "y_test = np.array(test_data)\n",
        "y_pred = model.predict(n_periods=len(y_test))\n",
        "\n",
        "# 5. Quá trình Validate\n",
        "x_val= np.array(val_data.index).reshape(-1, 1)\n",
        "y_val = np.array(val_data)\n",
        "y_pred_val =  model.predict(n_periods=len(y_val))"
      ]
    },
    {
      "cell_type": "code",
      "execution_count": 5,
      "metadata": {
        "colab": {
          "base_uri": "https://localhost:8080/"
        },
        "id": "mI2qmayj_-rD",
        "outputId": "2cadd8e3-a208-4ee2-919f-164c35bda2bf"
      },
      "outputs": [
        {
          "name": "stdout",
          "output_type": "stream",
          "text": [
            "Predicted closing prices for the next 30 days:\n",
            "[45080.14433279 45035.92170194 45016.01722205 45007.05827248\n",
            " 45003.02587485 45001.21090419 45000.39399108 45000.02630082\n",
            " 44999.86080449 44999.78631506 44999.75278758 44999.73769696\n",
            " 44999.73090471 44999.72784754 44999.72647152 44999.72585217\n",
            " 44999.72557341 44999.72544794 44999.72539146 44999.72536604\n",
            " 44999.7253546  44999.72534945 44999.72534713 44999.72534609\n",
            " 44999.72534562 44999.72534541 44999.72534531 44999.72534527\n",
            " 44999.72534525 44999.72534524]\n"
          ]
        }
      ],
      "source": [
        "# 6. Quá trình tạo index predict 30 ngày tiếp theo\n",
        "last_index =  df.index[-1]\n",
        "last_data = pd.RangeIndex(start=last_index, stop=last_index+30, step=1)\n",
        "\n",
        "# Create an array of 30 consecutive integers starting from last_index\n",
        "x_next_30_days = np.array(range(last_index+1, last_index+31)).reshape(-1, 1)\n",
        "\n",
        "# Predict the closing prices for the next 30 days\n",
        "y_next_30_days = model.predict(n_periods=len(x_next_30_days))\n",
        "\n",
        "# Print the predicted closing prices for the next 30 days\n",
        "print('Predicted closing prices for the next 30 days:')\n",
        "print(y_next_30_days)"
      ]
    },
    {
      "cell_type": "code",
      "execution_count": 6,
      "metadata": {
        "colab": {
          "base_uri": "https://localhost:8080/"
        },
        "id": "JwcVt4wgAHCy",
        "outputId": "ca4854c5-c3df-4f58-f770-74c58e3eda27"
      },
      "outputs": [
        {
          "name": "stdout",
          "output_type": "stream",
          "text": [
            "The root mean squared error (RMSE) on test set: 12838.527\n",
            "The explained variance score (EVS) on test set: 0.000\n",
            "The mean absolute percentage error (MAPE) on test set: 0.323\n"
          ]
        }
      ],
      "source": [
        "# 7. Đánh giá độ chính xác validate, test\n",
        "from sklearn.metrics import mean_absolute_percentage_error, explained_variance_score\n",
        "# RMSE\n",
        "rmse = np.sqrt(np.mean((y_pred - y_test)**2))\n",
        "print(\"The root mean squared error (RMSE) on test set: {:.3f}\".format(rmse))\n",
        "# EVS\n",
        "evs = explained_variance_score(test_data, y_pred)\n",
        "print(\"The explained variance score (EVS) on test set: {:.3f}\".format(evs))\n",
        "#MAPE\n",
        "mape = mean_absolute_percentage_error(test_data, y_pred)\n",
        "print(\"The mean absolute percentage error (MAPE) on test set: {:.3f}\".format(mape))"
      ]
    },
    {
      "cell_type": "code",
      "execution_count": 7,
      "metadata": {
        "colab": {
          "base_uri": "https://localhost:8080/",
          "height": 431
        },
        "id": "DE3Pge7a0EHs",
        "outputId": "5a2ff103-69d0-4e27-c75b-b8fb615bab47"
      },
      "outputs": [
        {
          "data": {
            "image/png": "[encoded data removed]",
            "text/plain": [
              "<Figure size 640x480 with 1 Axes>"
            ]
          },
          "metadata": {},
          "output_type": "display_data"
        }
      ],
      "source": [
        "# 9.Vẽ hình\n",
        "plt.plot(train_data.index, train_data)\n",
        "plt.plot(test_data.index, test_data)\n",
        "plt.plot(test_data.index, y_pred)\n",
        "plt.plot(val_data.index, y_pred_val)\n",
        "plt.plot(last_data,y_next_30_days)\n",
        "plt.legend(['Train', 'Test', 'Predictions','Validate','Next30Day'])\n",
        "plt.show()"
      ]
    },
    {
      "cell_type": "code",
      "execution_count": 8,
      "metadata": {
        "id": "Eyxpcd3v7i-k"
      },
      "outputs": [],
      "source": [
        "# test_data.index"
      ]
    }
  ],
  "metadata": {
    "colab": {
      "provenance": []
    },
    "kernelspec": {
      "display_name": "Python 3",
      "name": "python3"
    },
    "language_info": {
      "codemirror_mode": {
        "name": "ipython",
        "version": 3
      },
      "file_extension": ".py",
      "mimetype": "text/x-python",
      "name": "python",
      "nbconvert_exporter": "python",
      "pygments_lexer": "ipython3",
      "version": "3.11.2"
    }
  },
  "nbformat": 4,
  "nbformat_minor": 0
}

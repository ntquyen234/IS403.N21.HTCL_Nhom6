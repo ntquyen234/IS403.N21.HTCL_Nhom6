{
 "cells": [
  {
   "cell_type": "code",
   "execution_count": 37,
   "metadata": {},
   "outputs": [],
   "source": [
    "import pandas as pd\n",
    "import numpy as np\n",
    "import matplotlib.pyplot as plt\n",
    "from sklearn.metrics import mean_squared_error\n",
    "from statsmodels.tsa.holtwinters import ExponentialSmoothing"
   ]
  },
  {
   "cell_type": "code",
   "execution_count": 38,
   "metadata": {},
   "outputs": [
    {
     "data": {
      "text/html": [
       "<div>\n",
       "<style scoped>\n",
       "    .dataframe tbody tr th:only-of-type {\n",
       "        vertical-align: middle;\n",
       "    }\n",
       "\n",
       "    .dataframe tbody tr th {\n",
       "        vertical-align: top;\n",
       "    }\n",
       "\n",
       "    .dataframe thead th {\n",
       "        text-align: right;\n",
       "    }\n",
       "</style>\n",
       "<table border=\"1\" class=\"dataframe\">\n",
       "  <thead>\n",
       "    <tr style=\"text-align: right;\">\n",
       "      <th></th>\n",
       "      <th>Date</th>\n",
       "      <th>Close</th>\n",
       "      <th>MonthYear</th>\n",
       "    </tr>\n",
       "  </thead>\n",
       "  <tbody>\n",
       "    <tr>\n",
       "      <th>0</th>\n",
       "      <td>2014-09-17</td>\n",
       "      <td>457.334015</td>\n",
       "      <td>2014-9</td>\n",
       "    </tr>\n",
       "    <tr>\n",
       "      <th>1</th>\n",
       "      <td>2014-09-18</td>\n",
       "      <td>424.440002</td>\n",
       "      <td>NaN</td>\n",
       "    </tr>\n",
       "    <tr>\n",
       "      <th>2</th>\n",
       "      <td>2014-09-19</td>\n",
       "      <td>394.795990</td>\n",
       "      <td>NaN</td>\n",
       "    </tr>\n",
       "    <tr>\n",
       "      <th>3</th>\n",
       "      <td>2014-09-20</td>\n",
       "      <td>408.903992</td>\n",
       "      <td>NaN</td>\n",
       "    </tr>\n",
       "    <tr>\n",
       "      <th>4</th>\n",
       "      <td>2014-09-21</td>\n",
       "      <td>398.821014</td>\n",
       "      <td>NaN</td>\n",
       "    </tr>\n",
       "    <tr>\n",
       "      <th>...</th>\n",
       "      <td>...</td>\n",
       "      <td>...</td>\n",
       "      <td>...</td>\n",
       "    </tr>\n",
       "    <tr>\n",
       "      <th>3143</th>\n",
       "      <td>2023-04-26</td>\n",
       "      <td>28422.701172</td>\n",
       "      <td>NaN</td>\n",
       "    </tr>\n",
       "    <tr>\n",
       "      <th>3144</th>\n",
       "      <td>2023-04-27</td>\n",
       "      <td>29473.787109</td>\n",
       "      <td>NaN</td>\n",
       "    </tr>\n",
       "    <tr>\n",
       "      <th>3145</th>\n",
       "      <td>2023-04-28</td>\n",
       "      <td>29340.261719</td>\n",
       "      <td>NaN</td>\n",
       "    </tr>\n",
       "    <tr>\n",
       "      <th>3146</th>\n",
       "      <td>2023-04-29</td>\n",
       "      <td>29248.488281</td>\n",
       "      <td>NaN</td>\n",
       "    </tr>\n",
       "    <tr>\n",
       "      <th>3147</th>\n",
       "      <td>2023-04-30</td>\n",
       "      <td>29257.994141</td>\n",
       "      <td>NaN</td>\n",
       "    </tr>\n",
       "  </tbody>\n",
       "</table>\n",
       "<p>3148 rows × 3 columns</p>\n",
       "</div>"
      ],
      "text/plain": [
       "           Date         Close MonthYear\n",
       "0    2014-09-17    457.334015    2014-9\n",
       "1    2014-09-18    424.440002       NaN\n",
       "2    2014-09-19    394.795990       NaN\n",
       "3    2014-09-20    408.903992       NaN\n",
       "4    2014-09-21    398.821014       NaN\n",
       "...         ...           ...       ...\n",
       "3143 2023-04-26  28422.701172       NaN\n",
       "3144 2023-04-27  29473.787109       NaN\n",
       "3145 2023-04-28  29340.261719       NaN\n",
       "3146 2023-04-29  29248.488281       NaN\n",
       "3147 2023-04-30  29257.994141       NaN\n",
       "\n",
       "[3148 rows x 3 columns]"
      ]
     },
     "execution_count": 38,
     "metadata": {},
     "output_type": "execute_result"
    }
   ],
   "source": [
    "df = pd.read_csv('../../../Data/BTC-USD.csv', usecols=['Date', 'Close'])\n",
    "df['Date'] = pd.to_datetime(df['Date'])\n",
    "df['MonthYear'] = df['Date'].dt.year.astype(str) +'-'+df['Date'].dt.month.astype(str)\n",
    "df['MonthYear'] = df['MonthYear'].drop_duplicates()\n",
    "df.dropna()\n",
    "df.reset_index(drop=True)\n",
    "df"
   ]
  },
  {
   "cell_type": "code",
   "execution_count": 39,
   "metadata": {},
   "outputs": [],
   "source": [
    "# Train test val split in 8-1-1 set\n",
    "test_size = int(len(df)*0.10)\n",
    "val_size = int(len(df)*0.10)\n",
    "train_size = int(len(df)-test_size-val_size)\n",
    "\n",
    "train_data = df[:train_size]\n",
    "test_data = df[train_size:train_size+test_size]\n",
    "val_data = df[train_size+test_size:]"
   ]
  },
  {
   "cell_type": "code",
   "execution_count": 40,
   "metadata": {},
   "outputs": [],
   "source": [
    "# Fitting\n",
    "es = ExponentialSmoothing(train_data['Close'], trend='mul', seasonal=None)\n",
    "model = es.fit()"
   ]
  },
  {
   "cell_type": "code",
   "execution_count": 41,
   "metadata": {},
   "outputs": [],
   "source": [
    "# Making predictions\n",
    "y_test_pred = model.predict(start=test_data.index[0], end=test_data.index[-1])\n",
    "y_val_pred = model.predict(start=val_data.index[0], end=val_data.index[-1])\n"
   ]
  },
  {
   "cell_type": "code",
   "execution_count": 42,
   "metadata": {},
   "outputs": [
    {
     "name": "stdout",
     "output_type": "stream",
     "text": [
      "The mean squared error (MSE) on test set: 83061.341\n",
      "The mean squared error (MSE) on validation set: 513073.577\n"
     ]
    }
   ],
   "source": [
    "# RMSE \n",
    "rmse = mean_squared_error(test_data['Close'], y_test_pred, squared=False)\n",
    "print(\"The root mean squared error (RMSE) on test set: {:.3f}\".format(rmse))\n",
    "rmse = mean_squared_error(val_data['Close'], y_val_pred, squared=False)\n",
    "print(\"The root mean squared error (RMSE) on validation set: {:.3f}\".format(rmse))"
   ]
  },
  {
   "cell_type": "code",
   "execution_count": 43,
   "metadata": {},
   "outputs": [
    {
     "data": {
      "text/plain": [
       "RangeIndex(start=3148, stop=3178, step=1)"
      ]
     },
     "execution_count": 43,
     "metadata": {},
     "output_type": "execute_result"
    }
   ],
   "source": [
    "# Predicting next 30 days' prices\n",
    "last_index = df.index[-1]\n",
    "X_30 = pd.RangeIndex(start=last_index+1, stop=last_index+30, step=1)\n",
    "X_30"
   ]
  },
  {
   "cell_type": "code",
   "execution_count": 44,
   "metadata": {},
   "outputs": [],
   "source": [
    "y_30_pred = model.predict(start=X_30[0], end=X_30[-1])"
   ]
  },
  {
   "cell_type": "code",
   "execution_count": 45,
   "metadata": {},
   "outputs": [
    {
     "data": {
      "image/png": "[encoded data removed]",
      "text/plain": [
       "<Figure size 1200x400 with 1 Axes>"
      ]
     },
     "metadata": {},
     "output_type": "display_data"
    }
   ],
   "source": [
    "plt.subplots(figsize=(12, 4))\n",
    "plt.plot(train_data.index, train_data['Close'])\n",
    "plt.plot(test_data.index, test_data['Close'])\n",
    "plt.plot(test_data.index, y_test_pred)\n",
    "plt.plot(val_data.index, val_data['Close'])\n",
    "plt.plot(val_data.index, y_val_pred)\n",
    "plt.plot(X_30, y_30_pred)\n",
    "plt.legend(['Train', 'Test', 'Predictions', 'Validate',\n",
    "           'Validate Pred', 'Next 30 Days Pred'])\n",
    "\n",
    "temp = df.dropna(subset=['MonthYear'])\n",
    "temp = temp['MonthYear'].loc[::3]\n",
    "plt.xticks(temp.index, temp, rotation=45)\n",
    "\n",
    "plt.xlabel('Date')\n",
    "plt.show()\n"
   ]
  }
 ],
 "metadata": {
  "kernelspec": {
   "display_name": "Python 3",
   "language": "python",
   "name": "python3"
  },
  "language_info": {
   "codemirror_mode": {
    "name": "ipython",
    "version": 3
   },
   "file_extension": ".py",
   "mimetype": "text/x-python",
   "name": "python",
   "nbconvert_exporter": "python",
   "pygments_lexer": "ipython3",
   "version": "3.11.2"
  },
  "orig_nbformat": 4
 },
 "nbformat": 4,
 "nbformat_minor": 2
}

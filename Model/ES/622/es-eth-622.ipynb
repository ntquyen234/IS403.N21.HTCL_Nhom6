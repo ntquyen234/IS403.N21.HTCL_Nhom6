{
 "cells": [
  {
   "cell_type": "code",
   "execution_count": 1,
   "metadata": {},
   "outputs": [],
   "source": [
    "import pandas as pd\n",
    "import numpy as np\n",
    "import matplotlib.pyplot as plt\n",
    "from sklearn.metrics import mean_squared_error, mean_absolute_percentage_error\n",
    "from statsmodels.tsa.holtwinters import ExponentialSmoothing"
   ]
  },
  {
   "cell_type": "code",
   "execution_count": 2,
   "metadata": {},
   "outputs": [
    {
     "data": {
      "text/html": [
       "<div>\n",
       "<style scoped>\n",
       "    .dataframe tbody tr th:only-of-type {\n",
       "        vertical-align: middle;\n",
       "    }\n",
       "\n",
       "    .dataframe tbody tr th {\n",
       "        vertical-align: top;\n",
       "    }\n",
       "\n",
       "    .dataframe thead th {\n",
       "        text-align: right;\n",
       "    }\n",
       "</style>\n",
       "<table border=\"1\" class=\"dataframe\">\n",
       "  <thead>\n",
       "    <tr style=\"text-align: right;\">\n",
       "      <th></th>\n",
       "      <th>Date</th>\n",
       "      <th>Close</th>\n",
       "      <th>MonthYear</th>\n",
       "    </tr>\n",
       "  </thead>\n",
       "  <tbody>\n",
       "    <tr>\n",
       "      <th>0</th>\n",
       "      <td>2017-11-09</td>\n",
       "      <td>320.884003</td>\n",
       "      <td>2017-11</td>\n",
       "    </tr>\n",
       "    <tr>\n",
       "      <th>1</th>\n",
       "      <td>2017-11-10</td>\n",
       "      <td>299.252991</td>\n",
       "      <td>NaN</td>\n",
       "    </tr>\n",
       "    <tr>\n",
       "      <th>2</th>\n",
       "      <td>2017-11-11</td>\n",
       "      <td>314.681000</td>\n",
       "      <td>NaN</td>\n",
       "    </tr>\n",
       "    <tr>\n",
       "      <th>3</th>\n",
       "      <td>2017-11-12</td>\n",
       "      <td>307.907990</td>\n",
       "      <td>NaN</td>\n",
       "    </tr>\n",
       "    <tr>\n",
       "      <th>4</th>\n",
       "      <td>2017-11-13</td>\n",
       "      <td>316.716003</td>\n",
       "      <td>NaN</td>\n",
       "    </tr>\n",
       "    <tr>\n",
       "      <th>...</th>\n",
       "      <td>...</td>\n",
       "      <td>...</td>\n",
       "      <td>...</td>\n",
       "    </tr>\n",
       "    <tr>\n",
       "      <th>2039</th>\n",
       "      <td>2023-06-10</td>\n",
       "      <td>1752.384766</td>\n",
       "      <td>NaN</td>\n",
       "    </tr>\n",
       "    <tr>\n",
       "      <th>2040</th>\n",
       "      <td>2023-06-11</td>\n",
       "      <td>1753.415283</td>\n",
       "      <td>NaN</td>\n",
       "    </tr>\n",
       "    <tr>\n",
       "      <th>2041</th>\n",
       "      <td>2023-06-12</td>\n",
       "      <td>1742.528687</td>\n",
       "      <td>NaN</td>\n",
       "    </tr>\n",
       "    <tr>\n",
       "      <th>2042</th>\n",
       "      <td>2023-06-13</td>\n",
       "      <td>1739.037598</td>\n",
       "      <td>NaN</td>\n",
       "    </tr>\n",
       "    <tr>\n",
       "      <th>2043</th>\n",
       "      <td>2023-06-14</td>\n",
       "      <td>1650.519287</td>\n",
       "      <td>NaN</td>\n",
       "    </tr>\n",
       "  </tbody>\n",
       "</table>\n",
       "<p>2044 rows × 3 columns</p>\n",
       "</div>"
      ],
      "text/plain": [
       "           Date        Close MonthYear\n",
       "0    2017-11-09   320.884003   2017-11\n",
       "1    2017-11-10   299.252991       NaN\n",
       "2    2017-11-11   314.681000       NaN\n",
       "3    2017-11-12   307.907990       NaN\n",
       "4    2017-11-13   316.716003       NaN\n",
       "...         ...          ...       ...\n",
       "2039 2023-06-10  1752.384766       NaN\n",
       "2040 2023-06-11  1753.415283       NaN\n",
       "2041 2023-06-12  1742.528687       NaN\n",
       "2042 2023-06-13  1739.037598       NaN\n",
       "2043 2023-06-14  1650.519287       NaN\n",
       "\n",
       "[2044 rows x 3 columns]"
      ]
     },
     "execution_count": 2,
     "metadata": {},
     "output_type": "execute_result"
    }
   ],
   "source": [
    "df = pd.read_csv('../../../Data/ETH-USD.csv', usecols=['Date', 'Close'])\n",
    "df['Date'] = pd.to_datetime(df['Date'])\n",
    "df['MonthYear'] = df['Date'].dt.year.astype(str) +'-'+df['Date'].dt.month.astype(str)\n",
    "df['MonthYear'] = df['MonthYear'].drop_duplicates()\n",
    "df.dropna()\n",
    "df.reset_index(drop=True)\n",
    "df"
   ]
  },
  {
   "cell_type": "code",
   "execution_count": 3,
   "metadata": {},
   "outputs": [],
   "source": [
    "# Train test val split in 7-2-1 set\n",
    "test_size = int(len(df)*0.20)\n",
    "val_size = int(len(df)*0.20)\n",
    "train_size = int(len(df)-test_size-val_size)\n",
    "\n",
    "train_data = df[:train_size]\n",
    "test_data = df[train_size:train_size+test_size]\n",
    "val_data = df[train_size+test_size:]"
   ]
  },
  {
   "cell_type": "code",
   "execution_count": 4,
   "metadata": {},
   "outputs": [],
   "source": [
    "# Fitting\n",
    "es = ExponentialSmoothing(train_data['Close'], trend='mul', seasonal=None)\n",
    "model = es.fit()"
   ]
  },
  {
   "cell_type": "code",
   "execution_count": 5,
   "metadata": {},
   "outputs": [],
   "source": [
    "# Making predictions\n",
    "y_test_pred = model.predict(start=test_data.index[0], end=test_data.index[-1])\n",
    "y_val_pred = model.predict(start=val_data.index[0], end=val_data.index[-1])\n"
   ]
  },
  {
   "cell_type": "code",
   "execution_count": 6,
   "metadata": {},
   "outputs": [
    {
     "name": "stdout",
     "output_type": "stream",
     "text": [
      "The root mean squared error (RMSE) on test set: 10206.232\n"
     ]
    }
   ],
   "source": [
    "# RMSE \n",
    "rmse = mean_squared_error(test_data['Close'], y_test_pred, squared=False)\n",
    "print(\"The root mean squared error (RMSE) on test set: {:.3f}\".format(rmse))\n",
    "# rmse = mean_squared_error(val_data['Close'], y_val_pred, squared=False)\n",
    "# print(\"The root mean squared error (RMSE) on validation set: {:.3f}\".format(rmse))"
   ]
  },
  {
   "cell_type": "code",
   "execution_count": 7,
   "metadata": {},
   "outputs": [
    {
     "name": "stdout",
     "output_type": "stream",
     "text": [
      "The mean absolute percentage error (MAPE) on test set: 2.293\n"
     ]
    }
   ],
   "source": [
    "mape = mean_absolute_percentage_error(test_data['Close'], y_test_pred)\n",
    "print(\"The mean absolute percentage error (MAPE) on test set: {:.3f}\".format(mape))"
   ]
  },
  {
   "cell_type": "code",
   "execution_count": 8,
   "metadata": {},
   "outputs": [
    {
     "data": {
      "text/plain": [
       "RangeIndex(start=2044, stop=2073, step=1)"
      ]
     },
     "execution_count": 8,
     "metadata": {},
     "output_type": "execute_result"
    }
   ],
   "source": [
    "# Predicting next 30 days' prices\n",
    "last_index = df.index[-1]\n",
    "X_30 = pd.RangeIndex(start=last_index+1, stop=last_index+30, step=1)\n",
    "X_30"
   ]
  },
  {
   "cell_type": "code",
   "execution_count": 9,
   "metadata": {},
   "outputs": [],
   "source": [
    "y_30_pred = model.predict(start=X_30[0], end=X_30[-1])"
   ]
  },
  {
   "cell_type": "code",
   "execution_count": 10,
   "metadata": {},
   "outputs": [
    {
     "data": {
      "image/png": "[encoded data removed]",
      "text/plain": [
       "<Figure size 1200x400 with 1 Axes>"
      ]
     },
     "metadata": {},
     "output_type": "display_data"
    }
   ],
   "source": [
    "plt.subplots(figsize=(12, 4))\n",
    "plt.plot(train_data.index, train_data['Close'])\n",
    "plt.plot(test_data.index, test_data['Close'])\n",
    "plt.plot(test_data.index, y_test_pred)\n",
    "plt.plot(val_data.index, val_data['Close'])\n",
    "plt.plot(val_data.index, y_val_pred)\n",
    "plt.plot(X_30, y_30_pred)\n",
    "plt.legend(['Train', 'Test', 'Predictions', 'Validate',\n",
    "           'Validate Pred', 'Next 30 Days Pred'])\n",
    "\n",
    "temp = df.dropna(subset=['MonthYear'])\n",
    "temp = temp['MonthYear'].loc[::3]\n",
    "plt.xticks(temp.index, temp, rotation=45)\n",
    "\n",
    "plt.xlabel('Date')\n",
    "plt.show()\n"
   ]
  }
 ],
 "metadata": {
  "kernelspec": {
   "display_name": "Python 3",
   "language": "python",
   "name": "python3"
  },
  "language_info": {
   "codemirror_mode": {
    "name": "ipython",
    "version": 3
   },
   "file_extension": ".py",
   "mimetype": "text/x-python",
   "name": "python",
   "nbconvert_exporter": "python",
   "pygments_lexer": "ipython3",
   "version": "3.11.2"
  },
  "orig_nbformat": 4
 },
 "nbformat": 4,
 "nbformat_minor": 2
}
